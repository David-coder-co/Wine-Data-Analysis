{
 "cells": [
  {
   "cell_type": "code",
   "execution_count": null,
   "metadata": {},
   "outputs": [],
   "source": [
    "import pandas as pd\n",
    "import numpy as np\n",
    "import plotly.express as px\n",
    "import seaborn as sns\n",
    "import matplotlib.pyplot as plt\n"
   ]
  },
  {
   "cell_type": "code",
   "execution_count": 3,
   "metadata": {},
   "outputs": [
    {
     "data": {
      "text/html": [
       "<div>\n",
       "<style scoped>\n",
       "    .dataframe tbody tr th:only-of-type {\n",
       "        vertical-align: middle;\n",
       "    }\n",
       "\n",
       "    .dataframe tbody tr th {\n",
       "        vertical-align: top;\n",
       "    }\n",
       "\n",
       "    .dataframe thead th {\n",
       "        text-align: right;\n",
       "    }\n",
       "</style>\n",
       "<table border=\"1\" class=\"dataframe\">\n",
       "  <thead>\n",
       "    <tr style=\"text-align: right;\">\n",
       "      <th></th>\n",
       "      <th>Unnamed: 0</th>\n",
       "      <th>country</th>\n",
       "      <th>description</th>\n",
       "      <th>designation</th>\n",
       "      <th>points</th>\n",
       "      <th>price</th>\n",
       "      <th>province</th>\n",
       "      <th>region_1</th>\n",
       "      <th>region_2</th>\n",
       "      <th>variety</th>\n",
       "      <th>winery</th>\n",
       "    </tr>\n",
       "  </thead>\n",
       "  <tbody>\n",
       "    <tr>\n",
       "      <th>0</th>\n",
       "      <td>0</td>\n",
       "      <td>US</td>\n",
       "      <td>This tremendous 100% varietal wine hails from ...</td>\n",
       "      <td>Martha's Vineyard</td>\n",
       "      <td>96</td>\n",
       "      <td>235.0</td>\n",
       "      <td>California</td>\n",
       "      <td>Napa Valley</td>\n",
       "      <td>Napa</td>\n",
       "      <td>Cabernet Sauvignon</td>\n",
       "      <td>Heitz</td>\n",
       "    </tr>\n",
       "    <tr>\n",
       "      <th>1</th>\n",
       "      <td>1</td>\n",
       "      <td>Spain</td>\n",
       "      <td>Ripe aromas of fig, blackberry and cassis are ...</td>\n",
       "      <td>Carodorum Selecci√≥n Especial Reserva</td>\n",
       "      <td>96</td>\n",
       "      <td>110.0</td>\n",
       "      <td>Northern Spain</td>\n",
       "      <td>Toro</td>\n",
       "      <td>NaN</td>\n",
       "      <td>Tinta de Toro</td>\n",
       "      <td>Bodega Carmen Rodr√≠guez</td>\n",
       "    </tr>\n",
       "    <tr>\n",
       "      <th>2</th>\n",
       "      <td>2</td>\n",
       "      <td>US</td>\n",
       "      <td>Mac Watson honors the memory of a wine once ma...</td>\n",
       "      <td>Special Selected Late Harvest</td>\n",
       "      <td>96</td>\n",
       "      <td>90.0</td>\n",
       "      <td>California</td>\n",
       "      <td>Knights Valley</td>\n",
       "      <td>Sonoma</td>\n",
       "      <td>Sauvignon Blanc</td>\n",
       "      <td>Macauley</td>\n",
       "    </tr>\n",
       "    <tr>\n",
       "      <th>3</th>\n",
       "      <td>3</td>\n",
       "      <td>US</td>\n",
       "      <td>This spent 20 months in 30% new French oak, an...</td>\n",
       "      <td>Reserve</td>\n",
       "      <td>96</td>\n",
       "      <td>65.0</td>\n",
       "      <td>Oregon</td>\n",
       "      <td>Willamette Valley</td>\n",
       "      <td>Willamette Valley</td>\n",
       "      <td>Pinot Noir</td>\n",
       "      <td>Ponzi</td>\n",
       "    </tr>\n",
       "    <tr>\n",
       "      <th>4</th>\n",
       "      <td>4</td>\n",
       "      <td>France</td>\n",
       "      <td>This is the top wine from La B√©gude, named af...</td>\n",
       "      <td>La Br√ªlade</td>\n",
       "      <td>95</td>\n",
       "      <td>66.0</td>\n",
       "      <td>Provence</td>\n",
       "      <td>Bandol</td>\n",
       "      <td>NaN</td>\n",
       "      <td>Provence red blend</td>\n",
       "      <td>Domaine de la B√©gude</td>\n",
       "    </tr>\n",
       "    <tr>\n",
       "      <th>5</th>\n",
       "      <td>5</td>\n",
       "      <td>Spain</td>\n",
       "      <td>Deep, dense and pure from the opening bell, th...</td>\n",
       "      <td>Numanthia</td>\n",
       "      <td>95</td>\n",
       "      <td>73.0</td>\n",
       "      <td>Northern Spain</td>\n",
       "      <td>Toro</td>\n",
       "      <td>NaN</td>\n",
       "      <td>Tinta de Toro</td>\n",
       "      <td>Numanthia</td>\n",
       "    </tr>\n",
       "    <tr>\n",
       "      <th>6</th>\n",
       "      <td>6</td>\n",
       "      <td>Spain</td>\n",
       "      <td>Slightly gritty black-fruit aromas include a s...</td>\n",
       "      <td>San Rom√°n</td>\n",
       "      <td>95</td>\n",
       "      <td>65.0</td>\n",
       "      <td>Northern Spain</td>\n",
       "      <td>Toro</td>\n",
       "      <td>NaN</td>\n",
       "      <td>Tinta de Toro</td>\n",
       "      <td>Maurodos</td>\n",
       "    </tr>\n",
       "    <tr>\n",
       "      <th>7</th>\n",
       "      <td>7</td>\n",
       "      <td>Spain</td>\n",
       "      <td>Lush cedary black-fruit aromas are luxe and of...</td>\n",
       "      <td>Carodorum √önico Crianza</td>\n",
       "      <td>95</td>\n",
       "      <td>110.0</td>\n",
       "      <td>Northern Spain</td>\n",
       "      <td>Toro</td>\n",
       "      <td>NaN</td>\n",
       "      <td>Tinta de Toro</td>\n",
       "      <td>Bodega Carmen Rodr√≠guez</td>\n",
       "    </tr>\n",
       "    <tr>\n",
       "      <th>8</th>\n",
       "      <td>8</td>\n",
       "      <td>US</td>\n",
       "      <td>This re-named vineyard was formerly bottled as...</td>\n",
       "      <td>Silice</td>\n",
       "      <td>95</td>\n",
       "      <td>65.0</td>\n",
       "      <td>Oregon</td>\n",
       "      <td>Chehalem Mountains</td>\n",
       "      <td>Willamette Valley</td>\n",
       "      <td>Pinot Noir</td>\n",
       "      <td>Bergstr√∂m</td>\n",
       "    </tr>\n",
       "    <tr>\n",
       "      <th>9</th>\n",
       "      <td>9</td>\n",
       "      <td>US</td>\n",
       "      <td>The producer sources from two blocks of the vi...</td>\n",
       "      <td>Gap's Crown Vineyard</td>\n",
       "      <td>95</td>\n",
       "      <td>60.0</td>\n",
       "      <td>California</td>\n",
       "      <td>Sonoma Coast</td>\n",
       "      <td>Sonoma</td>\n",
       "      <td>Pinot Noir</td>\n",
       "      <td>Blue Farm</td>\n",
       "    </tr>\n",
       "  </tbody>\n",
       "</table>\n",
       "</div>"
      ],
      "text/plain": [
       "   Unnamed: 0 country                                        description  \\\n",
       "0           0      US  This tremendous 100% varietal wine hails from ...   \n",
       "1           1   Spain  Ripe aromas of fig, blackberry and cassis are ...   \n",
       "2           2      US  Mac Watson honors the memory of a wine once ma...   \n",
       "3           3      US  This spent 20 months in 30% new French oak, an...   \n",
       "4           4  France  This is the top wine from La B√©gude, named af...   \n",
       "5           5   Spain  Deep, dense and pure from the opening bell, th...   \n",
       "6           6   Spain  Slightly gritty black-fruit aromas include a s...   \n",
       "7           7   Spain  Lush cedary black-fruit aromas are luxe and of...   \n",
       "8           8      US  This re-named vineyard was formerly bottled as...   \n",
       "9           9      US  The producer sources from two blocks of the vi...   \n",
       "\n",
       "                             designation  points  price        province  \\\n",
       "0                      Martha's Vineyard      96  235.0      California   \n",
       "1  Carodorum Selecci√≥n Especial Reserva      96  110.0  Northern Spain   \n",
       "2          Special Selected Late Harvest      96   90.0      California   \n",
       "3                                Reserve      96   65.0          Oregon   \n",
       "4                            La Br√ªlade      95   66.0        Provence   \n",
       "5                              Numanthia      95   73.0  Northern Spain   \n",
       "6                             San Rom√°n      95   65.0  Northern Spain   \n",
       "7               Carodorum √önico Crianza      95  110.0  Northern Spain   \n",
       "8                                 Silice      95   65.0          Oregon   \n",
       "9                   Gap's Crown Vineyard      95   60.0      California   \n",
       "\n",
       "             region_1           region_2             variety  \\\n",
       "0         Napa Valley               Napa  Cabernet Sauvignon   \n",
       "1                Toro                NaN       Tinta de Toro   \n",
       "2      Knights Valley             Sonoma     Sauvignon Blanc   \n",
       "3   Willamette Valley  Willamette Valley          Pinot Noir   \n",
       "4              Bandol                NaN  Provence red blend   \n",
       "5                Toro                NaN       Tinta de Toro   \n",
       "6                Toro                NaN       Tinta de Toro   \n",
       "7                Toro                NaN       Tinta de Toro   \n",
       "8  Chehalem Mountains  Willamette Valley          Pinot Noir   \n",
       "9        Sonoma Coast             Sonoma          Pinot Noir   \n",
       "\n",
       "                     winery  \n",
       "0                     Heitz  \n",
       "1  Bodega Carmen Rodr√≠guez  \n",
       "2                  Macauley  \n",
       "3                     Ponzi  \n",
       "4     Domaine de la B√©gude  \n",
       "5                 Numanthia  \n",
       "6                  Maurodos  \n",
       "7  Bodega Carmen Rodr√≠guez  \n",
       "8                Bergstr√∂m  \n",
       "9                 Blue Farm  "
      ]
     },
     "execution_count": 3,
     "metadata": {},
     "output_type": "execute_result"
    }
   ],
   "source": [
    "# Load dataframe\n",
    "wine_df = pd.read_csv('wine.csv')\n",
    "wine_df.head(10)"
   ]
  },
  {
   "cell_type": "code",
   "execution_count": 4,
   "metadata": {},
   "outputs": [
    {
     "data": {
      "text/plain": [
       "(1103, 11)"
      ]
     },
     "execution_count": 4,
     "metadata": {},
     "output_type": "execute_result"
    }
   ],
   "source": [
    "# Get the number of rows and columns.\n",
    "wine_df.shape"
   ]
  },
  {
   "cell_type": "code",
   "execution_count": 5,
   "metadata": {},
   "outputs": [
    {
     "name": "stdout",
     "output_type": "stream",
     "text": [
      "<class 'pandas.core.frame.DataFrame'>\n",
      "RangeIndex: 1103 entries, 0 to 1102\n",
      "Data columns (total 11 columns):\n",
      " #   Column       Non-Null Count  Dtype  \n",
      "---  ------       --------------  -----  \n",
      " 0   Unnamed: 0   1103 non-null   int64  \n",
      " 1   country      1103 non-null   object \n",
      " 2   description  1103 non-null   object \n",
      " 3   designation  834 non-null    object \n",
      " 4   points       1103 non-null   int64  \n",
      " 5   price        1046 non-null   float64\n",
      " 6   province     1103 non-null   object \n",
      " 7   region_1     930 non-null    object \n",
      " 8   region_2     492 non-null    object \n",
      " 9   variety      1103 non-null   object \n",
      " 10  winery       1103 non-null   object \n",
      "dtypes: float64(1), int64(2), object(8)\n",
      "memory usage: 94.9+ KB\n"
     ]
    }
   ],
   "source": [
    "# Check how many columns with the missing values\n",
    "wine_df.info()"
   ]
  },
  {
   "cell_type": "code",
   "execution_count": 6,
   "metadata": {},
   "outputs": [
    {
     "data": {
      "text/plain": [
       "dtype('O')"
      ]
     },
     "execution_count": 6,
     "metadata": {},
     "output_type": "execute_result"
    }
   ],
   "source": [
    "# Find the data type for designation column \n",
    "wine_df['designation'].dtype"
   ]
  },
  {
   "cell_type": "code",
   "execution_count": 7,
   "metadata": {},
   "outputs": [
    {
     "data": {
      "text/plain": [
       "array([\"Martha's Vineyard\", 'Carodorum Selecci√≥n Especial Reserva',\n",
       "       'Special Selected Late Harvest', 'Reserve', 'La Br√ªlade',\n",
       "       'Numanthia', 'San Rom√°n', 'Carodorum √önico Crianza', 'Silice',\n",
       "       \"Gap's Crown Vineyard\", 'Ronco della Chiesa',\n",
       "       'Estate Vineyard Wadensvil Block', 'Weber Vineyard',\n",
       "       'Ch√¢teau Montus Prestige', 'Grace Vineyard', 'Sigrid',\n",
       "       'Rainin Vineyard', '6 A√±os Reserva Premium', 'Le Pigeonnier',\n",
       "       'Grignolino', 'Prado Enea Gran Reserva', 'Termanthia',\n",
       "       'Giallo Solare', 'R-Bar-R Ranch', \"Mat√©'s Vineyard\",\n",
       "       'Shea Vineyard', 'Abetina', \"Garys' Vineyard\", 'The Funk Estate',\n",
       "       'Bergul√©', 'Babushka', 'Vigna Piaggia',\n",
       "       'Nonpareil Tr√©sor Ros√© Brut', 'Conner Lee Vineyard', 'Riserva',\n",
       "       nan, 'Amandi', 'Alfonso Oloroso Seco', 'Private Reserve',\n",
       "       'Coteaux', 'Vigneto Odoardo Beccari Riserva', 'Poggio alle Mura',\n",
       "       'Estate Grown', 'Les 7 Hommes', \"L'In√©dit\", 'Four Flags',\n",
       "       'Le Pav√©', 'Final Final', 'Poggio Bestiale',\n",
       "       \"The Apple Doesn't Fall Far From The Tree\",\n",
       "       'Alegor√≠a Gran Reserva', \"L'Homme Mort Premier Cru\",\n",
       "       'Estate Select', 'Fourchaume Premier Cru', 'Animo',\n",
       "       'Schindler Vineyard', 'Barrel Select', 'District Collection',\n",
       "       'Bussia Riserva', 'Premium', 'Premier Cuv√©e',\n",
       "       \"Le Nombre d'Or Brut Nature\", 'Juliana Vineyard', 'Boscato',\n",
       "       'Aeolian', 'Palliano Riserva', \"del Comune di Serralunga d'Alba\",\n",
       "       'Bricco Luciani', 'Bricco Gattera', 'Montmains Premier Cru',\n",
       "       'Bacigalupi Vineyard', 'Magnificat',\n",
       "       'Marqu√™s de Marialva Ros√© Bruto', 'Nature', 'Small Lot Blend',\n",
       "       'Muros de Vinha', 'Ch√¢teau Beauvillain-Monpezat', 'Pigmentum',\n",
       "       'Stephanie', \"Bella's Blend\", 'Tears of Dew Late Harvest',\n",
       "       'Tudor Hills Vineyard', 'Homestead Block',\n",
       "       'Companhia das Lez√≠rias Herdade de Catapereiro Single Vineyard',\n",
       "       'Terroir √önico Pinot Noir',\n",
       "       'Limited Release Cold Springs Vineyard', 'Castle Hill Vineyard',\n",
       "       'Circumstance', 'Reserva', 'Dulce Tinto',\n",
       "       'Il est des n√¥√¥√¥tres!', 'Convento da Vila', 'The Flyer',\n",
       "       'Charles Vineyard Clone 05', 'Solomon Hills Vineyard Ros√©',\n",
       "       'Paris Tasting Commemorative', \"Methode a l'Ancienne\",\n",
       "       'Grand Wren', 'Central Park West Vineyard', 'Arnegui Reserva',\n",
       "       'Chianta Bianco', 'Cooper Ranch', 'Longwood', 'Estate',\n",
       "       'Mustang Springs', 'SMC', 'Crianza', 'Le', 'Rte Blanc',\n",
       "       'Hook Vineyard', 'Jespersen Ranch', 'Kapnias', 'Brut Reserva',\n",
       "       'Axia Malagouzia',\n",
       "       'Ecos de Rulo Single Vineyard El Chequ√©n Estate',\n",
       "       'Vi√±a Real Gran Reserva',\n",
       "       'Fina Reserva Ensamblaje Malbec-Cabernet Sauvignon-Syrah',\n",
       "       'Range 30 West', 'Gaudium', 'Mill Road Vineyard',\n",
       "       'Freedom Hill Vineyard', 'Le Redini', 'Il Guardiano',\n",
       "       'Del Arroyo Vineyard', 'Family Collection',\n",
       "       'Charles Vineyard Clone O5',\n",
       "       'H√©ritages Elev√© en Foudres de Ch√™ne', 'Gran Bajoz',\n",
       "       'Palazzo Altesi', 'Il Borgo', 'Lot 525', 'Perla Negra',\n",
       "       'Estate Reserve', 'Sonatera Vineyard', 'Boushey Vineyard',\n",
       "       'Trinit√† Grand Reserve', 'Entwined', 'French Camp Vineyard',\n",
       "       'Sobre L√≠as', 'Negre', 'Ros√© of', 'Ingle Vineyard Unoaked',\n",
       "       'Semi-Dry', 'Ice Wine', 'Weinbau', 'Y√° Cuv√©e 23 Brut Ros√©',\n",
       "       'Nervo', 'Rocky Ridge Vineyard', 'Fausoni', 'Rosacker Grand Cru',\n",
       "       'Clos H√§userer Wintzenheim', 'Domaine Excelcio',\n",
       "       'Pfingstberg Paradis Grand Cru',\n",
       "       'Altenberg de Bergheim Grand Cru Vieilles Vignes',\n",
       "       'Collaboration Series VI Ciel du Cheval Vineyard',\n",
       "       'Hastings Ranch Vineyard', 'Heissenberg',\n",
       "       'Stagecoach Vineyards The Biale Block', 'Pajor√®',\n",
       "       'Collaboration Series V Ciel du Cheval Vineyard',\n",
       "       'White Hawk Vineyard', 'Quinta dos Quatro Ventos Reserva',\n",
       "       'Double Canyon Vineyard', 'Red Rock Terrace',\n",
       "       'Ciel du Cheval Vineyard', 'Kingpin',\n",
       "       'Domaine Saint-R√©my Schlosberg Grand Cru',\n",
       "       'Pfersigberg Grand Cru', 'Calcaire', 'Dona Maria Reserva',\n",
       "       'Coste Rubin', 'La Umbra', 'Limited Selection',\n",
       "       \"Cuv√©e Luke Saralee's Vineyard\", \"Wits' End\", 'Toyon Farm',\n",
       "       'Early', 'Bussia', 'Guidotti Vineyard', 'Prestigio', 'Noctambule',\n",
       "       'Querida', 'Primoroso', 'Domaine de Saint-Pierre',\n",
       "       \"Anna's Estate Vineyard\", 'Single Vineyard Reserva',\n",
       "       'Pertuisots Premier Cru', 'Clos du Cailleret Premier Cru',\n",
       "       'Haynes Vineyard', 'Suzuri Series Shake Ridge Ranch',\n",
       "       'Vintage Brut', 'Sirmian', 'Portal do Fidalgo',\n",
       "       'Mirabilis Grande Reserva', 'Solomon Hills Vineyard',\n",
       "       'Monte Carbonare', 'Quarz', 'R√©serve', 'Lampyridae Vineyards',\n",
       "       'Le Mistral Vineyard', 'Les Charmes Dessus', 'Cuv√©e Germain',\n",
       "       'Quintessence', 'Clay Court', 'Kruse Vineyards', 'Cami Sali√©',\n",
       "       'Prail', 'Puiten', 'Nova Vineyard', 'Estate Bottled',\n",
       "       \"Vigneto Monte Sant'Urbano\", 'White', 'Sierra Madre Vineyard',\n",
       "       'Bergstr√∂m Vineyard', 'Angel Hawk',\n",
       "       'King Ridge Vineyard Hirsch Selection', 'Evenstad Reserve',\n",
       "       'Contrada Salvarenza Vecchie Vigne', 'La Frosc√†', 'Outer Limits',\n",
       "       'Durant Vineyard Bishop Block', 'Godspeed',\n",
       "       'Tognetti Vineyard Brut', 'Ribbon Ridge Estate', 'Ch√¢teau Montus',\n",
       "       'Old Stones', 'La B√©gude', 'QP', 'Prestigio Pago de las Solanas',\n",
       "       'Pellet Vineyard', 'Alta Barrancas Vineyards', 'Garrus',\n",
       "       'Cuv√©e Marguerite Massaut', 'Aurora Vineyard', 'Monvigliero',\n",
       "       'Graacher Himmelreich Kabinett', 'Latro', 'Etiqueta Ambar',\n",
       "       'Grieve Family Vineyard', 'Grande Rocim Reserva', 'XCV',\n",
       "       'Bergera Pezzole', 'Coste di Rose', 'Emblem Oso Vineyard',\n",
       "       'Brunate', 'Estate Cuv√©e', 'Telhas', \"Terra d'Alter\",\n",
       "       'Lone Oak Vineyard', 'Starr Ridge Vineyard Estate',\n",
       "       'Saulheimer Probstey Trocken', 'Paesi Tuoi', 'Juliard Vineyard',\n",
       "       'Grand Cru Blanc de Blancs Chouilly Brut', 'Garrafeira',\n",
       "       'Brut Ros√©', \"Rosella's Vineyard\", 'Parej', 'Cuore della Vigne',\n",
       "       'Kiler Grove Vineyard', \"Winemaker's Reserve\", 'Galets Oligoc√®ne',\n",
       "       'Dry', 'Vieilles Vignes', 'Zind', 'Sisters Estate',\n",
       "       'Domaine du Pavillon Clos des Ursulines', 'Adenzia', 'SP68 Bianco',\n",
       "       'Bernkasteler Badstube Kabinett', 'Classic Collection',\n",
       "       'Rector Creek Vineyard', 'Trocken', 'Orquestal', 'Olson Vineyard',\n",
       "       'The Truant', \"Proprietor's Reserve\",\n",
       "       'Cabovation Destiny Vineyards Mt. Christo Block Reserve',\n",
       "       'Seven Hills Vineyard', 'Compendium', 'Albari√±o de Fefi√±anes',\n",
       "       'Terre de Maimbray', 'Villa al Cortile Riserva', 'Alb de Purcari',\n",
       "       'Trois Fleurs', 'Cuv√©e Setier', 'Cuv√©e de Nalys', \"Kate's + B's\",\n",
       "       'New Generation', 'Signpost', 'Mirlo Blanco', 'Steiner',\n",
       "       'Elevation Annadel Gap Vineyard Estate', 'Berardo Riserva',\n",
       "       'Rapscallion', 'Cuv√©e Lucie', 'Chandler Vineyard', 'Freakshow',\n",
       "       'Southern', 'Vigna Poggio Ronconi', 'Filo di Seta', 'Unoaked',\n",
       "       'Chicken Dinner', 'Pagliatura', 'Buleria Fino', 'Scir√®',\n",
       "       'Roble 4 Meses en Barrica', 'U50', 'Brunus',\n",
       "       'Vigna Manapetra Riserva', 'Superior', 'Senza Solfiti Aggiunti',\n",
       "       'Cannon Block', 'Conde Vimioso Colheita Seleccionada', 'Alma Mora',\n",
       "       'Duas Quintas Branco', 'Estate Grown Cabernet', 'Porter and Plot',\n",
       "       'Estate Vineyard', 'Portal da Vinha', 'Osborn Ranch', 'Cabriz',\n",
       "       'The Deep Six', 'Oculto', 'Bastide de Beauvert', 'Montesodi',\n",
       "       'Les Gravels', 'Wehlener Sonnenuhr Kabinett',\n",
       "       'Cuv√©e du Prince Metodo Classico', 'Cheval Rouge Reserve',\n",
       "       'Coniale', 'La Guillotte', 'Nicholas Estate Reserve', 'Fourplay',\n",
       "       'Thompson Vineyard', 'Daniello', 'Il Tarabuso', 'Belleruche',\n",
       "       'Paderewski Vineyard',\n",
       "       'Fina Reserva Ensamblaje Cabernet Sauvignon-Malbec-Syrah',\n",
       "       'Martinelli', 'Momtazi Vineyard', 'Val do Saln√©s', 'Carmione',\n",
       "       'Brut', 'Dutton Ranch Mill Station Vineyard',\n",
       "       'Brandluft Vieilles Vignes', 'Vinhas Velhas Grande Reserva',\n",
       "       'Black Chicken', 'Cambium', 'Fergalicious',\n",
       "       'Cave Spring Vineyard Estate Bottled VQA', 'Loner W11-B',\n",
       "       'Hyde Vineyard', 'Vinha Pan', 'Conner Lee', 'Celilo Vineyard',\n",
       "       'Bruderbach Clos des Fr√®res', 'Jubil√©√©', 'Melville Vineyard',\n",
       "       'Quail Hill Vineyard', 'Canova', \"Kristen's Cuvee\",\n",
       "       'Sottocastello di Novello Riserva', 'Vale de Mata',\n",
       "       'Mandelberg Grand Cru', 'Nielson Vineyard', 'Edici√≥n Limitada B',\n",
       "       'Collaboration Series', 'Fort Ross Vineyard',\n",
       "       'Monarch Mine Vineyards', 'Feinherb', 'Les Marconnets Premier Cru',\n",
       "       'Estate Vineyards', 'Sundawg Ridge Vineyard', 'Richter Estate',\n",
       "       'Laluci', 'Bastion Premier Cru', 'Rosenberg', 'Clos de Jeu',\n",
       "       \"L'Aplomb\", 'Siccagno', 'Montecillo Vineyard', 'Bianco Dry',\n",
       "       'Guadalupe Vineyard', 'Belsito', 'Fincas de la Villa Reserva',\n",
       "       'Made with Organically Grown Grapes', 'Sunny View',\n",
       "       'Wichmann Dundee Estate', 'Ch√¢teau Bouscass√©',\n",
       "       'Haynes Old Block', 'Dou Barringuet', 'Cuv√©e Sandre',\n",
       "       'Two Barns Vineyard', 'Seigneur de Gr√©zette', 'Rogers Creek',\n",
       "       \"Oliver's Vineyard\", \"Ocean's Ghost Babcock Vineyard\",\n",
       "       'Reserva Edici√≥n Especial Sergio Hern√°ndez',\n",
       "       'Bien Nacido Vineyard', 'Medici Vineyard', 'Story Vineyard',\n",
       "       'Santa Catalina Island Vineyards', 'Hughes', 'The Butcher',\n",
       "       'A Ken Forrester Wine Farrow Ranch', 'Scottsdale Vineyard',\n",
       "       'Hendry Vineyard', 'Lua Cheia em Vinhas Velhas Reserva', 'Punggl',\n",
       "       'Bald Mountain Vineyard', 'Hochheimer Domdechaney Trocken',\n",
       "       'Ayler Kupp Kabinett', 'Medium Dry Kabinett',\n",
       "       'L√∂hrer Berg Sp√§tlese', '√úrziger W√ºrzgarten Sp√§tlese',\n",
       "       'Manna', 'Oregon Hawks View Vineyard', 'Olho de Mocho Reserva',\n",
       "       'Lorenzo Vineyard', \"Jillian's Blend\", 'Rodgers Creek Vineyard',\n",
       "       'Bernkasteler Badstube Sp√§tlese', 'Graacher Himmelreich Auslese',\n",
       "       'Bernkasteler Lay Kabinett',\n",
       "       'Bernkasteler alte Badstube am Doctorberg Kabinett',\n",
       "       'Scharzhofberger Kabinett', 'Trittenheimer Apotheke Auslese',\n",
       "       'Griva Vineyard Late Harvest', 'Lahn', 'Cabriz Reserva',\n",
       "       'Les Monts de Boncourt', 'The Dagger', 'Cannubi Boschis',\n",
       "       'Casa Velha Colheita Seleccionada', 'Soul Shaker Cass Vineyard',\n",
       "       'Sottocastello di Novello', 'Bricco Rocca', 'Sil Nizza',\n",
       "       'Sin Palabras Castrovald√©s', 'Prieur√© de C√©nac',\n",
       "       'Contraste Branco', \"La Croix d'Argon\", 'Vaillons Premier Cru',\n",
       "       'Graacher Himmelreich Sp√§tlese', \"Laki's Vineyard Estate\",\n",
       "       'Bricco dei Merli', 'Marasco', 'Backbone',\n",
       "       'Campbell McKinney Vineyard', 'Truffle Hill', 'Fraschin',\n",
       "       'Pressenda', \"Roche d'Ampsej\", 'Applejack Vineyard',\n",
       "       'Grande Reserve', 'Le Pierrier', 'The Mariner', 'Cuv√©e Silice',\n",
       "       'Mondoca di Bussia', 'Cuv√©e C.M.', 'Diversit√©', 'Riserva R5',\n",
       "       'Villero', 'Stainless', \"Sarah Jane's Block Reserve\", 'Spire',\n",
       "       'Made With Organic Grapes', 'Leopardi Brut Nature Gran Reserva',\n",
       "       'Elenovo Nova Zagora', 'Sangiacomo Green Acres Hill', 'Lust',\n",
       "       'En Hommage', 'D', '1105', 'Olivet Lane', \"Nance's Vineyard\",\n",
       "       'Redwood Ranch', 'Damn Straight', 'Brutus',\n",
       "       'Vi√±a AB Amontillado Seco', 'Harvest',\n",
       "       'Schaapenberg Vineyard Reserve', 'Brutal',\n",
       "       'Familia Navarro Torrre Grand Gold Medal', \"Barrelman's Select\",\n",
       "       'Salut√©', 'B√©lingard', 'Les Petits Cl√©ment Merlot Duras',\n",
       "       'Oceanus Touriga Nacional-Cabernet Sauvignon', 'Pigmentum Malbec',\n",
       "       'Les Terrasses', 'Monopolio', 'Nuna Estate', 'Encosta da Vinha',\n",
       "       \"Crocodile's Lair Kaaimansgat\", 'Eggo Tinta de Tiza',\n",
       "       'Colecci√≥n Vivanco Dulce de Invierno Late Harvest',\n",
       "       'The Game Reserve', 'Cruzat Brut Ros√© M√©thodo Tradicional',\n",
       "       'Cross Creek Vineyard', 'Veni Vidi Vici', 'Admon Vineyard',\n",
       "       'Ch√¢teau de Rouffiac S√©duction', 'Her√®ncia del Padr√≠',\n",
       "       'La Presa Vineyard', 'Bien Nacido', 'La Demoiselle de Laballe',\n",
       "       'Ad Astra', 'Oliviero Toscani', 'Reserve R√™ve Estate', 'Cerviolo',\n",
       "       '1865 Single Vineyard', 'Grande Cuv√©e', 'Scipio',\n",
       "       'La Capilla Single Vineyard', 'Grenache', 'Faith',\n",
       "       'I Sodi di San Niccol√≤', 'Alma Grande Reserva', 'D. Fuas Reserva',\n",
       "       'Magna Carta Reserva', 'Justo', 'CSV', 'Tradizione',\n",
       "       'Copeland Vineayard', 'Firma Riserva', 'Intrepide',\n",
       "       'Les Hauts de Larrivet Haut-Brion', 'Dame de Coeur',\n",
       "       'Serres Ranch', 'Greppicante', 'Syzygy', 'Canoe Ridge Vineyard',\n",
       "       'Cockburn Ranch Vineyard', 'Bogle Vineyards', 'Reserve Nellie Mae',\n",
       "       'Lot 423', 'Amatino', 'Bona Vita', 'Buttner Vineyard',\n",
       "       'Cellar 1879 Blend', 'Block 007 Estate Vineyard',\n",
       "       'Mission St Vincent R√©serve', 'Circle S Vineyard', 'Rosato',\n",
       "       'The Dead Arm', 'Symphonia', 'Estate Grown, Produced and Bottled',\n",
       "       'Howell Mountain', 'Amplus One',\n",
       "       \"Version Red Anna's Vineyard Reserve\", 'Bailey Ranch Riserva',\n",
       "       'Thanisch Kabinett', 'Topaz Imp√©rial Ros√©',\n",
       "       \"Stymie Founder's Reserve\", 'Brut Reserva Special Edition',\n",
       "       'En Pimont', \"Geza's Selection\", 'Nimbus Premium',\n",
       "       'Les Brunettes et Planchots', 'The Diva', 'Lapola',\n",
       "       'Valcortes Crianza', 'Il Palei', 'Maria di Brun', \"Vignoble d'E\",\n",
       "       'Vigna del Gris', 'Leon Riserva', 'Bedrock Vineyard',\n",
       "       'Cuv√©e Giulio I', 'Sele√ß√£o do En√≥logo', 'Vale de Cavalos',\n",
       "       'Schlossberg Grand Cru', 'Late Harvest', 'Tierra Alta Vineyard',\n",
       "       'Lone Oak Vineyard Estate',\n",
       "       'Collaboration Series Force Majeure Vineyard',\n",
       "       'Cuv√©e Jeanne Marie Williamson-Dore Vineyard', 'Tralca',\n",
       "       'Underwood Mountain', 'Portolan', 'Avansino Grand Reserve',\n",
       "       'Sun Chase Vineyard', 'Munjebel Bianco 9', 'Sor√¨ Tildin',\n",
       "       'Bramare', 'Silhouette', 'Crouzeilles-C√¥te Abeilles',\n",
       "       \"Sonnie's Sawyer Lindquist Vineyard\",\n",
       "       'Sullivan Vineyard Dutton Ranch', 'Cuv√©e 946', 'Jadis',\n",
       "       'Grande Cuv√©e No. 8', 'Inspire', 'Sage Vineyard',\n",
       "       'The Maneater Derby Vineyard', 'R√©colte Grand Cru',\n",
       "       'Sycamore Vineyard', \"Seven Pillars Jess' Block\", 'Domaine',\n",
       "       'Almancenista Jos√© Luis Gonz√°lez Obreg√≥n Amontillado del Puerto',\n",
       "       'Balcombe Vineyard Block 1B', 'Schwarze Vineyard Brut',\n",
       "       'Ch√¢teau Bouscass√© Menhir', 'Flocchini Vineyard Petaluma Gap',\n",
       "       'Deja Vu', 'Top Cream Babcock Vineyard',\n",
       "       'Temperance Hill Vineyard', 'King Ridge Vineyard', 'Jasper',\n",
       "       'Le Monde on Parle', 'Marques de Casa Concha',\n",
       "       'Hisenda Miret Microcuv√©e Garnatxa', 'Estate Infrared',\n",
       "       'Schwarzer Adler', 'Inferno', 'Brut Cuv√©e', \"D'Aria\",\n",
       "       'Logsdon Ridge Vineyard Rudolfo', 'Potenti', 'Carvalhas',\n",
       "       'Ser Gioveto', 'Pinot Noir', 'Oakville Estate', 'Crognolo',\n",
       "       \"Z'ivo Vineyard Reserve\", 'Andreza',\n",
       "       'Ambelos Phos Roditis-Moschofilero', 'San Bernardo Riserva',\n",
       "       'Coro Mendocino', 'Zio Nando', 'Special Reserve', 'MK Vineyard',\n",
       "       'Bockstein Ockfen Auslese Erste Lage', 'Whole Cluster',\n",
       "       'Mt. Tabor', 'Castelletto', \"Terra d'Alter Reserva Branco\",\n",
       "       'Espero', 'Meredith Mitchell Vineyard', 'Leon', 'Cannubi', 'Rapet',\n",
       "       'Bernardot', 'Margheria', 'Ascheri', 'Castiglione',\n",
       "       'Coal River Valley Single Site', 'Juel', 'Campelo', 'Miranda',\n",
       "       'Plexus Tinto', 'Blanc de Blancs Bruto', 'La Galope',\n",
       "       'Brut Nature Reserva Arinto', 'Cabriz Bruto', 'Cal Monte da Cal',\n",
       "       'Encontro Q do E Blanco Bruto Classico', 'Punto Final MLB',\n",
       "       'H√©ritages', 'Limited Release X Clones',\n",
       "       'Les Petits Cl√©ment Syrah Braucol', 'La Fleur Lily Semi-Dry',\n",
       "       'P√© Tinto', 'Monte da Cal Colheita Seleccionada',\n",
       "       \"C√† de' Rocchi\",\n",
       "       'Niersteiner Hipping vom Rottligenden  Sp√§tlese Trocken',\n",
       "       'Mark VI', \"Dut'Un\", 'C√¥te du Py',\n",
       "       'Companhia daz Lezirias Reserva Tinto', 'Monte da Ba√≠a Reserva',\n",
       "       'Abreu Callado Reserva', 'Estate 25th Anniversary',\n",
       "       'Van Ness Vineyard', 'Single Vineyard Series Sp√§tlese', 'Mythos',\n",
       "       'R√©serve Louis Leyre-Loup', 'Auma Los Lingues', 'Lien',\n",
       "       'Demesse Vecchie', \"Heather's Vineyard\", 'Toknar',\n",
       "       'Insoglio del Cinghiale', 'Drink & Dream D+D', 'Keefer Ranch',\n",
       "       'Ikon', 'Ciconia', 'Domini', 'Van Der Kamp Vineyard',\n",
       "       'Bricco delle Viole', 'Ros√©', 'Adagio', 'Broquel', 'Paradiso',\n",
       "       'Colheita', 'P9', 'Eclat de Fra√Æcheur', 'Audace Riserva',\n",
       "       'Heritage Reserve', 'Chirlet', 'Pommard Clone Dierberg Vineyard',\n",
       "       'Nola', 'Zig-A-Zig-Ahh', 'Howling Wolfe', 'Cassango', 'Cuv√©e',\n",
       "       'Single Vineyard', 'Borgeri', 'Mountain Cuv√©e',\n",
       "       'Hobbit Hollow Farm Dry', 'Cold Creek Vineyard', 'The Whip'],\n",
       "      dtype=object)"
      ]
     },
     "execution_count": 7,
     "metadata": {},
     "output_type": "execute_result"
    }
   ],
   "source": [
    "# Checking unique values \n",
    "wine_df['designation'].unique()"
   ]
  },
  {
   "cell_type": "code",
   "execution_count": 8,
   "metadata": {},
   "outputs": [
    {
     "data": {
      "text/html": [
       "<div>\n",
       "<style scoped>\n",
       "    .dataframe tbody tr th:only-of-type {\n",
       "        vertical-align: middle;\n",
       "    }\n",
       "\n",
       "    .dataframe tbody tr th {\n",
       "        vertical-align: top;\n",
       "    }\n",
       "\n",
       "    .dataframe thead th {\n",
       "        text-align: right;\n",
       "    }\n",
       "</style>\n",
       "<table border=\"1\" class=\"dataframe\">\n",
       "  <thead>\n",
       "    <tr style=\"text-align: right;\">\n",
       "      <th></th>\n",
       "      <th>Unnamed: 0</th>\n",
       "      <th>country</th>\n",
       "      <th>description</th>\n",
       "      <th>designation</th>\n",
       "      <th>points</th>\n",
       "      <th>price</th>\n",
       "      <th>province</th>\n",
       "      <th>region_1</th>\n",
       "      <th>region_2</th>\n",
       "      <th>variety</th>\n",
       "      <th>winery</th>\n",
       "    </tr>\n",
       "  </thead>\n",
       "  <tbody>\n",
       "    <tr>\n",
       "      <th>0</th>\n",
       "      <td>0</td>\n",
       "      <td>US</td>\n",
       "      <td>This tremendous 100% varietal wine hails from ...</td>\n",
       "      <td>Martha's Vineyard</td>\n",
       "      <td>96</td>\n",
       "      <td>235.0</td>\n",
       "      <td>California</td>\n",
       "      <td>Napa Valley</td>\n",
       "      <td>Napa</td>\n",
       "      <td>Cabernet Sauvignon</td>\n",
       "      <td>Heitz</td>\n",
       "    </tr>\n",
       "    <tr>\n",
       "      <th>1</th>\n",
       "      <td>1</td>\n",
       "      <td>Spain</td>\n",
       "      <td>Ripe aromas of fig, blackberry and cassis are ...</td>\n",
       "      <td>Carodorum Selecci√≥n Especial Reserva</td>\n",
       "      <td>96</td>\n",
       "      <td>110.0</td>\n",
       "      <td>Northern Spain</td>\n",
       "      <td>Toro</td>\n",
       "      <td>NaN</td>\n",
       "      <td>Tinta de Toro</td>\n",
       "      <td>Bodega Carmen Rodr√≠guez</td>\n",
       "    </tr>\n",
       "    <tr>\n",
       "      <th>2</th>\n",
       "      <td>2</td>\n",
       "      <td>US</td>\n",
       "      <td>Mac Watson honors the memory of a wine once ma...</td>\n",
       "      <td>Special Selected Late Harvest</td>\n",
       "      <td>96</td>\n",
       "      <td>90.0</td>\n",
       "      <td>California</td>\n",
       "      <td>Knights Valley</td>\n",
       "      <td>Sonoma</td>\n",
       "      <td>Sauvignon Blanc</td>\n",
       "      <td>Macauley</td>\n",
       "    </tr>\n",
       "    <tr>\n",
       "      <th>3</th>\n",
       "      <td>3</td>\n",
       "      <td>US</td>\n",
       "      <td>This spent 20 months in 30% new French oak, an...</td>\n",
       "      <td>Reserve</td>\n",
       "      <td>96</td>\n",
       "      <td>65.0</td>\n",
       "      <td>Oregon</td>\n",
       "      <td>Willamette Valley</td>\n",
       "      <td>Willamette Valley</td>\n",
       "      <td>Pinot Noir</td>\n",
       "      <td>Ponzi</td>\n",
       "    </tr>\n",
       "    <tr>\n",
       "      <th>4</th>\n",
       "      <td>4</td>\n",
       "      <td>France</td>\n",
       "      <td>This is the top wine from La B√©gude, named af...</td>\n",
       "      <td>La Br√ªlade</td>\n",
       "      <td>95</td>\n",
       "      <td>66.0</td>\n",
       "      <td>Provence</td>\n",
       "      <td>Bandol</td>\n",
       "      <td>NaN</td>\n",
       "      <td>Provence red blend</td>\n",
       "      <td>Domaine de la B√©gude</td>\n",
       "    </tr>\n",
       "    <tr>\n",
       "      <th>5</th>\n",
       "      <td>5</td>\n",
       "      <td>Spain</td>\n",
       "      <td>Deep, dense and pure from the opening bell, th...</td>\n",
       "      <td>Numanthia</td>\n",
       "      <td>95</td>\n",
       "      <td>73.0</td>\n",
       "      <td>Northern Spain</td>\n",
       "      <td>Toro</td>\n",
       "      <td>NaN</td>\n",
       "      <td>Tinta de Toro</td>\n",
       "      <td>Numanthia</td>\n",
       "    </tr>\n",
       "    <tr>\n",
       "      <th>6</th>\n",
       "      <td>6</td>\n",
       "      <td>Spain</td>\n",
       "      <td>Slightly gritty black-fruit aromas include a s...</td>\n",
       "      <td>San Rom√°n</td>\n",
       "      <td>95</td>\n",
       "      <td>65.0</td>\n",
       "      <td>Northern Spain</td>\n",
       "      <td>Toro</td>\n",
       "      <td>NaN</td>\n",
       "      <td>Tinta de Toro</td>\n",
       "      <td>Maurodos</td>\n",
       "    </tr>\n",
       "    <tr>\n",
       "      <th>7</th>\n",
       "      <td>7</td>\n",
       "      <td>Spain</td>\n",
       "      <td>Lush cedary black-fruit aromas are luxe and of...</td>\n",
       "      <td>Carodorum √önico Crianza</td>\n",
       "      <td>95</td>\n",
       "      <td>110.0</td>\n",
       "      <td>Northern Spain</td>\n",
       "      <td>Toro</td>\n",
       "      <td>NaN</td>\n",
       "      <td>Tinta de Toro</td>\n",
       "      <td>Bodega Carmen Rodr√≠guez</td>\n",
       "    </tr>\n",
       "    <tr>\n",
       "      <th>8</th>\n",
       "      <td>8</td>\n",
       "      <td>US</td>\n",
       "      <td>This re-named vineyard was formerly bottled as...</td>\n",
       "      <td>Silice</td>\n",
       "      <td>95</td>\n",
       "      <td>65.0</td>\n",
       "      <td>Oregon</td>\n",
       "      <td>Chehalem Mountains</td>\n",
       "      <td>Willamette Valley</td>\n",
       "      <td>Pinot Noir</td>\n",
       "      <td>Bergstr√∂m</td>\n",
       "    </tr>\n",
       "    <tr>\n",
       "      <th>9</th>\n",
       "      <td>9</td>\n",
       "      <td>US</td>\n",
       "      <td>The producer sources from two blocks of the vi...</td>\n",
       "      <td>Gap's Crown Vineyard</td>\n",
       "      <td>95</td>\n",
       "      <td>60.0</td>\n",
       "      <td>California</td>\n",
       "      <td>Sonoma Coast</td>\n",
       "      <td>Sonoma</td>\n",
       "      <td>Pinot Noir</td>\n",
       "      <td>Blue Farm</td>\n",
       "    </tr>\n",
       "    <tr>\n",
       "      <th>10</th>\n",
       "      <td>10</td>\n",
       "      <td>Italy</td>\n",
       "      <td>Elegance, complexity and structure come togeth...</td>\n",
       "      <td>Ronco della Chiesa</td>\n",
       "      <td>95</td>\n",
       "      <td>80.0</td>\n",
       "      <td>Northeastern Italy</td>\n",
       "      <td>Collio</td>\n",
       "      <td>NaN</td>\n",
       "      <td>Friulano</td>\n",
       "      <td>Borgo del Tiglio</td>\n",
       "    </tr>\n",
       "    <tr>\n",
       "      <th>11</th>\n",
       "      <td>11</td>\n",
       "      <td>US</td>\n",
       "      <td>From 18-year-old vines, this supple well-balan...</td>\n",
       "      <td>Estate Vineyard Wadensvil Block</td>\n",
       "      <td>95</td>\n",
       "      <td>48.0</td>\n",
       "      <td>Oregon</td>\n",
       "      <td>Ribbon Ridge</td>\n",
       "      <td>Willamette Valley</td>\n",
       "      <td>Pinot Noir</td>\n",
       "      <td>Patricia Green Cellars</td>\n",
       "    </tr>\n",
       "    <tr>\n",
       "      <th>12</th>\n",
       "      <td>12</td>\n",
       "      <td>US</td>\n",
       "      <td>A standout even in this terrific lineup of 201...</td>\n",
       "      <td>Weber Vineyard</td>\n",
       "      <td>95</td>\n",
       "      <td>48.0</td>\n",
       "      <td>Oregon</td>\n",
       "      <td>Dundee Hills</td>\n",
       "      <td>Willamette Valley</td>\n",
       "      <td>Pinot Noir</td>\n",
       "      <td>Patricia Green Cellars</td>\n",
       "    </tr>\n",
       "    <tr>\n",
       "      <th>13</th>\n",
       "      <td>13</td>\n",
       "      <td>France</td>\n",
       "      <td>This wine is in peak condition. The tannins an...</td>\n",
       "      <td>Ch√¢teau Montus Prestige</td>\n",
       "      <td>95</td>\n",
       "      <td>90.0</td>\n",
       "      <td>Southwest France</td>\n",
       "      <td>Madiran</td>\n",
       "      <td>NaN</td>\n",
       "      <td>Tannat</td>\n",
       "      <td>Vignobles Brumont</td>\n",
       "    </tr>\n",
       "    <tr>\n",
       "      <th>14</th>\n",
       "      <td>14</td>\n",
       "      <td>US</td>\n",
       "      <td>With its sophisticated mix of mineral, acid an...</td>\n",
       "      <td>Grace Vineyard</td>\n",
       "      <td>95</td>\n",
       "      <td>185.0</td>\n",
       "      <td>Oregon</td>\n",
       "      <td>Dundee Hills</td>\n",
       "      <td>Willamette Valley</td>\n",
       "      <td>Pinot Noir</td>\n",
       "      <td>Domaine Serene</td>\n",
       "    </tr>\n",
       "    <tr>\n",
       "      <th>15</th>\n",
       "      <td>15</td>\n",
       "      <td>US</td>\n",
       "      <td>First made in 2006, this succulent luscious Ch...</td>\n",
       "      <td>Sigrid</td>\n",
       "      <td>95</td>\n",
       "      <td>90.0</td>\n",
       "      <td>Oregon</td>\n",
       "      <td>Willamette Valley</td>\n",
       "      <td>Willamette Valley</td>\n",
       "      <td>Chardonnay</td>\n",
       "      <td>Bergstr√∂m</td>\n",
       "    </tr>\n",
       "    <tr>\n",
       "      <th>16</th>\n",
       "      <td>16</td>\n",
       "      <td>US</td>\n",
       "      <td>This blockbuster, powerhouse of a wine suggest...</td>\n",
       "      <td>Rainin Vineyard</td>\n",
       "      <td>95</td>\n",
       "      <td>325.0</td>\n",
       "      <td>California</td>\n",
       "      <td>Diamond Mountain District</td>\n",
       "      <td>Napa</td>\n",
       "      <td>Cabernet Sauvignon</td>\n",
       "      <td>Hall</td>\n",
       "    </tr>\n",
       "    <tr>\n",
       "      <th>17</th>\n",
       "      <td>17</td>\n",
       "      <td>Spain</td>\n",
       "      <td>Nicely oaked blackberry, licorice, vanilla and...</td>\n",
       "      <td>6 A√±os Reserva Premium</td>\n",
       "      <td>95</td>\n",
       "      <td>80.0</td>\n",
       "      <td>Northern Spain</td>\n",
       "      <td>Ribera del Duero</td>\n",
       "      <td>NaN</td>\n",
       "      <td>Tempranillo</td>\n",
       "      <td>Valduero</td>\n",
       "    </tr>\n",
       "    <tr>\n",
       "      <th>18</th>\n",
       "      <td>18</td>\n",
       "      <td>France</td>\n",
       "      <td>Coming from a seven-acre vineyard named after ...</td>\n",
       "      <td>Le Pigeonnier</td>\n",
       "      <td>95</td>\n",
       "      <td>290.0</td>\n",
       "      <td>Southwest France</td>\n",
       "      <td>Cahors</td>\n",
       "      <td>NaN</td>\n",
       "      <td>Malbec</td>\n",
       "      <td>Ch√¢teau Lagr√©zette</td>\n",
       "    </tr>\n",
       "    <tr>\n",
       "      <th>19</th>\n",
       "      <td>19</td>\n",
       "      <td>US</td>\n",
       "      <td>This fresh and lively medium-bodied wine is be...</td>\n",
       "      <td>Gap's Crown Vineyard</td>\n",
       "      <td>95</td>\n",
       "      <td>75.0</td>\n",
       "      <td>California</td>\n",
       "      <td>Sonoma Coast</td>\n",
       "      <td>Sonoma</td>\n",
       "      <td>Pinot Noir</td>\n",
       "      <td>Gary Farrell</td>\n",
       "    </tr>\n",
       "  </tbody>\n",
       "</table>\n",
       "</div>"
      ],
      "text/plain": [
       "    Unnamed: 0 country                                        description  \\\n",
       "0            0      US  This tremendous 100% varietal wine hails from ...   \n",
       "1            1   Spain  Ripe aromas of fig, blackberry and cassis are ...   \n",
       "2            2      US  Mac Watson honors the memory of a wine once ma...   \n",
       "3            3      US  This spent 20 months in 30% new French oak, an...   \n",
       "4            4  France  This is the top wine from La B√©gude, named af...   \n",
       "5            5   Spain  Deep, dense and pure from the opening bell, th...   \n",
       "6            6   Spain  Slightly gritty black-fruit aromas include a s...   \n",
       "7            7   Spain  Lush cedary black-fruit aromas are luxe and of...   \n",
       "8            8      US  This re-named vineyard was formerly bottled as...   \n",
       "9            9      US  The producer sources from two blocks of the vi...   \n",
       "10          10   Italy  Elegance, complexity and structure come togeth...   \n",
       "11          11      US  From 18-year-old vines, this supple well-balan...   \n",
       "12          12      US  A standout even in this terrific lineup of 201...   \n",
       "13          13  France  This wine is in peak condition. The tannins an...   \n",
       "14          14      US  With its sophisticated mix of mineral, acid an...   \n",
       "15          15      US  First made in 2006, this succulent luscious Ch...   \n",
       "16          16      US  This blockbuster, powerhouse of a wine suggest...   \n",
       "17          17   Spain  Nicely oaked blackberry, licorice, vanilla and...   \n",
       "18          18  France  Coming from a seven-acre vineyard named after ...   \n",
       "19          19      US  This fresh and lively medium-bodied wine is be...   \n",
       "\n",
       "                              designation  points  price            province  \\\n",
       "0                       Martha's Vineyard      96  235.0          California   \n",
       "1   Carodorum Selecci√≥n Especial Reserva      96  110.0      Northern Spain   \n",
       "2           Special Selected Late Harvest      96   90.0          California   \n",
       "3                                 Reserve      96   65.0              Oregon   \n",
       "4                             La Br√ªlade      95   66.0            Provence   \n",
       "5                               Numanthia      95   73.0      Northern Spain   \n",
       "6                              San Rom√°n      95   65.0      Northern Spain   \n",
       "7                Carodorum √önico Crianza      95  110.0      Northern Spain   \n",
       "8                                  Silice      95   65.0              Oregon   \n",
       "9                    Gap's Crown Vineyard      95   60.0          California   \n",
       "10                     Ronco della Chiesa      95   80.0  Northeastern Italy   \n",
       "11        Estate Vineyard Wadensvil Block      95   48.0              Oregon   \n",
       "12                         Weber Vineyard      95   48.0              Oregon   \n",
       "13               Ch√¢teau Montus Prestige      95   90.0    Southwest France   \n",
       "14                         Grace Vineyard      95  185.0              Oregon   \n",
       "15                                 Sigrid      95   90.0              Oregon   \n",
       "16                        Rainin Vineyard      95  325.0          California   \n",
       "17                6 A√±os Reserva Premium      95   80.0      Northern Spain   \n",
       "18                          Le Pigeonnier      95  290.0    Southwest France   \n",
       "19                   Gap's Crown Vineyard      95   75.0          California   \n",
       "\n",
       "                     region_1           region_2             variety  \\\n",
       "0                 Napa Valley               Napa  Cabernet Sauvignon   \n",
       "1                        Toro                NaN       Tinta de Toro   \n",
       "2              Knights Valley             Sonoma     Sauvignon Blanc   \n",
       "3           Willamette Valley  Willamette Valley          Pinot Noir   \n",
       "4                      Bandol                NaN  Provence red blend   \n",
       "5                        Toro                NaN       Tinta de Toro   \n",
       "6                        Toro                NaN       Tinta de Toro   \n",
       "7                        Toro                NaN       Tinta de Toro   \n",
       "8          Chehalem Mountains  Willamette Valley          Pinot Noir   \n",
       "9                Sonoma Coast             Sonoma          Pinot Noir   \n",
       "10                     Collio                NaN            Friulano   \n",
       "11               Ribbon Ridge  Willamette Valley          Pinot Noir   \n",
       "12               Dundee Hills  Willamette Valley          Pinot Noir   \n",
       "13                    Madiran                NaN              Tannat   \n",
       "14               Dundee Hills  Willamette Valley          Pinot Noir   \n",
       "15          Willamette Valley  Willamette Valley          Chardonnay   \n",
       "16  Diamond Mountain District               Napa  Cabernet Sauvignon   \n",
       "17           Ribera del Duero                NaN         Tempranillo   \n",
       "18                     Cahors                NaN              Malbec   \n",
       "19               Sonoma Coast             Sonoma          Pinot Noir   \n",
       "\n",
       "                      winery  \n",
       "0                      Heitz  \n",
       "1   Bodega Carmen Rodr√≠guez  \n",
       "2                   Macauley  \n",
       "3                      Ponzi  \n",
       "4      Domaine de la B√©gude  \n",
       "5                  Numanthia  \n",
       "6                   Maurodos  \n",
       "7   Bodega Carmen Rodr√≠guez  \n",
       "8                 Bergstr√∂m  \n",
       "9                  Blue Farm  \n",
       "10          Borgo del Tiglio  \n",
       "11    Patricia Green Cellars  \n",
       "12    Patricia Green Cellars  \n",
       "13         Vignobles Brumont  \n",
       "14            Domaine Serene  \n",
       "15                Bergstr√∂m  \n",
       "16                      Hall  \n",
       "17                  Valduero  \n",
       "18      Ch√¢teau Lagr√©zette  \n",
       "19              Gary Farrell  "
      ]
     },
     "execution_count": 8,
     "metadata": {},
     "output_type": "execute_result"
    }
   ],
   "source": [
    "wine_df['designation'] = wine_df['designation'].fillna('')\n",
    "wine_df.head(20)"
   ]
  },
  {
   "cell_type": "code",
   "execution_count": 9,
   "metadata": {},
   "outputs": [
    {
     "data": {
      "text/plain": [
       "dtype('O')"
      ]
     },
     "execution_count": 9,
     "metadata": {},
     "output_type": "execute_result"
    }
   ],
   "source": [
    "# Check data type in region_2 column\n",
    "wine_df['region_2'].dtype"
   ]
  },
  {
   "cell_type": "code",
   "execution_count": 10,
   "metadata": {},
   "outputs": [
    {
     "data": {
      "text/plain": [
       "array(['Napa', nan, 'Sonoma', 'Willamette Valley', 'Central Coast',\n",
       "       'Columbia Valley', 'Finger Lakes', 'California Other',\n",
       "       'Mendocino/Lake Counties', 'South Coast', 'Central Valley',\n",
       "       'New York Other', 'Sierra Foothills', 'Southern Oregon',\n",
       "       'Oregon Other', 'Napa-Sonoma', 'North Coast', 'Washington Other',\n",
       "       'Long Island'], dtype=object)"
      ]
     },
     "execution_count": 10,
     "metadata": {},
     "output_type": "execute_result"
    }
   ],
   "source": [
    "# Check uniques values in region_2 column\n",
    "wine_df['region_2'].unique()"
   ]
  },
  {
   "cell_type": "code",
   "execution_count": 11,
   "metadata": {},
   "outputs": [
    {
     "data": {
      "text/html": [
       "<div>\n",
       "<style scoped>\n",
       "    .dataframe tbody tr th:only-of-type {\n",
       "        vertical-align: middle;\n",
       "    }\n",
       "\n",
       "    .dataframe tbody tr th {\n",
       "        vertical-align: top;\n",
       "    }\n",
       "\n",
       "    .dataframe thead th {\n",
       "        text-align: right;\n",
       "    }\n",
       "</style>\n",
       "<table border=\"1\" class=\"dataframe\">\n",
       "  <thead>\n",
       "    <tr style=\"text-align: right;\">\n",
       "      <th></th>\n",
       "      <th>Unnamed: 0</th>\n",
       "      <th>country</th>\n",
       "      <th>description</th>\n",
       "      <th>designation</th>\n",
       "      <th>points</th>\n",
       "      <th>price</th>\n",
       "      <th>province</th>\n",
       "      <th>region_1</th>\n",
       "      <th>variety</th>\n",
       "      <th>winery</th>\n",
       "    </tr>\n",
       "  </thead>\n",
       "  <tbody>\n",
       "    <tr>\n",
       "      <th>0</th>\n",
       "      <td>0</td>\n",
       "      <td>US</td>\n",
       "      <td>This tremendous 100% varietal wine hails from ...</td>\n",
       "      <td>Martha's Vineyard</td>\n",
       "      <td>96</td>\n",
       "      <td>235.0</td>\n",
       "      <td>California</td>\n",
       "      <td>Napa Valley</td>\n",
       "      <td>Cabernet Sauvignon</td>\n",
       "      <td>Heitz</td>\n",
       "    </tr>\n",
       "    <tr>\n",
       "      <th>1</th>\n",
       "      <td>1</td>\n",
       "      <td>Spain</td>\n",
       "      <td>Ripe aromas of fig, blackberry and cassis are ...</td>\n",
       "      <td>Carodorum Selecci√≥n Especial Reserva</td>\n",
       "      <td>96</td>\n",
       "      <td>110.0</td>\n",
       "      <td>Northern Spain</td>\n",
       "      <td>Toro</td>\n",
       "      <td>Tinta de Toro</td>\n",
       "      <td>Bodega Carmen Rodr√≠guez</td>\n",
       "    </tr>\n",
       "    <tr>\n",
       "      <th>2</th>\n",
       "      <td>2</td>\n",
       "      <td>US</td>\n",
       "      <td>Mac Watson honors the memory of a wine once ma...</td>\n",
       "      <td>Special Selected Late Harvest</td>\n",
       "      <td>96</td>\n",
       "      <td>90.0</td>\n",
       "      <td>California</td>\n",
       "      <td>Knights Valley</td>\n",
       "      <td>Sauvignon Blanc</td>\n",
       "      <td>Macauley</td>\n",
       "    </tr>\n",
       "    <tr>\n",
       "      <th>3</th>\n",
       "      <td>3</td>\n",
       "      <td>US</td>\n",
       "      <td>This spent 20 months in 30% new French oak, an...</td>\n",
       "      <td>Reserve</td>\n",
       "      <td>96</td>\n",
       "      <td>65.0</td>\n",
       "      <td>Oregon</td>\n",
       "      <td>Willamette Valley</td>\n",
       "      <td>Pinot Noir</td>\n",
       "      <td>Ponzi</td>\n",
       "    </tr>\n",
       "    <tr>\n",
       "      <th>4</th>\n",
       "      <td>4</td>\n",
       "      <td>France</td>\n",
       "      <td>This is the top wine from La B√©gude, named af...</td>\n",
       "      <td>La Br√ªlade</td>\n",
       "      <td>95</td>\n",
       "      <td>66.0</td>\n",
       "      <td>Provence</td>\n",
       "      <td>Bandol</td>\n",
       "      <td>Provence red blend</td>\n",
       "      <td>Domaine de la B√©gude</td>\n",
       "    </tr>\n",
       "    <tr>\n",
       "      <th>...</th>\n",
       "      <td>...</td>\n",
       "      <td>...</td>\n",
       "      <td>...</td>\n",
       "      <td>...</td>\n",
       "      <td>...</td>\n",
       "      <td>...</td>\n",
       "      <td>...</td>\n",
       "      <td>...</td>\n",
       "      <td>...</td>\n",
       "      <td>...</td>\n",
       "    </tr>\n",
       "    <tr>\n",
       "      <th>1098</th>\n",
       "      <td>1098</td>\n",
       "      <td>US</td>\n",
       "      <td>Subdued is a good way to describe this light-b...</td>\n",
       "      <td></td>\n",
       "      <td>87</td>\n",
       "      <td>12.0</td>\n",
       "      <td>California</td>\n",
       "      <td>California</td>\n",
       "      <td>White Blend</td>\n",
       "      <td>Kitchen Sink</td>\n",
       "    </tr>\n",
       "    <tr>\n",
       "      <th>1099</th>\n",
       "      <td>1099</td>\n",
       "      <td>US</td>\n",
       "      <td>While spry and dry in style, fragrant apricot ...</td>\n",
       "      <td>Hobbit Hollow Farm Dry</td>\n",
       "      <td>87</td>\n",
       "      <td>20.0</td>\n",
       "      <td>New York</td>\n",
       "      <td>Finger Lakes</td>\n",
       "      <td>Riesling</td>\n",
       "      <td>Heron Hill</td>\n",
       "    </tr>\n",
       "    <tr>\n",
       "      <th>1100</th>\n",
       "      <td>1100</td>\n",
       "      <td>US</td>\n",
       "      <td>Coming from the cool 2011 vintage this wine of...</td>\n",
       "      <td>Cold Creek Vineyard</td>\n",
       "      <td>87</td>\n",
       "      <td>28.0</td>\n",
       "      <td>Washington</td>\n",
       "      <td>Columbia Valley (WA)</td>\n",
       "      <td>Merlot</td>\n",
       "      <td>Chateau Ste. Michelle</td>\n",
       "    </tr>\n",
       "    <tr>\n",
       "      <th>1101</th>\n",
       "      <td>1101</td>\n",
       "      <td>France</td>\n",
       "      <td>This concentrated, structured wine has an eart...</td>\n",
       "      <td></td>\n",
       "      <td>87</td>\n",
       "      <td>27.0</td>\n",
       "      <td>Bordeaux</td>\n",
       "      <td>Listrac-M√©doc</td>\n",
       "      <td>Bordeaux-style Red Blend</td>\n",
       "      <td>Ch√¢teau Vieux Moulin</td>\n",
       "    </tr>\n",
       "    <tr>\n",
       "      <th>1102</th>\n",
       "      <td>1102</td>\n",
       "      <td>US</td>\n",
       "      <td>Fresh apple aromas and lively citrus flavors m...</td>\n",
       "      <td>The Whip</td>\n",
       "      <td>87</td>\n",
       "      <td>22.0</td>\n",
       "      <td>California</td>\n",
       "      <td>Livermore Valley</td>\n",
       "      <td>White Blend</td>\n",
       "      <td>Murrieta's Well</td>\n",
       "    </tr>\n",
       "  </tbody>\n",
       "</table>\n",
       "<p>1103 rows × 10 columns</p>\n",
       "</div>"
      ],
      "text/plain": [
       "      Unnamed: 0 country                                        description  \\\n",
       "0              0      US  This tremendous 100% varietal wine hails from ...   \n",
       "1              1   Spain  Ripe aromas of fig, blackberry and cassis are ...   \n",
       "2              2      US  Mac Watson honors the memory of a wine once ma...   \n",
       "3              3      US  This spent 20 months in 30% new French oak, an...   \n",
       "4              4  France  This is the top wine from La B√©gude, named af...   \n",
       "...          ...     ...                                                ...   \n",
       "1098        1098      US  Subdued is a good way to describe this light-b...   \n",
       "1099        1099      US  While spry and dry in style, fragrant apricot ...   \n",
       "1100        1100      US  Coming from the cool 2011 vintage this wine of...   \n",
       "1101        1101  France  This concentrated, structured wine has an eart...   \n",
       "1102        1102      US  Fresh apple aromas and lively citrus flavors m...   \n",
       "\n",
       "                                designation  points  price        province  \\\n",
       "0                         Martha's Vineyard      96  235.0      California   \n",
       "1     Carodorum Selecci√≥n Especial Reserva      96  110.0  Northern Spain   \n",
       "2             Special Selected Late Harvest      96   90.0      California   \n",
       "3                                   Reserve      96   65.0          Oregon   \n",
       "4                               La Br√ªlade      95   66.0        Provence   \n",
       "...                                     ...     ...    ...             ...   \n",
       "1098                                             87   12.0      California   \n",
       "1099                 Hobbit Hollow Farm Dry      87   20.0        New York   \n",
       "1100                    Cold Creek Vineyard      87   28.0      Washington   \n",
       "1101                                             87   27.0        Bordeaux   \n",
       "1102                               The Whip      87   22.0      California   \n",
       "\n",
       "                  region_1                   variety                    winery  \n",
       "0              Napa Valley        Cabernet Sauvignon                     Heitz  \n",
       "1                     Toro             Tinta de Toro  Bodega Carmen Rodr√≠guez  \n",
       "2           Knights Valley           Sauvignon Blanc                  Macauley  \n",
       "3        Willamette Valley                Pinot Noir                     Ponzi  \n",
       "4                   Bandol        Provence red blend     Domaine de la B√©gude  \n",
       "...                    ...                       ...                       ...  \n",
       "1098            California               White Blend              Kitchen Sink  \n",
       "1099          Finger Lakes                  Riesling                Heron Hill  \n",
       "1100  Columbia Valley (WA)                    Merlot     Chateau Ste. Michelle  \n",
       "1101        Listrac-M√©doc  Bordeaux-style Red Blend     Ch√¢teau Vieux Moulin  \n",
       "1102      Livermore Valley               White Blend           Murrieta's Well  \n",
       "\n",
       "[1103 rows x 10 columns]"
      ]
     },
     "execution_count": 11,
     "metadata": {},
     "output_type": "execute_result"
    }
   ],
   "source": [
    "# Drop region_2 column because it has over 50% missing values\n",
    "wine_df = wine_df.drop(columns='region_2')\n",
    "wine_df"
   ]
  },
  {
   "cell_type": "code",
   "execution_count": 12,
   "metadata": {},
   "outputs": [
    {
     "data": {
      "text/html": [
       "<div>\n",
       "<style scoped>\n",
       "    .dataframe tbody tr th:only-of-type {\n",
       "        vertical-align: middle;\n",
       "    }\n",
       "\n",
       "    .dataframe tbody tr th {\n",
       "        vertical-align: top;\n",
       "    }\n",
       "\n",
       "    .dataframe thead th {\n",
       "        text-align: right;\n",
       "    }\n",
       "</style>\n",
       "<table border=\"1\" class=\"dataframe\">\n",
       "  <thead>\n",
       "    <tr style=\"text-align: right;\">\n",
       "      <th></th>\n",
       "      <th>country</th>\n",
       "      <th>description</th>\n",
       "      <th>designation</th>\n",
       "      <th>points</th>\n",
       "      <th>price</th>\n",
       "      <th>province</th>\n",
       "      <th>region_1</th>\n",
       "      <th>variety</th>\n",
       "      <th>winery</th>\n",
       "    </tr>\n",
       "  </thead>\n",
       "  <tbody>\n",
       "    <tr>\n",
       "      <th>0</th>\n",
       "      <td>US</td>\n",
       "      <td>This tremendous 100% varietal wine hails from ...</td>\n",
       "      <td>Martha's Vineyard</td>\n",
       "      <td>96</td>\n",
       "      <td>235.0</td>\n",
       "      <td>California</td>\n",
       "      <td>Napa Valley</td>\n",
       "      <td>Cabernet Sauvignon</td>\n",
       "      <td>Heitz</td>\n",
       "    </tr>\n",
       "    <tr>\n",
       "      <th>1</th>\n",
       "      <td>Spain</td>\n",
       "      <td>Ripe aromas of fig, blackberry and cassis are ...</td>\n",
       "      <td>Carodorum Selecci√≥n Especial Reserva</td>\n",
       "      <td>96</td>\n",
       "      <td>110.0</td>\n",
       "      <td>Northern Spain</td>\n",
       "      <td>Toro</td>\n",
       "      <td>Tinta de Toro</td>\n",
       "      <td>Bodega Carmen Rodr√≠guez</td>\n",
       "    </tr>\n",
       "    <tr>\n",
       "      <th>2</th>\n",
       "      <td>US</td>\n",
       "      <td>Mac Watson honors the memory of a wine once ma...</td>\n",
       "      <td>Special Selected Late Harvest</td>\n",
       "      <td>96</td>\n",
       "      <td>90.0</td>\n",
       "      <td>California</td>\n",
       "      <td>Knights Valley</td>\n",
       "      <td>Sauvignon Blanc</td>\n",
       "      <td>Macauley</td>\n",
       "    </tr>\n",
       "    <tr>\n",
       "      <th>3</th>\n",
       "      <td>US</td>\n",
       "      <td>This spent 20 months in 30% new French oak, an...</td>\n",
       "      <td>Reserve</td>\n",
       "      <td>96</td>\n",
       "      <td>65.0</td>\n",
       "      <td>Oregon</td>\n",
       "      <td>Willamette Valley</td>\n",
       "      <td>Pinot Noir</td>\n",
       "      <td>Ponzi</td>\n",
       "    </tr>\n",
       "    <tr>\n",
       "      <th>4</th>\n",
       "      <td>France</td>\n",
       "      <td>This is the top wine from La B√©gude, named af...</td>\n",
       "      <td>La Br√ªlade</td>\n",
       "      <td>95</td>\n",
       "      <td>66.0</td>\n",
       "      <td>Provence</td>\n",
       "      <td>Bandol</td>\n",
       "      <td>Provence red blend</td>\n",
       "      <td>Domaine de la B√©gude</td>\n",
       "    </tr>\n",
       "    <tr>\n",
       "      <th>...</th>\n",
       "      <td>...</td>\n",
       "      <td>...</td>\n",
       "      <td>...</td>\n",
       "      <td>...</td>\n",
       "      <td>...</td>\n",
       "      <td>...</td>\n",
       "      <td>...</td>\n",
       "      <td>...</td>\n",
       "      <td>...</td>\n",
       "    </tr>\n",
       "    <tr>\n",
       "      <th>1098</th>\n",
       "      <td>US</td>\n",
       "      <td>Subdued is a good way to describe this light-b...</td>\n",
       "      <td></td>\n",
       "      <td>87</td>\n",
       "      <td>12.0</td>\n",
       "      <td>California</td>\n",
       "      <td>California</td>\n",
       "      <td>White Blend</td>\n",
       "      <td>Kitchen Sink</td>\n",
       "    </tr>\n",
       "    <tr>\n",
       "      <th>1099</th>\n",
       "      <td>US</td>\n",
       "      <td>While spry and dry in style, fragrant apricot ...</td>\n",
       "      <td>Hobbit Hollow Farm Dry</td>\n",
       "      <td>87</td>\n",
       "      <td>20.0</td>\n",
       "      <td>New York</td>\n",
       "      <td>Finger Lakes</td>\n",
       "      <td>Riesling</td>\n",
       "      <td>Heron Hill</td>\n",
       "    </tr>\n",
       "    <tr>\n",
       "      <th>1100</th>\n",
       "      <td>US</td>\n",
       "      <td>Coming from the cool 2011 vintage this wine of...</td>\n",
       "      <td>Cold Creek Vineyard</td>\n",
       "      <td>87</td>\n",
       "      <td>28.0</td>\n",
       "      <td>Washington</td>\n",
       "      <td>Columbia Valley (WA)</td>\n",
       "      <td>Merlot</td>\n",
       "      <td>Chateau Ste. Michelle</td>\n",
       "    </tr>\n",
       "    <tr>\n",
       "      <th>1101</th>\n",
       "      <td>France</td>\n",
       "      <td>This concentrated, structured wine has an eart...</td>\n",
       "      <td></td>\n",
       "      <td>87</td>\n",
       "      <td>27.0</td>\n",
       "      <td>Bordeaux</td>\n",
       "      <td>Listrac-M√©doc</td>\n",
       "      <td>Bordeaux-style Red Blend</td>\n",
       "      <td>Ch√¢teau Vieux Moulin</td>\n",
       "    </tr>\n",
       "    <tr>\n",
       "      <th>1102</th>\n",
       "      <td>US</td>\n",
       "      <td>Fresh apple aromas and lively citrus flavors m...</td>\n",
       "      <td>The Whip</td>\n",
       "      <td>87</td>\n",
       "      <td>22.0</td>\n",
       "      <td>California</td>\n",
       "      <td>Livermore Valley</td>\n",
       "      <td>White Blend</td>\n",
       "      <td>Murrieta's Well</td>\n",
       "    </tr>\n",
       "  </tbody>\n",
       "</table>\n",
       "<p>1103 rows × 9 columns</p>\n",
       "</div>"
      ],
      "text/plain": [
       "     country                                        description  \\\n",
       "0         US  This tremendous 100% varietal wine hails from ...   \n",
       "1      Spain  Ripe aromas of fig, blackberry and cassis are ...   \n",
       "2         US  Mac Watson honors the memory of a wine once ma...   \n",
       "3         US  This spent 20 months in 30% new French oak, an...   \n",
       "4     France  This is the top wine from La B√©gude, named af...   \n",
       "...      ...                                                ...   \n",
       "1098      US  Subdued is a good way to describe this light-b...   \n",
       "1099      US  While spry and dry in style, fragrant apricot ...   \n",
       "1100      US  Coming from the cool 2011 vintage this wine of...   \n",
       "1101  France  This concentrated, structured wine has an eart...   \n",
       "1102      US  Fresh apple aromas and lively citrus flavors m...   \n",
       "\n",
       "                                designation  points  price        province  \\\n",
       "0                         Martha's Vineyard      96  235.0      California   \n",
       "1     Carodorum Selecci√≥n Especial Reserva      96  110.0  Northern Spain   \n",
       "2             Special Selected Late Harvest      96   90.0      California   \n",
       "3                                   Reserve      96   65.0          Oregon   \n",
       "4                               La Br√ªlade      95   66.0        Provence   \n",
       "...                                     ...     ...    ...             ...   \n",
       "1098                                             87   12.0      California   \n",
       "1099                 Hobbit Hollow Farm Dry      87   20.0        New York   \n",
       "1100                    Cold Creek Vineyard      87   28.0      Washington   \n",
       "1101                                             87   27.0        Bordeaux   \n",
       "1102                               The Whip      87   22.0      California   \n",
       "\n",
       "                  region_1                   variety                    winery  \n",
       "0              Napa Valley        Cabernet Sauvignon                     Heitz  \n",
       "1                     Toro             Tinta de Toro  Bodega Carmen Rodr√≠guez  \n",
       "2           Knights Valley           Sauvignon Blanc                  Macauley  \n",
       "3        Willamette Valley                Pinot Noir                     Ponzi  \n",
       "4                   Bandol        Provence red blend     Domaine de la B√©gude  \n",
       "...                    ...                       ...                       ...  \n",
       "1098            California               White Blend              Kitchen Sink  \n",
       "1099          Finger Lakes                  Riesling                Heron Hill  \n",
       "1100  Columbia Valley (WA)                    Merlot     Chateau Ste. Michelle  \n",
       "1101        Listrac-M√©doc  Bordeaux-style Red Blend     Ch√¢teau Vieux Moulin  \n",
       "1102      Livermore Valley               White Blend           Murrieta's Well  \n",
       "\n",
       "[1103 rows x 9 columns]"
      ]
     },
     "execution_count": 12,
     "metadata": {},
     "output_type": "execute_result"
    }
   ],
   "source": [
    "wine_df = wine_df.drop(columns='Unnamed: 0')\n",
    "wine_df"
   ]
  },
  {
   "cell_type": "code",
   "execution_count": 13,
   "metadata": {},
   "outputs": [
    {
     "data": {
      "text/plain": [
       "dtype('O')"
      ]
     },
     "execution_count": 13,
     "metadata": {},
     "output_type": "execute_result"
    }
   ],
   "source": [
    "wine_df['region_1'].dtype"
   ]
  },
  {
   "cell_type": "code",
   "execution_count": 14,
   "metadata": {},
   "outputs": [
    {
     "data": {
      "text/plain": [
       "array(['Napa Valley', 'Toro', 'Knights Valley', 'Willamette Valley',\n",
       "       'Bandol', 'Chehalem Mountains', 'Sonoma Coast', 'Collio',\n",
       "       'Ribbon Ridge', 'Dundee Hills', 'Madiran',\n",
       "       'Diamond Mountain District', 'Ribera del Duero', 'Cahors', 'Rioja',\n",
       "       'Edna Valley', 'Santa Cruz Mountains', nan,\n",
       "       'Santa Lucia Highlands', 'Walla Walla Valley (WA)',\n",
       "       'Russian River Valley', 'Brunello di Montalcino', 'Vin Mousseux',\n",
       "       'Columbia Valley (WA)', 'Ch√¢teauneuf-du-Pape',\n",
       "       'Vino Nobile di Montepulciano', 'Chianti Classico',\n",
       "       'Ribeira Sacra', 'Jerez', 'Cornas', 'Mount Veeder', 'Red Mountain',\n",
       "       'Chassagne-Montrachet', 'Sancerre', 'Coteaux du Giennois',\n",
       "       'Finger Lakes', 'Maremma Toscana', 'Mendoza',\n",
       "       'Mornington Peninsula', 'Chablis', 'Santa Clara Valley',\n",
       "       'Eola-Amity Hills', 'Rutherford', 'St. Helena', 'Barolo',\n",
       "       'Champagne', 'Roero', 'California', 'Prosecco', 'Mendocino County',\n",
       "       'Sonoma Valley', 'Buzet', 'C√¥tes de Gascogne', 'South Coast',\n",
       "       'Paso Robles', 'Yakima Valley', 'Lodi', 'Tupungato',\n",
       "       'Howell Mountain', 'Hudson River Region', 'Valle de Uco',\n",
       "       'Jumilla', 'Gaillac', 'Anderson Valley', 'Santa Maria Valley',\n",
       "       'Amador County', 'Etna', 'Greco di Tufo', 'Sonoma County',\n",
       "       'Adelaida District', 'Coteaux du Languedoc Pic Saint Loup',\n",
       "       'Bordeaux Ros√©', 'Applegate Valley', 'R√≠as Baixas',\n",
       "       'Sta. Rita Hills', 'Ballard Canyon', 'Cava', 'Rogue Valley',\n",
       "       'Happy Canyon of Santa Barbara', 'Oregon', 'Dunnigan Hills',\n",
       "       'Toscana', 'Livermore Valley', 'C√¥tes du Rh√¥ne',\n",
       "       'Luj√°n de Cuyo', 'Valdeorras', 'Montsant', 'Graves',\n",
       "       'Haut-M√©doc', 'Saint-Est√®phe', 'Fronsac', 'M√©doc',\n",
       "       'Wahluke Slope', 'Barbaresco', 'Rockpile', 'Alsace', 'Sauternes',\n",
       "       'Fort Ross-Seaview', 'Santa Barbara County', 'Horse Heaven Hills',\n",
       "       'Blaye C√¥tes de Bordeaux', 'Bordeaux Blanc', 'Pessac-L√©ognan',\n",
       "       'C√¥tes de Bourg', 'Carneros', 'McMinnville', 'Central Coast',\n",
       "       'Cigales', 'La Mancha', 'Cr√©mant de Loire', 'Monterey County',\n",
       "       'Agrelo', 'Beaune', 'Coombsville', 'Alto Adige', 'Soave Classico',\n",
       "       'Santenay', 'C√¥tes du Tarn', 'Pouilly-Fuiss√©', 'Clos de Vougeot',\n",
       "       'Juran√ßon Sec', 'Clear Lake',\n",
       "       'Amarone della Valpolicella Classico', \"Coteaux d'Aix-en-Provence\",\n",
       "       'C√¥tes de Provence', 'Paso Robles Willow Creek District',\n",
       "       'Umpqua Valley', 'Gevrey-Chambertin', 'Vittoria', 'Pommard',\n",
       "       'Sicilia', 'Terre Siciliane', 'North Coast', 'Dry Creek Valley',\n",
       "       'Red Hills Lake County', 'Okanagan Valley', 'Santa Ynez Valley',\n",
       "       'C√¥tes du Rh√¥ne Villages', 'Alexander Valley', 'Spain',\n",
       "       'Bolgheri', 'Manzanilla-Sanl√∫car de Barrameda', 'Soave',\n",
       "       'San Juan', 'Bergerac Sec', 'Vino Spumante', 'Carmel Valley',\n",
       "       'Fronton', 'Priorat', 'Green Valley', 'Atlas Peak',\n",
       "       'Beamsville Bench', 'Columbia Gorge (WA)', 'Sierra Foothills',\n",
       "       'Morey-Saint-Denis', 'Marsannay', 'Noto', 'Washington',\n",
       "       'Ben Lomond Mountain', 'Vigneti delle Dolomiti', 'Corton',\n",
       "       'Arroyo Seco', 'C√¥tes de Nuits Villages', 'Adelaide Hills',\n",
       "       \"Barbera d'Asti Superiore\", 'Oak Knoll District', \"Barbera d'Alba\",\n",
       "       'Yarra Valley', 'Pouilly-Fum√©', 'Arroyo Grande Valley',\n",
       "       'Carneros-Napa Valley', 'Menetou-Salon',\n",
       "       'Vino de la Tierra de Castilla',\n",
       "       'Moon Mountain District Sonoma County', 'Tavel', 'Argentina',\n",
       "       'Bergerac Ros√©', 'Coteaux Bourguignons', 'Delle Venezie',\n",
       "       'C√¥tes du Lot', 'Yountville', 'Bordeaux Sup√©rieur', 'Calistoga',\n",
       "       'Bordeaux', 'McLaren Vale', 'North Fork of Long Island',\n",
       "       'Lake County', 'Cour-Cheverny', 'Aloxe-Corton', 'Alta Langa',\n",
       "       'Vino da Tavola', 'Langhe', 'San Luis Obispo',\n",
       "       'C√¥tes de Provence Sainte-Victoire',\n",
       "       'C√¥tes de Provence La Londe', 'Pened√®s', 'Valtellina Superiore',\n",
       "       'Oakville', 'Mendocino', 'Tasmania', 'C√¥tes de Bergerac',\n",
       "       'Venezia Giulia', 'Morgon', 'Saint-√âmilion', 'Lugana',\n",
       "       'Sonoma Mountain', 'Virginia', 'Cafayate',\n",
       "       'Alto Valle del R√≠o Negro', 'Bierzo', 'Eden Valley',\n",
       "       'Naches Heights', 'Long Island', 'Moulis-en-M√©doc',\n",
       "       'Listrac-M√©doc'], dtype=object)"
      ]
     },
     "execution_count": 14,
     "metadata": {},
     "output_type": "execute_result"
    }
   ],
   "source": [
    "wine_df['region_1'].unique()"
   ]
  },
  {
   "cell_type": "code",
   "execution_count": 15,
   "metadata": {},
   "outputs": [
    {
     "data": {
      "text/html": [
       "<div>\n",
       "<style scoped>\n",
       "    .dataframe tbody tr th:only-of-type {\n",
       "        vertical-align: middle;\n",
       "    }\n",
       "\n",
       "    .dataframe tbody tr th {\n",
       "        vertical-align: top;\n",
       "    }\n",
       "\n",
       "    .dataframe thead th {\n",
       "        text-align: right;\n",
       "    }\n",
       "</style>\n",
       "<table border=\"1\" class=\"dataframe\">\n",
       "  <thead>\n",
       "    <tr style=\"text-align: right;\">\n",
       "      <th></th>\n",
       "      <th>country</th>\n",
       "      <th>description</th>\n",
       "      <th>designation</th>\n",
       "      <th>points</th>\n",
       "      <th>price</th>\n",
       "      <th>province</th>\n",
       "      <th>region_1</th>\n",
       "      <th>variety</th>\n",
       "      <th>winery</th>\n",
       "    </tr>\n",
       "  </thead>\n",
       "  <tbody>\n",
       "    <tr>\n",
       "      <th>0</th>\n",
       "      <td>US</td>\n",
       "      <td>This tremendous 100% varietal wine hails from ...</td>\n",
       "      <td>Martha's Vineyard</td>\n",
       "      <td>96</td>\n",
       "      <td>235.0</td>\n",
       "      <td>California</td>\n",
       "      <td>Napa Valley</td>\n",
       "      <td>Cabernet Sauvignon</td>\n",
       "      <td>Heitz</td>\n",
       "    </tr>\n",
       "    <tr>\n",
       "      <th>1</th>\n",
       "      <td>Spain</td>\n",
       "      <td>Ripe aromas of fig, blackberry and cassis are ...</td>\n",
       "      <td>Carodorum Selecci√≥n Especial Reserva</td>\n",
       "      <td>96</td>\n",
       "      <td>110.0</td>\n",
       "      <td>Northern Spain</td>\n",
       "      <td>Toro</td>\n",
       "      <td>Tinta de Toro</td>\n",
       "      <td>Bodega Carmen Rodr√≠guez</td>\n",
       "    </tr>\n",
       "    <tr>\n",
       "      <th>2</th>\n",
       "      <td>US</td>\n",
       "      <td>Mac Watson honors the memory of a wine once ma...</td>\n",
       "      <td>Special Selected Late Harvest</td>\n",
       "      <td>96</td>\n",
       "      <td>90.0</td>\n",
       "      <td>California</td>\n",
       "      <td>Knights Valley</td>\n",
       "      <td>Sauvignon Blanc</td>\n",
       "      <td>Macauley</td>\n",
       "    </tr>\n",
       "    <tr>\n",
       "      <th>3</th>\n",
       "      <td>US</td>\n",
       "      <td>This spent 20 months in 30% new French oak, an...</td>\n",
       "      <td>Reserve</td>\n",
       "      <td>96</td>\n",
       "      <td>65.0</td>\n",
       "      <td>Oregon</td>\n",
       "      <td>Willamette Valley</td>\n",
       "      <td>Pinot Noir</td>\n",
       "      <td>Ponzi</td>\n",
       "    </tr>\n",
       "    <tr>\n",
       "      <th>4</th>\n",
       "      <td>France</td>\n",
       "      <td>This is the top wine from La B√©gude, named af...</td>\n",
       "      <td>La Br√ªlade</td>\n",
       "      <td>95</td>\n",
       "      <td>66.0</td>\n",
       "      <td>Provence</td>\n",
       "      <td>Bandol</td>\n",
       "      <td>Provence red blend</td>\n",
       "      <td>Domaine de la B√©gude</td>\n",
       "    </tr>\n",
       "    <tr>\n",
       "      <th>...</th>\n",
       "      <td>...</td>\n",
       "      <td>...</td>\n",
       "      <td>...</td>\n",
       "      <td>...</td>\n",
       "      <td>...</td>\n",
       "      <td>...</td>\n",
       "      <td>...</td>\n",
       "      <td>...</td>\n",
       "      <td>...</td>\n",
       "    </tr>\n",
       "    <tr>\n",
       "      <th>1098</th>\n",
       "      <td>US</td>\n",
       "      <td>Subdued is a good way to describe this light-b...</td>\n",
       "      <td></td>\n",
       "      <td>87</td>\n",
       "      <td>12.0</td>\n",
       "      <td>California</td>\n",
       "      <td>California</td>\n",
       "      <td>White Blend</td>\n",
       "      <td>Kitchen Sink</td>\n",
       "    </tr>\n",
       "    <tr>\n",
       "      <th>1099</th>\n",
       "      <td>US</td>\n",
       "      <td>While spry and dry in style, fragrant apricot ...</td>\n",
       "      <td>Hobbit Hollow Farm Dry</td>\n",
       "      <td>87</td>\n",
       "      <td>20.0</td>\n",
       "      <td>New York</td>\n",
       "      <td>Finger Lakes</td>\n",
       "      <td>Riesling</td>\n",
       "      <td>Heron Hill</td>\n",
       "    </tr>\n",
       "    <tr>\n",
       "      <th>1100</th>\n",
       "      <td>US</td>\n",
       "      <td>Coming from the cool 2011 vintage this wine of...</td>\n",
       "      <td>Cold Creek Vineyard</td>\n",
       "      <td>87</td>\n",
       "      <td>28.0</td>\n",
       "      <td>Washington</td>\n",
       "      <td>Columbia Valley (WA)</td>\n",
       "      <td>Merlot</td>\n",
       "      <td>Chateau Ste. Michelle</td>\n",
       "    </tr>\n",
       "    <tr>\n",
       "      <th>1101</th>\n",
       "      <td>France</td>\n",
       "      <td>This concentrated, structured wine has an eart...</td>\n",
       "      <td></td>\n",
       "      <td>87</td>\n",
       "      <td>27.0</td>\n",
       "      <td>Bordeaux</td>\n",
       "      <td>Listrac-M√©doc</td>\n",
       "      <td>Bordeaux-style Red Blend</td>\n",
       "      <td>Ch√¢teau Vieux Moulin</td>\n",
       "    </tr>\n",
       "    <tr>\n",
       "      <th>1102</th>\n",
       "      <td>US</td>\n",
       "      <td>Fresh apple aromas and lively citrus flavors m...</td>\n",
       "      <td>The Whip</td>\n",
       "      <td>87</td>\n",
       "      <td>22.0</td>\n",
       "      <td>California</td>\n",
       "      <td>Livermore Valley</td>\n",
       "      <td>White Blend</td>\n",
       "      <td>Murrieta's Well</td>\n",
       "    </tr>\n",
       "  </tbody>\n",
       "</table>\n",
       "<p>1103 rows × 9 columns</p>\n",
       "</div>"
      ],
      "text/plain": [
       "     country                                        description  \\\n",
       "0         US  This tremendous 100% varietal wine hails from ...   \n",
       "1      Spain  Ripe aromas of fig, blackberry and cassis are ...   \n",
       "2         US  Mac Watson honors the memory of a wine once ma...   \n",
       "3         US  This spent 20 months in 30% new French oak, an...   \n",
       "4     France  This is the top wine from La B√©gude, named af...   \n",
       "...      ...                                                ...   \n",
       "1098      US  Subdued is a good way to describe this light-b...   \n",
       "1099      US  While spry and dry in style, fragrant apricot ...   \n",
       "1100      US  Coming from the cool 2011 vintage this wine of...   \n",
       "1101  France  This concentrated, structured wine has an eart...   \n",
       "1102      US  Fresh apple aromas and lively citrus flavors m...   \n",
       "\n",
       "                                designation  points  price        province  \\\n",
       "0                         Martha's Vineyard      96  235.0      California   \n",
       "1     Carodorum Selecci√≥n Especial Reserva      96  110.0  Northern Spain   \n",
       "2             Special Selected Late Harvest      96   90.0      California   \n",
       "3                                   Reserve      96   65.0          Oregon   \n",
       "4                               La Br√ªlade      95   66.0        Provence   \n",
       "...                                     ...     ...    ...             ...   \n",
       "1098                                             87   12.0      California   \n",
       "1099                 Hobbit Hollow Farm Dry      87   20.0        New York   \n",
       "1100                    Cold Creek Vineyard      87   28.0      Washington   \n",
       "1101                                             87   27.0        Bordeaux   \n",
       "1102                               The Whip      87   22.0      California   \n",
       "\n",
       "                  region_1                   variety                    winery  \n",
       "0              Napa Valley        Cabernet Sauvignon                     Heitz  \n",
       "1                     Toro             Tinta de Toro  Bodega Carmen Rodr√≠guez  \n",
       "2           Knights Valley           Sauvignon Blanc                  Macauley  \n",
       "3        Willamette Valley                Pinot Noir                     Ponzi  \n",
       "4                   Bandol        Provence red blend     Domaine de la B√©gude  \n",
       "...                    ...                       ...                       ...  \n",
       "1098            California               White Blend              Kitchen Sink  \n",
       "1099          Finger Lakes                  Riesling                Heron Hill  \n",
       "1100  Columbia Valley (WA)                    Merlot     Chateau Ste. Michelle  \n",
       "1101        Listrac-M√©doc  Bordeaux-style Red Blend     Ch√¢teau Vieux Moulin  \n",
       "1102      Livermore Valley               White Blend           Murrieta's Well  \n",
       "\n",
       "[1103 rows x 9 columns]"
      ]
     },
     "execution_count": 15,
     "metadata": {},
     "output_type": "execute_result"
    }
   ],
   "source": [
    "wine_df['region_1'] = wine_df['region_1'].fillna('')\n",
    "wine_df"
   ]
  },
  {
   "cell_type": "markdown",
   "metadata": {},
   "source": [
    "The scatter plot below checks if there is a correlation between wine quality (points) and its price."
   ]
  },
  {
   "cell_type": "code",
   "execution_count": 16,
   "metadata": {},
   "outputs": [
    {
     "data": {
      "application/vnd.plotly.v1+json": {
       "config": {
        "plotlyServerURL": "https://plot.ly"
       },
       "data": [
        {
         "customdata": [
          [
           "Cabernet Sauvignon",
           "Heitz"
          ],
          [
           "Sauvignon Blanc",
           "Macauley"
          ],
          [
           "Pinot Noir",
           "Ponzi"
          ],
          [
           "Pinot Noir",
           "Bergstr√∂m"
          ],
          [
           "Pinot Noir",
           "Blue Farm"
          ],
          [
           "Pinot Noir",
           "Patricia Green Cellars"
          ],
          [
           "Pinot Noir",
           "Patricia Green Cellars"
          ],
          [
           "Pinot Noir",
           "Domaine Serene"
          ],
          [
           "Chardonnay",
           "Bergstr√∂m"
          ],
          [
           "Cabernet Sauvignon",
           "Hall"
          ],
          [
           "Pinot Noir",
           "Gary Farrell"
          ],
          [
           "Ros√©",
           "Heitz"
          ],
          [
           "Chardonnay",
           "Center of Effort"
          ],
          [
           "Pinot Noir",
           "Comartin"
          ],
          [
           "Pinot Noir",
           "Bergstr√∂m"
          ],
          [
           "Pinot Noir",
           "Ponzi"
          ],
          [
           "Pinot Noir",
           "Roar"
          ],
          [
           "Syrah",
           "Saviah"
          ],
          [
           "Chardonnay",
           "Zepaltas"
          ],
          [
           "Chardonnay",
           "Buty"
          ],
          [
           "Petite Sirah",
           "Huston"
          ],
          [
           "Cabernet Sauvignon",
           "Brandlin"
          ],
          [
           "Cabernet Sauvignon",
           "Canvasback"
          ],
          [
           "Chardonnay",
           "De Loach"
          ],
          [
           "Cabernet Sauvignon",
           "DeLille"
          ],
          [
           "Riesling",
           "Dr. Konstantin Frank"
          ],
          [
           "Cabernet Sauvignon-Syrah",
           "Efeste"
          ],
          [
           "Syrah",
           "Jason-Stephens"
          ],
          [
           "Cabernet Sauvignon",
           "Michael Mondavi Family Estate"
          ],
          [
           "Pinot Noir",
           "Panther Creek"
          ],
          [
           "Cabernet Sauvignon",
           "Provenance Vineyards"
          ],
          [
           "Cabernet Sauvignon",
           "Raymond"
          ],
          [
           "Pinot Noir",
           "Red Car"
          ],
          [
           "Pinot Gris",
           "Trinity Vineyards"
          ],
          [
           "Pinot Noir",
           "Archery Summit"
          ],
          [
           "Sauvignon Blanc",
           "B Cellars"
          ],
          [
           "Cabernet Sauvignon",
           "B Side"
          ],
          [
           "Pinot Noir",
           "Bethel Heights"
          ],
          [
           "Cabernet Sauvignon",
           "Eagle Glen"
          ],
          [
           "Pinot Noir",
           "Eleven Eleven"
          ],
          [
           "Meritage",
           "Franciscan"
          ],
          [
           "Cabernet Sauvignon",
           "Belle Ambiance"
          ],
          [
           "Chardonnay",
           "Parducci"
          ],
          [
           "Chardonnay",
           "The Naked Grape"
          ],
          [
           "Cabernet Sauvignon",
           "Tin Barn"
          ],
          [
           "Viognier",
           "Hawk Watch Winery"
          ],
          [
           "Cabernet Sauvignon",
           "Hestan"
          ],
          [
           "Cabernet Sauvignon-Cabernet Franc",
           "Ehret"
          ],
          [
           "Moscato",
           "EOS"
          ],
          [
           "Pinot Grigio",
           "Martinez & Martinez"
          ],
          [
           "Cabernet Franc",
           "Ironstone"
          ],
          [
           "Chardonnay",
           "Leaping Horse"
          ],
          [
           "White Blend",
           "Kitchen Sink"
          ],
          [
           "Chardonnay",
           "Kuleto Estate"
          ],
          [
           "Cabernet Sauvignon",
           "Charles Krug"
          ],
          [
           "Riesling",
           "Millbrook"
          ],
          [
           "Pinot Noir",
           "MacPhail"
          ],
          [
           "Pinot Noir",
           "Foursight"
          ],
          [
           "Sparkling Blend",
           "Goat Bubbles"
          ],
          [
           "Chardonnay",
           "Grgich Hills"
          ],
          [
           "Pinot Noir",
           "Navarro"
          ],
          [
           "Pinot Noir",
           "Navarro"
          ],
          [
           "Zinfandel",
           "Renwood"
          ],
          [
           "Cabernet Sauvignon",
           "Trinchero"
          ],
          [
           "Chardonnay",
           "Alexander-Smith"
          ],
          [
           "Barbera",
           "Andis"
          ],
          [
           "Chardonnay",
           "Benziger"
          ],
          [
           "Cabernet Sauvignon",
           "Beaucanon"
          ],
          [
           "Grenache",
           "Brecon Estate"
          ],
          [
           "Zinfandel",
           "Peachy Canyon"
          ],
          [
           "Rh√¥ne-style Red Blend",
           "Three"
          ],
          [
           "Sauvignon Blanc",
           "Clif Family"
          ],
          [
           "Grenache",
           "Santa Cruz Mountain Vineyard"
          ],
          [
           "Chardonnay",
           "Schmidt"
          ],
          [
           "Albari√±o",
           "Stephen Ross"
          ],
          [
           "Pinot Noir",
           "Goldeneye"
          ],
          [
           "Zinfandel",
           "Grgich Hills"
          ],
          [
           "Syrah",
           "Kessler-Haak"
          ],
          [
           "Malvasia Bianca",
           "Larner"
          ],
          [
           "Pinot Noir",
           "Bomb"
          ],
          [
           "Sangiovese",
           "Ledger David"
          ],
          [
           "Bordeaux-style Red Blend",
           "Foxen 7200"
          ],
          [
           "Pinot Noir",
           "Irvine Family Vineyards"
          ],
          [
           "Syrah",
           "Matchbook"
          ],
          [
           "Viognier",
           "Eberle"
          ],
          [
           "Pinot Noir",
           "Silvan Ridge"
          ],
          [
           "Chardonnay",
           "Occasio"
          ],
          [
           "Pinot Noir",
           "Sanford"
          ],
          [
           "Pinot Noir",
           "Foursight"
          ],
          [
           "Cabernet Sauvignon",
           "Cameron Hughes"
          ],
          [
           "Chardonnay",
           "Rodney Strong"
          ],
          [
           "Syrah",
           "San Simeon"
          ],
          [
           "Pinot Noir",
           "Siduri"
          ],
          [
           "Picpoul",
           "Syncline"
          ],
          [
           "Bordeaux-style Red Blend",
           "Pondera"
          ],
          [
           "Zinfandel",
           "Tobin James"
          ],
          [
           "Zinfandel",
           "Tobin James"
          ],
          [
           "Chardonnay",
           "Grand Pacific"
          ],
          [
           "Malbec",
           "Hamilton"
          ],
          [
           "Chardonnay",
           "Heron Hill"
          ],
          [
           "Riesling",
           "Heron Hill"
          ],
          [
           "Riesling",
           "Fox Run"
          ],
          [
           "Cabernet Franc",
           "Glenora"
          ],
          [
           "Gew√ºrztraminer",
           "Chateau Ste. Michelle"
          ],
          [
           "Merlot",
           "Castle Rock"
          ],
          [
           "Cabernet Sauvignon",
           "Dussek Family Cellars"
          ],
          [
           "Cabernet Franc",
           "Serenity"
          ],
          [
           "Grenache",
           "Sol Stone"
          ],
          [
           "Zinfandel",
           "Robert Biale"
          ],
          [
           "G-S-M",
           "Force Majeure"
          ],
          [
           "Mourv√®dre",
           "Anglim"
          ],
          [
           "Zinfandel",
           "Robert Biale"
          ],
          [
           "Syrah",
           "Red Car"
          ],
          [
           "Cabernet Sauvignon",
           "Force Majeure"
          ],
          [
           "Syrah",
           "Mulvane Wine Co."
          ],
          [
           "Cabernet Sauvignon",
           "Double Canyon"
          ],
          [
           "Cabernet Sauvignon",
           "Diamond Creek"
          ],
          [
           "Petit Verdot",
           "C√¥tes de Ciel"
          ],
          [
           "Cabernet Sauvignon",
           "Sparkman"
          ],
          [
           "Chardonnay",
           "Clos du Val"
          ],
          [
           "Pinot Noir",
           "Coeur de Terre"
          ],
          [
           "Chardonnay",
           "Daniel Gehrs"
          ],
          [
           "Rh√¥ne-style White Blend",
           "Davis Family"
          ],
          [
           "Merlot",
           "Decoy"
          ],
          [
           "Pinot Noir",
           "Roco"
          ],
          [
           "Pinot Noir",
           "Saintsbury"
          ],
          [
           "Muscat",
           "Silvan Ridge"
          ],
          [
           "Sauvignon Blanc",
           "St. Sup√©ry"
          ],
          [
           "Pinot Noir",
           "Testarossa"
          ],
          [
           "Cabernet Sauvignon-Merlot",
           "Oso Libre"
          ],
          [
           "Red Blend",
           "Oso Libre"
          ],
          [
           "Pinot Grigio",
           "Bargetto"
          ],
          [
           "Mourv√®dre",
           "Adelaida"
          ],
          [
           "Chardonnay",
           "Alma Rosa"
          ],
          [
           "Chardonnay",
           "Failla"
          ],
          [
           "Rh√¥ne-style Red Blend",
           "Gallica"
          ],
          [
           "Sparkling Blend",
           "J Vineyards & Winery"
          ],
          [
           "Pinot Noir",
           "Les Voleurs"
          ],
          [
           "Pinot Noir",
           "Ryan Cochrane"
          ],
          [
           "Cabernet Sauvignon",
           "Communication Block"
          ],
          [
           "Syrah",
           "Baker & Brain"
          ],
          [
           "Pinot Noir",
           "Elk Cove"
          ],
          [
           "Pinot Gris",
           "Iris Vineyards"
          ],
          [
           "Syrah",
           "Jack Creek"
          ],
          [
           "Pinot Noir",
           "Brick & Mortar"
          ],
          [
           "Pinot Noir",
           "Cuvaison"
          ],
          [
           "Zinfandel",
           "De Loach"
          ],
          [
           "Syrah",
           "Saviah"
          ],
          [
           "Riesling",
           "Smith-Madrone"
          ],
          [
           "Riesling",
           "Stony Hill"
          ],
          [
           "Pinot Noir",
           "Testarossa"
          ],
          [
           "Pinot Noir",
           "Bergstr√∂m"
          ],
          [
           "Pinot Noir",
           "Black Kite"
          ],
          [
           "Pinot Noir",
           "Blue Farm"
          ],
          [
           "Pinot Noir",
           "Domaine Serene"
          ],
          [
           "Pinot Noir",
           "Gary Farrell"
          ],
          [
           "Cabernet Sauvignon",
           "Parallel"
          ],
          [
           "Pinot Noir",
           "Patricia Green Cellars"
          ],
          [
           "Cabernet Sauvignon",
           "Sbragia"
          ],
          [
           "Sparkling Blend",
           "Schramsberg"
          ],
          [
           "Pinot Noir",
           "Trisaetum"
          ],
          [
           "Syrah",
           "Waters"
          ],
          [
           "Cabernet Sauvignon",
           "Pellet Estate"
          ],
          [
           "Chardonnay",
           "Ponzi"
          ],
          [
           "Cabernet Sauvignon",
           "Galerie"
          ],
          [
           "Sauvignon Blanc",
           "Grieve"
          ],
          [
           "Rh√¥ne-style White Blend",
           "Jada Vineyard & Winery"
          ],
          [
           "Pinot Noir",
           "La Crema"
          ],
          [
           "Syrah",
           "Lawer"
          ],
          [
           "Cabernet Sauvignon",
           "Michael Mondavi Family Estate"
          ],
          [
           "Pinot Noir",
           "Small Vines"
          ],
          [
           "Chardonnay",
           "Testarossa"
          ],
          [
           "Chardonnay",
           "Thomas George"
          ],
          [
           "Chardonnay",
           "Wedell Cellars"
          ],
          [
           "Pinot Noir",
           "Winderlea"
          ],
          [
           "Sparkling Blend",
           "Argyle"
          ],
          [
           "Chardonnay",
           "Bernardus"
          ],
          [
           "Pinot Noir",
           "Big Table Farm"
          ],
          [
           "Red Blend",
           "Le Vigne"
          ],
          [
           "Ugni Blanc",
           "Paix Sur Terre"
          ],
          [
           "Gr√ºner Veltliner",
           "Reustle"
          ],
          [
           "Pinot Noir",
           "Pike Road"
          ],
          [
           "Pinot Gris",
           "Firesteed"
          ],
          [
           "Pinot Noir",
           "The Eyrie Vineyards"
          ],
          [
           "Albari√±o",
           "J. Scott Cellars"
          ],
          [
           "Cabernet Sauvignon",
           "Hahn"
          ],
          [
           "Cabernet Sauvignon",
           "Lyeth"
          ],
          [
           "Merlot",
           "Napa Cellars"
          ],
          [
           "Red Blend",
           "Paraduxx"
          ],
          [
           "Cabernet Sauvignon",
           "Freemark Abbey"
          ],
          [
           "Cabernet Sauvignon",
           "Jolet√©"
          ],
          [
           "Rh√¥ne-style Red Blend",
           "Prospect 772"
          ],
          [
           "Cabernet Sauvignon",
           "Boatique"
          ],
          [
           "Chardonnay",
           "Hearst Ranch"
          ],
          [
           "Cabernet Sauvignon",
           "Hunt Cellars"
          ],
          [
           "Malbec",
           "Merry Cellars"
          ],
          [
           "White Blend",
           "Carlson"
          ],
          [
           "Cabernet Sauvignon",
           "Medlock Ames"
          ],
          [
           "Sauvignon Blanc",
           "Passaggio"
          ],
          [
           "Chardonnay",
           "Patland"
          ],
          [
           "Chardonnay",
           "Trig Point"
          ],
          [
           "Chardonnay",
           "Terlato"
          ],
          [
           "Cabernet Sauvignon",
           "The Calling"
          ],
          [
           "Rh√¥ne-style Red Blend",
           "Westwood"
          ],
          [
           "Tempranillo",
           "Fenestra"
          ],
          [
           "Cabernet Sauvignon",
           "Dussek Family Cellars"
          ],
          [
           "Zinfandel",
           "League of Rogues"
          ],
          [
           "Cabernet Franc",
           "Serenity"
          ],
          [
           "Grenache",
           "Sol Stone"
          ],
          [
           "Sauvignon Blanc",
           "Va Piano"
          ],
          [
           "Chardonnay",
           "McGrail"
          ],
          [
           "Cabernet Sauvignon",
           "Michael David"
          ],
          [
           "Cabernet Sauvignon",
           "3 Horse Ranch Vineyards"
          ],
          [
           "Rh√¥ne-style White Blend",
           "Cairdeas"
          ],
          [
           "Cabernet Sauvignon",
           "Villa San Juliette"
          ],
          [
           "Chardonnay",
           "Hat Ranch"
          ],
          [
           "White Blend",
           "Huston"
          ],
          [
           "Riesling",
           "Coiled"
          ],
          [
           "Tempranillo",
           "Vale"
          ],
          [
           "Chardonnay",
           "Lawer"
          ],
          [
           "Syrah",
           "Hawk Watch Winery"
          ],
          [
           "Moscato",
           "The Naked Grape"
          ],
          [
           "Ros√©",
           "Obelisco Estate"
          ],
          [
           "Aglianico",
           "Orsi Family Vineyards"
          ],
          [
           "Cabernet Sauvignon",
           "Winc"
          ],
          [
           "Viognier",
           "Cass"
          ],
          [
           "Merlot",
           "Castle Rock"
          ],
          [
           "Pinot Noir",
           "Angeline"
          ],
          [
           "Chardonnay",
           "Eberle"
          ],
          [
           "Sauvignon Blanc",
           "Firestone"
          ],
          [
           "Primitivo",
           "DeLorimier"
          ],
          [
           "Pinot Noir",
           "Guenoc"
          ],
          [
           "Red Blend",
           "Hawk Watch Winery"
          ],
          [
           "Barbera",
           "Orsi Family Vineyards"
          ],
          [
           "Pinot Noir",
           "Foursight"
          ],
          [
           "Chardonnay",
           "Aubichon Cellars"
          ],
          [
           "Bordeaux-style Red Blend",
           "Bo√´t√©"
          ],
          [
           "Pinot Noir",
           "Anam Cara"
          ],
          [
           "Pinot Noir",
           "Carden"
          ],
          [
           "Red Blend",
           "Carhartt Vineyard"
          ],
          [
           "Syrah",
           "Rideau"
          ],
          [
           "Zinfandel",
           "Epoch Estate Wines"
          ],
          [
           "Syrah",
           "Ledger David"
          ],
          [
           "Zinfandel",
           "Lone Madrone"
          ],
          [
           "Pinot Noir",
           "Kelley Fox"
          ],
          [
           "Chardonnay",
           "Martin Ray"
          ],
          [
           "Zinfandel",
           "Robert Biale"
          ],
          [
           "Bordeaux-style Red Blend",
           "Sequoia Grove"
          ],
          [
           "Cabernet Sauvignon",
           "VinRoc"
          ],
          [
           "Red Blend",
           "Ferguson Crest"
          ],
          [
           "Chardonnay",
           "Sanguis"
          ],
          [
           "Chardonnay",
           "Ram's Gate"
          ],
          [
           "Chardonnay",
           "Array"
          ],
          [
           "Syrah",
           "Vie Winery"
          ],
          [
           "Chardonnay",
           "Woodward Canyon"
          ],
          [
           "Chardonnay",
           "Lafond"
          ],
          [
           "Chardonnay",
           "Lynmar"
          ],
          [
           "Viognier",
           "Rock Wall"
          ],
          [
           "Chardonnay",
           "Byron"
          ],
          [
           "Viognier",
           "Force Majeure"
          ],
          [
           "Chardonnay",
           "Fort Ross"
          ],
          [
           "Cabernet Franc",
           "Easton"
          ],
          [
           "Zinfandel",
           "Easton"
          ],
          [
           "Pinot Noir",
           "MacMurray Ranch"
          ],
          [
           "Pinot Noir",
           "MacPhail"
          ],
          [
           "Carignane",
           "McCay Cellars"
          ],
          [
           "Pinot Gris",
           "Elizabeth Chambers"
          ],
          [
           "Zinfandel",
           "Ordaz Family Wines"
          ],
          [
           "Pinot Noir",
           "Sol√©na"
          ],
          [
           "Chardonnay",
           "Stags' Leap Winery"
          ],
          [
           "Cabernet Sauvignon",
           "Boatique"
          ],
          [
           "Merlot",
           "Chacewater"
          ],
          [
           "Cabernet Sauvignon",
           "Hahn"
          ],
          [
           "Cabernet Sauvignon",
           "Lyeth"
          ],
          [
           "Pinot Noir",
           "The Calling"
          ],
          [
           "Pinot Noir",
           "Trisaetum"
          ],
          [
           "Cabernet Sauvignon",
           "Frank Family"
          ],
          [
           "Chardonnay",
           "Ancien"
          ],
          [
           "Chardonnay",
           "Barden"
          ],
          [
           "Pinot Noir",
           "Demetria"
          ],
          [
           "Pinot Noir",
           "Domaine Serene"
          ],
          [
           "Pinot Noir",
           "Cherry Pie"
          ],
          [
           "Bordeaux-style Red Blend",
           "21 Grams"
          ],
          [
           "Cabernet Sauvignon",
           "Aperture"
          ],
          [
           "Pinot Noir",
           "Babcock"
          ],
          [
           "Syrah",
           "Nicora"
          ],
          [
           "Chardonnay",
           "Parallel"
          ],
          [
           "Pinot Noir",
           "Patricia Green Cellars"
          ],
          [
           "Zinfandel",
           "Renwood"
          ],
          [
           "Chardonnay",
           "Rusack"
          ],
          [
           "Cabernet Sauvignon",
           "Sbragia"
          ],
          [
           "Cabernet Sauvignon",
           "The Bridge"
          ],
          [
           "Zinfandel",
           "Harney Lane"
          ],
          [
           "Zinfandel",
           "Rock Wall"
          ],
          [
           "Chardonnay",
           "Thistle"
          ],
          [
           "Cabernet Sauvignon",
           "Vitesse"
          ],
          [
           "Pinot Noir",
           "Beauregard"
          ],
          [
           "Pinot Gris",
           "Hawks View"
          ],
          [
           "Chardonnay",
           "J Vineyards & Winery"
          ],
          [
           "Chardonnay",
           "La Follette"
          ],
          [
           "Red Blend",
           "Laird"
          ],
          [
           "Pinot Noir",
           "Les Voleurs"
          ],
          [
           "Sauvignon Blanc",
           "Bernardus"
          ],
          [
           "Cabernet Sauvignon",
           "Louis M. Martini"
          ],
          [
           "Bordeaux-style Red Blend",
           "Ascension Cellars"
          ],
          [
           "Gew√ºrztraminer",
           "Balletto"
          ],
          [
           "Pinot Noir",
           "Chamisal Vineyards"
          ],
          [
           "Gew√ºrztraminer",
           "David Hill"
          ],
          [
           "Rh√¥ne-style White Blend",
           "Davis Family"
          ],
          [
           "Cabernet Sauvignon",
           "Eleven Eleven"
          ],
          [
           "Tempranillo",
           "Folin Cellars"
          ],
          [
           "Pinot Noir",
           "King Estate"
          ],
          [
           "Grenache",
           "Kobler"
          ],
          [
           "Chardonnay",
           "Left Coast Cellars"
          ],
          [
           "Meritage",
           "Dry Creek Vineyard"
          ],
          [
           "Grenache",
           "Epiphany"
          ],
          [
           "Chardonnay",
           "Fog Crest"
          ],
          [
           "Pinot Noir",
           "Goldeneye"
          ],
          [
           "Gew√ºrztraminer",
           "Gundlach Bundschu"
          ],
          [
           "Pinot Noir",
           "Laetitia"
          ],
          [
           "Pinot Noir",
           "Le Cadeau"
          ],
          [
           "Viognier",
           "Lucas & Lewellen"
          ],
          [
           "Chardonnay",
           "Chamisal Vineyards"
          ],
          [
           "Merlot",
           "Chelsea Goldschmidt"
          ],
          [
           "Pinot Noir",
           "Coeur de Terre"
          ],
          [
           "Chardonnay",
           "Cuvaison"
          ],
          [
           "Pinot Noir",
           "Cuvaison"
          ],
          [
           "Cabernet Sauvignon",
           "Korbin Kameron"
          ],
          [
           "Chardonnay",
           "Eric Kent"
          ],
          [
           "Pinot Noir",
           "Fess Parker"
          ],
          [
           "Pinot Noir",
           "Fess Parker"
          ],
          [
           "Cabernet Franc",
           "Hazlitt 1852 Vineyards"
          ],
          [
           "Pinot Noir",
           "Inspire Moore"
          ],
          [
           "Syrah",
           "Kevin White"
          ],
          [
           "Chardonnay",
           "La Pitchoune"
          ],
          [
           "Sauvignon Blanc",
           "Margerum"
          ],
          [
           "Red Blend",
           "MCV"
          ],
          [
           "Chardonnay",
           "Merry Edwards"
          ],
          [
           "Cabernet Franc",
           "Monticello Vineyards"
          ],
          [
           "Sangiovese",
           "Niner"
          ],
          [
           "Zinfandel",
           "Ousterhout"
          ],
          [
           "Sauvignon Blanc",
           "Ousterhout"
          ],
          [
           "Bordeaux-style Red Blend",
           "Plumb Cellars"
          ],
          [
           "Charbono",
           "Sarah's Vineyard"
          ],
          [
           "Cabernet Sauvignon",
           "V. Sattui"
          ],
          [
           "Tempranillo",
           "Matchbook"
          ],
          [
           "Red Blend",
           "The Naked Grape"
          ],
          [
           "Red Blend",
           "Rubino Estates Winery"
          ],
          [
           "Cabernet Sauvignon",
           "Jack's House"
          ],
          [
           "Cabernet Sauvignon",
           "Mirassou"
          ],
          [
           "Merlot",
           "The Naked Grape"
          ],
          [
           "Cabernet Sauvignon",
           "Spann Vineyards"
          ],
          [
           "Chardonnay",
           "Hoopla"
          ],
          [
           "Riesling",
           "Kaena"
          ],
          [
           "Chardonnay",
           "La Fen√™tre"
          ],
          [
           "Tempranillo",
           "Longoria"
          ],
          [
           "Petit Verdot",
           "Opaque"
          ],
          [
           "G-S-M",
           "Prospect 772"
          ],
          [
           "Pinot Noir",
           "Provincial Vineyards"
          ],
          [
           "Pinot Gris",
           "Raptor Ridge"
          ],
          [
           "Pinot Noir",
           "Sol√©na"
          ],
          [
           "Syrah",
           "Sunstone"
          ],
          [
           "Riesling",
           "A to Z"
          ],
          [
           "Ros√©",
           "Abacela"
          ],
          [
           "Red Blend",
           "Aver Family Vineyards"
          ],
          [
           "Cabernet Sauvignon",
           "Two Mountain"
          ],
          [
           "Bordeaux-style Red Blend",
           "Ott & Murphy"
          ],
          [
           "Bordeaux-style Red Blend",
           "Highway 12"
          ],
          [
           "Primitivo",
           "Drytown"
          ],
          [
           "Red Blend",
           "Entropy Cellars"
          ],
          [
           "Merlot",
           "Chateau Ste. Michelle"
          ],
          [
           "Syrah",
           "College Cellars"
          ],
          [
           "Sauvignon Blanc",
           "Coquerel Family Wine Estates"
          ],
          [
           "Cabernet Sauvignon",
           "Bogle"
          ],
          [
           "Rh√¥ne-style White Blend",
           "Cairdeas"
          ],
          [
           "Syrah",
           "Cameron Hughes"
          ],
          [
           "Red Blend",
           "Fujishin"
          ],
          [
           "Bordeaux-style Red Blend",
           "Hamilton"
          ],
          [
           "Pinot Blanc",
           "Las Positas"
          ],
          [
           "Zinfandel",
           "Maddalena"
          ],
          [
           "Red Blend",
           "Markham"
          ],
          [
           "Chardonnay",
           "Rooster Hill"
          ],
          [
           "Gew√ºrztraminer",
           "Rooster Hill"
          ],
          [
           "Cabernet Sauvignon",
           "Pedroncelli"
          ],
          [
           "Pinot Noir",
           "Sol√©na"
          ],
          [
           "Chardonnay",
           "Stags' Leap Winery"
          ],
          [
           "Pinot Gris",
           "Elizabeth Chambers"
          ],
          [
           "Cabernet Sauvignon",
           "Tetra"
          ],
          [
           "Riesling",
           "Trefethen"
          ],
          [
           "Merlot",
           "Herencia"
          ],
          [
           "Cabernet Sauvignon",
           "Levendi"
          ],
          [
           "Negroamaro",
           "Monte Volpe"
          ],
          [
           "Mourv√®dre",
           "Morse"
          ],
          [
           "Barbera",
           "Naggiar"
          ],
          [
           "Red Blend",
           "Paraduxx"
          ],
          [
           "Tempranillo",
           "Renwood"
          ],
          [
           "Rh√¥ne-style Red Blend",
           "Adelaida Cellars"
          ],
          [
           "Zinfandel",
           "Bella Luna"
          ],
          [
           "Syrah",
           "Chacewater"
          ],
          [
           "Cabernet Franc",
           "Occasio"
          ],
          [
           "Cabernet Sauvignon",
           "Korbin Kameron"
          ],
          [
           "Champagne Blend",
           "Sparkling Pointe"
          ],
          [
           "Merlot",
           "Steele"
          ],
          [
           "Cabernet Sauvignon",
           "Trefethen"
          ],
          [
           "Pinot Noir",
           "Anthony Road"
          ],
          [
           "Pinot Noir",
           "Buena Vista"
          ],
          [
           "Pinot Noir",
           "Chateau Lettau"
          ],
          [
           "Tempranillo",
           "Matchbook"
          ],
          [
           "Cabernet Sauvignon",
           "EOS"
          ],
          [
           "Viognier",
           "Force Majeure"
          ],
          [
           "Chardonnay",
           "Fort Ross"
          ],
          [
           "Chardonnay",
           "Byron"
          ],
          [
           "Zinfandel",
           "Robert Biale"
          ],
          [
           "Chardonnay",
           "Talley"
          ],
          [
           "Riesling",
           "Kiona"
          ],
          [
           "Syrah",
           "Comartin"
          ],
          [
           "Cabernet Sauvignon",
           "Cooper-Garrod"
          ],
          [
           "Merlot",
           "Matteo"
          ],
          [
           "Syrah-Cabernet Sauvignon",
           "Epiphany"
          ],
          [
           "Cabernet Sauvignon",
           "Force Majeure"
          ],
          [
           "Rh√¥ne-style Red Blend",
           "Foxen"
          ],
          [
           "Riesling",
           "Savage Grace"
          ],
          [
           "Red Blend",
           "Sextant"
          ],
          [
           "Cabernet Sauvignon",
           "Arbor Crest"
          ],
          [
           "Chardonnay",
           "Evening Land"
          ],
          [
           "Syrah",
           "Chamisal Vineyards"
          ],
          [
           "Chardonnay",
           "Merryvale"
          ],
          [
           "Syrah",
           "Qup√©"
          ],
          [
           "Syrah",
           "Sinor-LaVallee"
          ],
          [
           "Chardonnay",
           "The Calling"
          ],
          [
           "Cabernet Sauvignon",
           "Daou"
          ],
          [
           "Sauvignon Blanc",
           "Darioush"
          ],
          [
           "Red Blend",
           "Derby"
          ],
          [
           "Chardonnay",
           "Domaine Serene"
          ],
          [
           "Cabernet Sauvignon",
           "Freemark Abbey"
          ],
          [
           "Syrah",
           "Hard Six Cellars"
          ],
          [
           "Pinot Noir",
           "King Estate"
          ],
          [
           "Pinot Noir",
           "Patricia Green Cellars"
          ],
          [
           "Sparkling Blend",
           "Schramsberg"
          ],
          [
           "Syrah",
           "Waxwing"
          ],
          [
           "Pinot Noir",
           "Babcock"
          ],
          [
           "Chardonnay",
           "Babcock"
          ],
          [
           "Pinot Noir",
           "Bergstr√∂m"
          ],
          [
           "Pinot Noir",
           "Blue Farm"
          ],
          [
           "Pinot Noir",
           "Challen"
          ],
          [
           "Red Blend",
           "Aver Family Vineyards"
          ],
          [
           "Chardonnay",
           "Conn Creek"
          ],
          [
           "Rh√¥ne-style Red Blend",
           "Fenestra"
          ],
          [
           "Sparkling Blend",
           "Laetitia"
          ],
          [
           "Pinot Gris",
           "Lumos"
          ],
          [
           "Ros√©",
           "Stoller"
          ],
          [
           "Cabernet Sauvignon",
           "Tamber Bey"
          ],
          [
           "Pinot Noir",
           "Walnut City WineWorks"
          ],
          [
           "Pinot Noir",
           "YNOT"
          ],
          [
           "Tempranillo",
           "Obsidian"
          ],
          [
           "Red Blend",
           "Ray's Station Vineyards"
          ],
          [
           "Pinot Noir",
           "Small Vines"
          ],
          [
           "Pinot Noir",
           "Stemmler"
          ],
          [
           "Chardonnay",
           "Thomas George"
          ],
          [
           "Chardonnay",
           "Wedell Cellars"
          ],
          [
           "Pinot Noir",
           "Winderlea"
          ],
          [
           "Cabernet Sauvignon",
           "Azari"
          ],
          [
           "Pinot Noir",
           "Antiquum Farm"
          ],
          [
           "Sparkling Blend",
           "Argyle"
          ],
          [
           "Chardonnay",
           "Auspicion"
          ],
          [
           "Chardonnay",
           "Vin Vault"
          ],
          [
           "Pinot Grigio",
           "The Naked Grape"
          ],
          [
           "Cabernet Sauvignon",
           "Charles Krug"
          ],
          [
           "Chardonnay",
           "Thomas George"
          ],
          [
           "Pinot Noir",
           "Anam Cara"
          ],
          [
           "Pinot Noir",
           "Thistle"
          ],
          [
           "Pinot Noir",
           "McIntyre Vineyards"
          ],
          [
           "Syrah",
           "Palmeri"
          ],
          [
           "Pinot Noir",
           "Anam Cara"
          ],
          [
           "Pinot Noir",
           "Failla"
          ],
          [
           "Pinot Noir",
           "La Follette"
          ],
          [
           "Pinot Noir",
           "River's Edge"
          ],
          [
           "Merlot",
           "Robert Mondavi"
          ],
          [
           "Pinot Noir",
           "Stoller"
          ],
          [
           "Cabernet Franc",
           "Tarara"
          ],
          [
           "Bordeaux-style Red Blend",
           "The Williamsburg Winery"
          ],
          [
           "Bordeaux-style Red Blend",
           "V. Sattui"
          ],
          [
           "Mourv√®dre",
           "Winery by the Creek"
          ],
          [
           "Merlot",
           "North Gate"
          ],
          [
           "Zinfandel",
           "Castle Rock"
          ],
          [
           "Chardonnay",
           "Deep Sea"
          ],
          [
           "Fum√© Blanc",
           "Robert Mondavi"
          ],
          [
           "Pinot Noir",
           "Schug"
          ],
          [
           "Pinot Noir",
           "Tantara"
          ],
          [
           "Merlot",
           "Sevtap"
          ],
          [
           "Cabernet Sauvignon",
           "Sevtap"
          ],
          [
           "Chardonnay",
           "Sheldrake Point"
          ],
          [
           "Zinfandel",
           "Thurston Wolfe"
          ],
          [
           "Nebbiolo",
           "Wilridge"
          ],
          [
           "Cabernet Sauvignon",
           "W√∂lffer"
          ],
          [
           "Cabernet Sauvignon",
           "Chateau Lafayette Reneau"
          ],
          [
           "Syrah",
           "3 Horse Ranch Vineyards"
          ],
          [
           "Riesling",
           "Balo"
          ],
          [
           "Chardonnay",
           "Byron"
          ],
          [
           "Bordeaux-style Red Blend",
           "Gundlach Bundschu"
          ],
          [
           "White Blend",
           "Kitchen Sink"
          ],
          [
           "Riesling",
           "Heron Hill"
          ],
          [
           "Merlot",
           "Chateau Ste. Michelle"
          ],
          [
           "White Blend",
           "Murrieta's Well"
          ]
         ],
         "hovertemplate": "country=US<br>price=%{x}<br>points=%{y}<br>variety=%{customdata[0]}<br>winery=%{customdata[1]}<extra></extra>",
         "legendgroup": "US",
         "marker": {
          "color": "#636efa",
          "symbol": "circle"
         },
         "mode": "markers",
         "name": "US",
         "showlegend": true,
         "type": "scattergl",
         "x": [
          235,
          90,
          65,
          65,
          60,
          48,
          48,
          185,
          90,
          325,
          75,
          24,
          60,
          45,
          62,
          105,
          60,
          60,
          37,
          42,
          55,
          60,
          40,
          18,
          69,
          25,
          30,
          36,
          85,
          50,
          60,
          85,
          45,
          19,
          54,
          38,
          28,
          42,
          22,
          65,
          50,
          10,
          13,
          18,
          36,
          24,
          50,
          48,
          20,
          17,
          12,
          10,
          13,
          45,
          125,
          25,
          59,
          49,
          42,
          93,
          32,
          20,
          100,
          50,
          45,
          26,
          16,
          30,
          42,
          38,
          48,
          28,
          25,
          26,
          24,
          55,
          36,
          40,
          28,
          50,
          24,
          42,
          35,
          16,
          23,
          36,
          25,
          42,
          49,
          29,
          25,
          25,
          49,
          20,
          34,
          38,
          38,
          10,
          18,
          18,
          14,
          14,
          40,
          10,
          11,
          36,
          20,
          32,
          50,
          58,
          38,
          50,
          50,
          80,
          40,
          48,
          200,
          39,
          62,
          28,
          36,
          24,
          30,
          25,
          60,
          54,
          15,
          20,
          61,
          40,
          39,
          16,
          32,
          18,
          58,
          50,
          48,
          32,
          43,
          100,
          35,
          60,
          16,
          42,
          20,
          38,
          32,
          60,
          30,
          30,
          65,
          90,
          85,
          70,
          70,
          60,
          155,
          48,
          95,
          80,
          49,
          50,
          95,
          63,
          50,
          45,
          38,
          30,
          22,
          60,
          55,
          48,
          40,
          50,
          48,
          50,
          40,
          42,
          41,
          27,
          29,
          19,
          15,
          45,
          18,
          15,
          15,
          24,
          80,
          50,
          28,
          36,
          40,
          50,
          75,
          46,
          20,
          75,
          28,
          60,
          22,
          30,
          35,
          38,
          22,
          36,
          30,
          20,
          32,
          20,
          30,
          20,
          23,
          22,
          20,
          22,
          16,
          17,
          38,
          26,
          32,
          18,
          35,
          34,
          31,
          24,
          12,
          18,
          24,
          14,
          38,
          12,
          32,
          28,
          49,
          35,
          30,
          46,
          50,
          43,
          39,
          65,
          35,
          60,
          44,
          30,
          45,
          125,
          98,
          40,
          60,
          68,
          32,
          45,
          66,
          32,
          55,
          20,
          32,
          35,
          44,
          24,
          20,
          23,
          49,
          35,
          18,
          42,
          48,
          30,
          40,
          22,
          15,
          15,
          62,
          49,
          95,
          55,
          48,
          68,
          90,
          60,
          125,
          85,
          60,
          55,
          58,
          48,
          40,
          60,
          120,
          100,
          34,
          40,
          20,
          55,
          45,
          26,
          28,
          38,
          44,
          45,
          50,
          38,
          64,
          18,
          40,
          18,
          30,
          111,
          32,
          57,
          34,
          24,
          45,
          30,
          39,
          55,
          22,
          25,
          48,
          19,
          18,
          18,
          65,
          25,
          48,
          55,
          46,
          55,
          30,
          25,
          27,
          28,
          48,
          36,
          48,
          60,
          42,
          45,
          39,
          25,
          40,
          40,
          85,
          15,
          18,
          15,
          15,
          12,
          18,
          65,
          20,
          25,
          36,
          36,
          30,
          36,
          45,
          20,
          28,
          42,
          14,
          18,
          39,
          28,
          36,
          28,
          18,
          32,
          28,
          26,
          32,
          11,
          26,
          19,
          22,
          28,
          28,
          20,
          25,
          16,
          18,
          25,
          48,
          30,
          18,
          70,
          25,
          42,
          50,
          28,
          22,
          26,
          80,
          28,
          50,
          40,
          22,
          50,
          55,
          37,
          42,
          60,
          27,
          48,
          45,
          15,
          40,
          35,
          44,
          32,
          50,
          27,
          15,
          35,
          33,
          140,
          35,
          75,
          40,
          21,
          80,
          28,
          40,
          40,
          65,
          null,
          28,
          51,
          30,
          45,
          32,
          125,
          150,
          60,
          70,
          60,
          80,
          32,
          60,
          45,
          60,
          80,
          85,
          39,
          25,
          31,
          25,
          18,
          25,
          65,
          40,
          26,
          28,
          40,
          72,
          44,
          36,
          70,
          48,
          125,
          37,
          28,
          13,
          20,
          18,
          100,
          30,
          65,
          32,
          36,
          43,
          65,
          48,
          42,
          19,
          21,
          20,
          25,
          72,
          70,
          26,
          19,
          12,
          22,
          19,
          40,
          70,
          34,
          38,
          14,
          20,
          30,
          40,
          25,
          23,
          24,
          16,
          20,
          12,
          20,
          28,
          22
         ],
         "xaxis": "x",
         "y": [
          96,
          96,
          96,
          95,
          95,
          95,
          95,
          95,
          95,
          95,
          95,
          95,
          95,
          95,
          94,
          94,
          94,
          94,
          90,
          90,
          90,
          90,
          90,
          90,
          90,
          90,
          90,
          91,
          91,
          91,
          91,
          91,
          91,
          91,
          91,
          91,
          91,
          91,
          91,
          91,
          91,
          86,
          86,
          86,
          86,
          86,
          86,
          86,
          86,
          86,
          86,
          86,
          86,
          86,
          86,
          86,
          91,
          91,
          91,
          91,
          91,
          91,
          90,
          90,
          90,
          90,
          90,
          90,
          90,
          90,
          90,
          90,
          90,
          90,
          90,
          90,
          90,
          90,
          90,
          89,
          89,
          89,
          89,
          89,
          89,
          89,
          89,
          89,
          89,
          89,
          88,
          88,
          88,
          88,
          88,
          88,
          88,
          87,
          87,
          87,
          87,
          87,
          87,
          87,
          87,
          87,
          87,
          87,
          93,
          93,
          93,
          93,
          93,
          93,
          93,
          93,
          93,
          93,
          93,
          88,
          88,
          88,
          88,
          88,
          88,
          88,
          88,
          88,
          88,
          88,
          88,
          88,
          88,
          88,
          92,
          92,
          92,
          92,
          92,
          92,
          92,
          91,
          91,
          91,
          91,
          91,
          91,
          94,
          94,
          94,
          94,
          94,
          94,
          94,
          94,
          94,
          94,
          94,
          94,
          94,
          94,
          94,
          94,
          94,
          91,
          91,
          91,
          91,
          91,
          91,
          91,
          91,
          91,
          91,
          91,
          91,
          91,
          91,
          90,
          90,
          90,
          90,
          90,
          90,
          90,
          90,
          90,
          90,
          90,
          90,
          90,
          90,
          90,
          90,
          90,
          90,
          90,
          90,
          90,
          90,
          90,
          90,
          90,
          90,
          90,
          87,
          87,
          87,
          87,
          87,
          87,
          87,
          87,
          87,
          87,
          87,
          87,
          87,
          87,
          86,
          86,
          86,
          86,
          86,
          86,
          86,
          86,
          86,
          86,
          86,
          86,
          86,
          86,
          86,
          89,
          89,
          89,
          89,
          89,
          89,
          89,
          89,
          89,
          89,
          89,
          92,
          92,
          92,
          92,
          92,
          92,
          92,
          92,
          92,
          92,
          92,
          92,
          92,
          92,
          92,
          92,
          90,
          90,
          90,
          90,
          90,
          90,
          90,
          90,
          90,
          90,
          90,
          90,
          90,
          94,
          94,
          94,
          94,
          94,
          94,
          94,
          93,
          93,
          93,
          93,
          93,
          93,
          93,
          93,
          93,
          93,
          93,
          93,
          91,
          91,
          91,
          91,
          91,
          91,
          91,
          91,
          91,
          91,
          90,
          90,
          90,
          90,
          90,
          90,
          90,
          90,
          90,
          90,
          90,
          88,
          88,
          88,
          88,
          88,
          88,
          88,
          88,
          88,
          88,
          88,
          88,
          88,
          90,
          90,
          90,
          90,
          90,
          90,
          90,
          90,
          90,
          90,
          90,
          90,
          90,
          90,
          90,
          90,
          90,
          90,
          90,
          86,
          85,
          85,
          85,
          85,
          85,
          89,
          89,
          89,
          89,
          89,
          89,
          89,
          89,
          89,
          89,
          89,
          89,
          89,
          87,
          87,
          87,
          87,
          87,
          87,
          87,
          87,
          87,
          87,
          87,
          87,
          87,
          87,
          87,
          87,
          87,
          87,
          87,
          90,
          90,
          90,
          90,
          90,
          90,
          90,
          90,
          90,
          90,
          90,
          90,
          90,
          90,
          90,
          90,
          90,
          90,
          90,
          90,
          90,
          90,
          90,
          90,
          90,
          92,
          92,
          92,
          92,
          92,
          92,
          92,
          92,
          92,
          92,
          92,
          92,
          92,
          92,
          92,
          92,
          93,
          93,
          93,
          93,
          93,
          93,
          93,
          93,
          93,
          93,
          93,
          93,
          93,
          93,
          93,
          93,
          93,
          93,
          93,
          93,
          89,
          89,
          89,
          89,
          89,
          89,
          89,
          89,
          89,
          90,
          90,
          90,
          90,
          90,
          90,
          90,
          90,
          90,
          90,
          85,
          85,
          85,
          85,
          85,
          91,
          91,
          91,
          91,
          91,
          91,
          91,
          88,
          88,
          88,
          88,
          88,
          88,
          88,
          88,
          88,
          88,
          88,
          88,
          88,
          87,
          87,
          87,
          87,
          87,
          87,
          87,
          87,
          87,
          87,
          87,
          87,
          87,
          87,
          87
         ],
         "yaxis": "y"
        },
        {
         "customdata": [
          [
           "Tinta de Toro",
           "Bodega Carmen Rodr√≠guez"
          ],
          [
           "Tinta de Toro",
           "Numanthia"
          ],
          [
           "Tinta de Toro",
           "Maurodos"
          ],
          [
           "Tinta de Toro",
           "Bodega Carmen Rodr√≠guez"
          ],
          [
           "Tempranillo",
           "Valduero"
          ],
          [
           "Tempranillo Blend",
           "Muga"
          ],
          [
           "Tinta de Toro",
           "Numanthia"
          ],
          [
           "Menc√≠a",
           "Don Bernardino"
          ],
          [
           "Palomino",
           "Gonz√°lez Byass"
          ],
          [
           "Monastrell",
           "Casa de la Ermita"
          ],
          [
           "Tempranillo",
           "Pagos del Rey"
          ],
          [
           "Tempranillo",
           "Valdelacierva"
          ],
          [
           "Albari√±o",
           "Mar de Vi√±as"
          ],
          [
           "Sparkling Blend",
           "Bohigas"
          ],
          [
           "Tempranillo",
           "CVNE"
          ],
          [
           "Tempranillo Blend",
           "Marqu√©s de C√°ceres"
          ],
          [
           "Tinta de Toro",
           "Pagos del Rey"
          ],
          [
           "Godello",
           "Valdesil"
          ],
          [
           "Red Blend",
           "Jaspi"
          ],
          [
           "Sparkling Blend",
           "Sumarroca"
          ],
          [
           "Tempranillo",
           "Val de Los Frailes"
          ],
          [
           "Tempranillo Blend",
           "Yuntero"
          ],
          [
           "Tempranillo Blend",
           "Bodega Classica"
          ],
          [
           "Red Blend",
           "Matarromera"
          ],
          [
           "Albari√±o",
           "Granbaz√°n"
          ],
          [
           "Tempranillo",
           "Matarromera"
          ],
          [
           "Tempranillo",
           "Quintana de Cue"
          ],
          [
           "Tempranillo",
           "Casa del Valle"
          ],
          [
           "Albari√±o",
           "Palacio de Fefi√±anes"
          ],
          [
           "White Blend",
           "Valquejigoso"
          ],
          [
           "Sparkling Blend",
           "Sumarroca"
          ],
          [
           "Tempranillo",
           "Trus"
          ],
          [
           "Sherry",
           "Bodegas Dios Baco S.L."
          ],
          [
           "Tempranillo",
           "Condado de Oriza"
          ],
          [
           "Sherry",
           "Delgado Zuleta"
          ],
          [
           "Tempranillo Blend",
           "Se√±or√≠o de Sotillo"
          ],
          [
           "Red Blend",
           "Portal del Montsant"
          ],
          [
           "Red Blend",
           "Vega Escal"
          ],
          [
           "Albari√±o",
           "Mar de Frades"
          ],
          [
           "Tempranillo",
           "Maitea"
          ],
          [
           "Sparkling Blend",
           "Castellroig"
          ],
          [
           "Tempranillo",
           "Bodegas Muriel"
          ],
          [
           "Tempranillo Blend",
           "Burgo Viejo"
          ],
          [
           "Tempranillo",
           "Lleiroso"
          ],
          [
           "Red Blend",
           "Pago de Carraovejas"
          ],
          [
           "Albari√±o",
           "Castro Brey"
          ],
          [
           "Tempranillo",
           "Venta Morales"
          ],
          [
           "Sparkling Blend",
           "Llopart"
          ],
          [
           "Palomino",
           "Gonz√°lez Byass"
          ],
          [
           "Red Blend",
           "Vivanco"
          ],
          [
           "Red Blend",
           "Bernard Magrez"
          ],
          [
           "Tempranillo Blend",
           "Beronia"
          ],
          [
           "Sparkling Blend",
           "Llopart"
          ],
          [
           "Sparkling Blend",
           "Torell√≥"
          ],
          [
           "Godello",
           "Dominio Do Bibei"
          ],
          [
           "Palomino",
           "Gonz√°lez Byass"
          ],
          [
           "Tempranillo",
           "Maset del Lle√≥"
          ],
          [
           "Sherry",
           "Lustau"
          ],
          [
           "Tempranillo",
           "San Vicente"
          ],
          [
           "Garnacha",
           "Par√©s Balt√†"
          ],
          [
           "Tempranillo Blend",
           "Rioja Vega"
          ],
          [
           "Tempranillo",
           "Valdub√≥n"
          ],
          [
           "Menc√≠a",
           "Losada"
          ],
          [
           "Monastrell",
           "Finca Hispana"
          ]
         ],
         "hovertemplate": "country=Spain<br>price=%{x}<br>points=%{y}<br>variety=%{customdata[0]}<br>winery=%{customdata[1]}<extra></extra>",
         "legendgroup": "Spain",
         "marker": {
          "color": "#EF553B",
          "symbol": "circle"
         },
         "mode": "markers",
         "name": "Spain",
         "showlegend": true,
         "type": "scattergl",
         "x": [
          110,
          73,
          65,
          110,
          80,
          79,
          220,
          17,
          26,
          null,
          22,
          17,
          17,
          17,
          44,
          44,
          30,
          25,
          22,
          18,
          30,
          17,
          68,
          null,
          22,
          32,
          35,
          28,
          26,
          49,
          18,
          27,
          25,
          15,
          16,
          15,
          28,
          23,
          25,
          12,
          18,
          20,
          17,
          64,
          91,
          20,
          11,
          35,
          26,
          50,
          26,
          21,
          35,
          25,
          36,
          26,
          30,
          30,
          61,
          50,
          35,
          24,
          25,
          15
         ],
         "xaxis": "x",
         "y": [
          96,
          95,
          95,
          95,
          95,
          95,
          95,
          90,
          90,
          86,
          90,
          90,
          90,
          89,
          89,
          89,
          89,
          88,
          87,
          87,
          88,
          88,
          94,
          94,
          91,
          91,
          90,
          90,
          90,
          90,
          87,
          87,
          87,
          87,
          87,
          87,
          87,
          89,
          89,
          89,
          89,
          90,
          90,
          93,
          93,
          90,
          88,
          90,
          90,
          85,
          89,
          90,
          90,
          90,
          90,
          90,
          90,
          93,
          93,
          89,
          90,
          90,
          88,
          87
         ],
         "yaxis": "y"
        },
        {
         "customdata": [
          [
           "Provence red blend",
           "Domaine de la B√©gude"
          ],
          [
           "Tannat",
           "Vignobles Brumont"
          ],
          [
           "Malbec",
           "Ch√¢teau Lagr√©zette"
          ],
          [
           "Sparkling Blend",
           "Bouvet-Ladubay"
          ],
          [
           "Rh√¥ne-style White Blend",
           "Clos de L'Oratoire des Papes"
          ],
          [
           "Syrah",
           "Tardieu-Laurent"
          ],
          [
           "Chardonnay",
           "Chartron et Tr√©buchet"
          ],
          [
           "Sauvignon Blanc",
           "Cherrier Fr√®res"
          ],
          [
           "Pinot Noir",
           "Clement et Florian Berthier"
          ],
          [
           "Sauvignon Blanc",
           "Domaine Vacheron"
          ],
          [
           "Chardonnay",
           "Domaine Chenevi√®res"
          ],
          [
           "Chardonnay",
           "Louis Max"
          ],
          [
           "Chardonnay",
           "Aubry"
          ],
          [
           "Chardonnay",
           "Domaine G√©rard Duplessis"
          ],
          [
           "Malbec-Merlot",
           "Rigal"
          ],
          [
           "Merlot-Malbec",
           "Georges Vigouroux"
          ],
          [
           "Ugni Blanc-Colombard",
           "Georges Vigouroux"
          ],
          [
           "Ros√©",
           "Ch√¢teau Cl√©ment Termes"
          ],
          [
           "Gamay",
           "Ch√¢teau Coutinel"
          ],
          [
           "Ros√©",
           "Ch√¢teau de Lancyre"
          ],
          [
           "Ros√©",
           "Ch√¢teau Suau"
          ],
          [
           "Bordeaux-style Red Blend",
           "Chateau Quattre"
          ],
          [
           "Rh√¥ne-style Red Blend",
           "Ogier"
          ],
          [
           "Bordeaux-style Red Blend",
           "Ch√¢teau Beauregard Lagupeau"
          ],
          [
           "Bordeaux-style Red Blend",
           "Ch√¢teau du Taillan"
          ],
          [
           "Bordeaux-style Red Blend",
           "Ch√¢teau la Haye"
          ],
          [
           "Bordeaux-style Red Blend",
           "Ch√¢teau Lalande Mausse"
          ],
          [
           "Bordeaux-style Red Blend",
           "Ch√¢teau Magnol"
          ],
          [
           "Bordeaux-style Red Blend",
           "Ch√¢teau Roc Taillade"
          ],
          [
           "Bordeaux-style Red Blend",
           "Ch√¢teau S√©n√©jac"
          ],
          [
           "Riesling",
           "Domaine Jean-Luc Mader"
          ],
          [
           "Riesling",
           "Domaine Zind-Humbrecht"
          ],
          [
           "Riesling",
           "Domaine Fran√ßois Schmitt"
          ],
          [
           "Riesling",
           "Gustave Lorentz"
          ],
          [
           "Riesling",
           "Domaine Ostertag"
          ],
          [
           "Bordeaux-style White Blend",
           "Ch√¢teau Raymond-Lafon"
          ],
          [
           "Riesling",
           "Domaine Ehrhart"
          ],
          [
           "Riesling",
           "Domaine Zinck"
          ],
          [
           "Riesling",
           "Domaine Zind-Humbrecht"
          ],
          [
           "Bordeaux-style Red Blend",
           "Ch√¢teau Chantemerle"
          ],
          [
           "Bordeaux-style White Blend",
           "Ch√¢teau Chaubinet"
          ],
          [
           "Bordeaux-style White Blend",
           "Ch√¢teau Ferran"
          ],
          [
           "Bordeaux-style Red Blend",
           "Ch√¢teau Fongalan"
          ],
          [
           "Bordeaux-style White Blend",
           "Ch√¢teau Mezain"
          ],
          [
           "Chenin Blanc-Chardonnay",
           "Musset-Roullier"
          ],
          [
           "Sauvignon Blanc",
           "Pierre Prieur et Fils"
          ],
          [
           "Pinot Noir",
           "Domaine de Bellene"
          ],
          [
           "Chardonnay",
           "Domaine Vincent Girardin"
          ],
          [
           "Malbec",
           "Ch√¢teau du C√®dre"
          ],
          [
           "Bordeaux-style Red Blend",
           "Ch√¢teau Haut Selve"
          ],
          [
           "Chardonnay",
           "Domaine de Bellene"
          ],
          [
           "Bordeaux-style Red Blend",
           "Domaine D'en S√©gur"
          ],
          [
           "Chardonnay",
           "Domaine Sangouard-Guyot"
          ],
          [
           "Pinot Noir",
           "Evening Land"
          ],
          [
           "Gros and Petit Manseng",
           "Lionel Osmin & Cie"
          ],
          [
           "Tannat-Cabernet",
           "Vignobles Brumont"
          ],
          [
           "Provence red blend",
           "Domaine de la B√©gude"
          ],
          [
           "Ros√©",
           "Ch√¢teau Vignelaure"
          ],
          [
           "Provence red blend",
           "Domaine de la B√©gude"
          ],
          [
           "Ros√©",
           "Ch√¢teau d'Esclans"
          ],
          [
           "Malbec",
           "Ch√¢teau Lagr√©zette"
          ],
          [
           "Chardonnay",
           "A.R. Lenoble¬†"
          ],
          [
           "Pinot Noir",
           "Domaine Bott-Geyl"
          ],
          [
           "Pinot Noir",
           "Domaine Faiveley"
          ],
          [
           "Sylvaner",
           "Domaine Ostertag"
          ],
          [
           "Chasselas",
           "Domaine Schoffit"
          ],
          [
           "Alsace white blend",
           "Domaine Zind-Humbrecht"
          ],
          [
           "Pinot Noir",
           "Albert Bichot"
          ],
          [
           "Pinot Noir",
           "Pascal & Nicolas Reverdy"
          ],
          [
           "Rh√¥ne-style Red Blend",
           "Ch√¢teau P√©gau"
          ],
          [
           "Rh√¥ne-style Red Blend",
           "Kirkland Signature"
          ],
          [
           "Bordeaux-style Red Blend",
           "Les Hauts de Tousquiron"
          ],
          [
           "Bordeaux-style White Blend",
           "Ch√¢teau de Portets"
          ],
          [
           "White Blend",
           "Domaine de Lamothe"
          ],
          [
           "Semillon-Sauvignon Blanc",
           "Lionel Osmin & Cie"
          ],
          [
           "Grenache-Syrah",
           "Les Vignobles Foncalieu"
          ],
          [
           "Red Blend",
           "Domaine Rotier"
          ],
          [
           "White Blend",
           "Domaine Rotier"
          ],
          [
           "Negrette",
           "Ch√¢teau Bouissel"
          ],
          [
           "Grenache-Syrah",
           "M. Chapoutier"
          ],
          [
           "Riesling",
           "Boeckel"
          ],
          [
           "Riesling",
           "Domaine Loew"
          ],
          [
           "Riesling",
           "Hugel"
          ],
          [
           "Bordeaux-style Red Blend",
           "Ch√¢teau Marsau"
          ],
          [
           "Riesling",
           "Jean Becker"
          ],
          [
           "Pinot Noir",
           "Labour√©-Roi"
          ],
          [
           "Pinot Noir",
           "Labour√©-Roi"
          ],
          [
           "Chardonnay",
           "Chanson P√®re et Fils"
          ],
          [
           "Sylvaner",
           "Domaine Barm√®s-Buecher"
          ],
          [
           "Pinot Noir",
           "Domaine Collotte"
          ],
          [
           "White Blend",
           "Domaine Riefl√©-Landmann"
          ],
          [
           "Pinot Blanc",
           "Domaine Weinbach"
          ],
          [
           "Red Blend",
           "Vignobles Brumont"
          ],
          [
           "Tannat-Cabernet",
           "Ch√¢teau de Gayon"
          ],
          [
           "Malbec-Merlot",
           "Ch√¢teau Lagr√©zette"
          ],
          [
           "Provence red blend",
           "Domaine de la B√©gude"
          ],
          [
           "Pinot Noir",
           "L. Tramier & Fils"
          ],
          [
           "Bordeaux-style Red Blend",
           "Ch√¢teau Devise d'Ardilley"
          ],
          [
           "Chardonnay",
           "Domaine de Bellene"
          ],
          [
           "Malbec",
           "Ch√¢teau Saint-Didier-Parnac"
          ],
          [
           "Red Blend",
           "Domaine d'Arton"
          ],
          [
           "Chardonnay",
           "Domaine G√©rard Duplessis"
          ],
          [
           "Sauvignon Blanc",
           "Domaine G√©rard Fiou"
          ],
          [
           "Sauvignon Blanc",
           "Domaine Thomas & Fils"
          ],
          [
           "Bordeaux-style Red Blend",
           "Etienne de Tauriac"
          ],
          [
           "Sauvignon Blanc",
           "Francis Blanchet"
          ],
          [
           "Sauvignon Blanc",
           "Jean-Max Roger"
          ],
          [
           "Bordeaux-style White Blend",
           "Ch√¢teau de Cruzeau"
          ],
          [
           "Bordeaux-style White Blend",
           "Ch√¢teau Lafargue"
          ],
          [
           "Bordeaux-style White Blend",
           "Ch√¢teau le Sartre"
          ],
          [
           "Bordeaux-style White Blend",
           "Ch√¢teau Roc de Minvielle"
          ],
          [
           "Bordeaux-style White Blend",
           "Clos Marsalette"
          ],
          [
           "Pinot Noir",
           "Domaine de l'Hermitage"
          ],
          [
           "Ros√©",
           "Prieur√© de Mont√©zargues"
          ],
          [
           "Ros√©",
           "Ch√¢teau B√©lingard"
          ],
          [
           "Red Blend",
           "Ch√¢teau Cl√©ment Termes"
          ],
          [
           "Pinot Noir-Gamay",
           "Joseph Drouhin"
          ],
          [
           "Ros√©",
           "Georges Vigouroux"
          ],
          [
           "Malbec",
           "Rigal"
          ],
          [
           "Rh√¥ne-style Red Blend",
           "Les Vignobles Foncalieu"
          ],
          [
           "Malbec",
           "Ch√¢teau Bovila"
          ],
          [
           "Gros Manseng",
           "Laudet"
          ],
          [
           "White Blend",
           "Clos Troteligotte"
          ],
          [
           "Bordeaux-style Red Blend",
           "Ch√¢teau Gazin Rocquencourt"
          ],
          [
           "Bordeaux-style White Blend",
           "Ch√¢teau Haut Selve"
          ],
          [
           "Bordeaux-style Red Blend",
           "Ch√¢teau Larrivet Haut-Brion"
          ],
          [
           "Bordeaux-style Red Blend",
           "Ch√¢teau Luchey-Halde"
          ],
          [
           "Bordeaux-style Red Blend",
           "Ch√¢teau Peyfaures"
          ],
          [
           "Bordeaux-style Red Blend",
           "Ch√¢teau Taffard de Blaignan"
          ],
          [
           "Bordeaux-style Red Blend",
           "Producta Vignobles"
          ],
          [
           "Chardonnay",
           "Chanson P√®re et Fils"
          ],
          [
           "Sylvaner",
           "Domaine Barm√®s-Buecher"
          ],
          [
           "Pinot Noir",
           "Domaine Collotte"
          ],
          [
           "White Blend",
           "Domaine Riefl√©-Landmann"
          ],
          [
           "Pinot Blanc",
           "Domaine Weinbach"
          ],
          [
           "Chardonnay",
           "Au Pied du Mont Chauve"
          ],
          [
           "Romorantin",
           "Beno√Æt Daridan"
          ],
          [
           "Sauvignon Blanc",
           "Beno√Æt Girard"
          ],
          [
           "Pinot Noir",
           "Ch√¢teau de Santenay"
          ],
          [
           "Sauvignon Blanc",
           "Ch√¢teau Favray"
          ],
          [
           "Ros√©",
           "Prieur√© de Mont√©zargues"
          ],
          [
           "Riesling",
           "Domaine Ostertag"
          ],
          [
           "Riesling",
           "Joseph Fritsch"
          ],
          [
           "Gew√ºrztraminer",
           "Hugel"
          ],
          [
           "Tannat-Cabernet",
           "Producteurs Plaimont"
          ],
          [
           "Ros√©",
           "Ch√¢teau Gassier"
          ],
          [
           "Ros√©",
           "Ch√¢teau Grand Boise"
          ],
          [
           "Malbec",
           "Ch√¢teau Lagr√©zette"
          ],
          [
           "Ros√©",
           "Ch√¢teau les Valentines"
          ],
          [
           "Ros√©",
           "Ch√¢teau Roubine"
          ],
          [
           "Tannat-Merlot",
           "Vignobles Brumont"
          ],
          [
           "Duras",
           "Domaine des Terrisses"
          ],
          [
           "White Blend",
           "Clos Troteligotte"
          ],
          [
           "Sauvignon Blanc",
           "Domaine de l'Herr√©"
          ],
          [
           "White Blend",
           "Domaine du Touja"
          ],
          [
           "Rh√¥ne-style White Blend",
           "Ogier"
          ],
          [
           "Ros√©",
           "Ch√¢teau Cl√©ment Termes"
          ],
          [
           "Bordeaux-style White Blend",
           "Domaine de Grange Neuve"
          ],
          [
           "Chardonnay",
           "Domaine de l'Herr√©"
          ],
          [
           "White Blend",
           "Pierre Gruber"
          ],
          [
           "Gamay",
           "Trenel Fils"
          ],
          [
           "Bordeaux-style Red Blend",
           "Ch√¢teau Quinault L'Enclos"
          ],
          [
           "Gamay",
           "Domaine de Leyre-Loup"
          ],
          [
           "Bordeaux-style Red Blend",
           "Ch√¢teau Peugeais"
          ],
          [
           "Sauvignon Blanc",
           "Domaine Vacheron"
          ],
          [
           "Sauvignon Blanc",
           "Roger et Didier Raimbault"
          ],
          [
           "Bordeaux-style Red Blend",
           "Ch√¢teau Chantemerle"
          ],
          [
           "Bordeaux-style Red Blend",
           "Ch√¢teau de Bensse"
          ],
          [
           "Bordeaux-style Red Blend",
           "Ch√¢teau Lalaudey"
          ],
          [
           "Bordeaux-style Red Blend",
           "Ch√¢teau Manc√®dre"
          ],
          [
           "Bordeaux-style Red Blend",
           "Ch√¢teau Peyfaures"
          ],
          [
           "Bordeaux-style Red Blend",
           "Ch√¢teau Vieux Moulin"
          ]
         ],
         "hovertemplate": "country=France<br>price=%{x}<br>points=%{y}<br>variety=%{customdata[0]}<br>winery=%{customdata[1]}<extra></extra>",
         "legendgroup": "France",
         "marker": {
          "color": "#00cc96",
          "symbol": "circle"
         },
         "mode": "markers",
         "name": "France",
         "showlegend": true,
         "type": "scattergl",
         "x": [
          66,
          90,
          290,
          22,
          60,
          69,
          68,
          42,
          28,
          null,
          45,
          38,
          85,
          45,
          14,
          15,
          10,
          20,
          15,
          18,
          15,
          20,
          16,
          20,
          25,
          20,
          20,
          25,
          18,
          20,
          39,
          65,
          42,
          61,
          48,
          120,
          35,
          48,
          55,
          16,
          16,
          null,
          15,
          13,
          null,
          23,
          92,
          94,
          null,
          30,
          60,
          16,
          40,
          100,
          null,
          35,
          44,
          20,
          44,
          100,
          70,
          54,
          33,
          70,
          27,
          22,
          30,
          80,
          null,
          27,
          20,
          null,
          null,
          10,
          15,
          11,
          19,
          28,
          null,
          15,
          null,
          29,
          63,
          18,
          null,
          50,
          45,
          59,
          24,
          null,
          20,
          20,
          25,
          40,
          25,
          36,
          null,
          25,
          60,
          25,
          13,
          45,
          27,
          35,
          26,
          25,
          28,
          25,
          null,
          null,
          18,
          null,
          20,
          24,
          9,
          16,
          18,
          12,
          14,
          11,
          null,
          14,
          20,
          null,
          null,
          35,
          null,
          30,
          null,
          10,
          59,
          24,
          null,
          20,
          20,
          45,
          20,
          null,
          80,
          19,
          24,
          30,
          24,
          55,
          65,
          50,
          34,
          50,
          30,
          40,
          25,
          18,
          20,
          15,
          9,
          16,
          16,
          12,
          15,
          12,
          24,
          null,
          null,
          15,
          37,
          null,
          20,
          null,
          35,
          null,
          20,
          27
         ],
         "xaxis": "x",
         "y": [
          95,
          95,
          95,
          90,
          90,
          90,
          90,
          90,
          90,
          90,
          91,
          91,
          91,
          91,
          86,
          86,
          86,
          86,
          86,
          90,
          90,
          89,
          89,
          87,
          87,
          87,
          87,
          87,
          87,
          87,
          93,
          93,
          93,
          93,
          93,
          93,
          92,
          92,
          92,
          88,
          88,
          88,
          88,
          88,
          88,
          88,
          92,
          92,
          92,
          92,
          91,
          91,
          91,
          91,
          91,
          94,
          94,
          94,
          94,
          94,
          94,
          91,
          90,
          90,
          90,
          90,
          90,
          90,
          90,
          90,
          90,
          87,
          87,
          86,
          86,
          89,
          89,
          89,
          89,
          89,
          92,
          92,
          92,
          92,
          92,
          90,
          90,
          90,
          90,
          90,
          90,
          90,
          94,
          94,
          93,
          93,
          91,
          91,
          91,
          90,
          90,
          90,
          88,
          88,
          88,
          88,
          88,
          88,
          88,
          88,
          88,
          88,
          88,
          90,
          85,
          85,
          85,
          85,
          85,
          85,
          89,
          89,
          89,
          87,
          87,
          87,
          87,
          87,
          87,
          87,
          90,
          90,
          90,
          90,
          90,
          90,
          90,
          90,
          90,
          90,
          90,
          92,
          92,
          92,
          93,
          93,
          93,
          93,
          93,
          93,
          93,
          89,
          89,
          85,
          85,
          85,
          85,
          85,
          85,
          85,
          91,
          91,
          91,
          88,
          88,
          88,
          87,
          87,
          87,
          87,
          87,
          87
         ],
         "yaxis": "y"
        },
        {
         "customdata": [
          [
           "Friulano",
           "Borgo del Tiglio"
          ],
          [
           "Sangiovese",
           "Abbadia Ardenga"
          ],
          [
           "Sangiovese",
           "Carillon"
          ],
          [
           "Sangiovese",
           "Avignonesi"
          ],
          [
           "Sangiovese",
           "Casina di Cornia"
          ],
          [
           "Red Blend",
           "Castello di Monterinaldi"
          ],
          [
           "Red Blend",
           "Rignana"
          ],
          [
           "Red Blend",
           "Vignavecchia"
          ],
          [
           "Sangiovese",
           "Banfi"
          ],
          [
           "Sangiovese",
           "Brunelli Martoccia"
          ],
          [
           "Sangiovese",
           "Capanne Ricci"
          ],
          [
           "Red Blend",
           "Fattoria di Magliano"
          ],
          [
           "Nebbiolo",
           "Silvano Bolmida"
          ],
          [
           "Nebbiolo",
           "Bel Colle"
          ],
          [
           "Nebbiolo",
           "Ceste"
          ],
          [
           "Nebbiolo",
           "Cascina Cucco"
          ],
          [
           "Nebbiolo",
           "Cascina del Monastero"
          ],
          [
           "Nebbiolo",
           "Cordero di Montezemolo"
          ],
          [
           "Glera",
           "De Stefani"
          ],
          [
           "Sangiovese",
           "Il Grappolo"
          ],
          [
           "White Blend",
           "Biondi"
          ],
          [
           "Greco",
           "Cantine di Marzo"
          ],
          [
           "Red Blend",
           "Tenuta degli Dei"
          ],
          [
           "Red Blend",
           "Poggio Mandorlo"
          ],
          [
           "Sangiovese",
           "Altesino"
          ],
          [
           "Red Blend",
           "Cabreo"
          ],
          [
           "Nebbiolo",
           "Rizzi"
          ],
          [
           "Nebbiolo",
           "Sottimano"
          ],
          [
           "Nebbiolo",
           "Borgogno"
          ],
          [
           "Nebbiolo",
           "Sottimano"
          ],
          [
           "Nebbiolo",
           "Punset"
          ],
          [
           "Nebbiolo",
           "Fontanafredda"
          ],
          [
           "Nebbiolo",
           "Reversanti"
          ],
          [
           "Nebbiolo",
           "Silvano Bolmida"
          ],
          [
           "Nebbiolo",
           "Trediberri"
          ],
          [
           "Nebbiolo",
           "Palladino"
          ],
          [
           "Pinot Bianco",
           "Nals Margreid"
          ],
          [
           "Garganega",
           "Suavia"
          ],
          [
           "Sauvignon",
           "Cantina Terlano"
          ],
          [
           "Sauvignon",
           "Colterenzio"
          ],
          [
           "Pinot Grigio",
           "Colterenzio"
          ],
          [
           "Red Blend",
           "Speri"
          ],
          [
           "Garganega",
           "Gini"
          ],
          [
           "Garganega",
           "Gini"
          ],
          [
           "Nebbiolo",
           "Fratelli Alessandria"
          ],
          [
           "Nebbiolo",
           "Le Strette"
          ],
          [
           "Nebbiolo",
           "Marchesi di Barolo"
          ],
          [
           "Nebbiolo",
           "Oddero"
          ],
          [
           "Nebbiolo",
           "Vite Colte"
          ],
          [
           "Nebbiolo",
           "Icardi"
          ],
          [
           "Frappato",
           "Planeta"
          ],
          [
           "White Blend",
           "Baglio del Cristo di Campobello"
          ],
          [
           "White Blend",
           "Occhipinti"
          ],
          [
           "Greco",
           "Villa Raiano"
          ],
          [
           "Sangiovese",
           "La Fiorita"
          ],
          [
           "Sangiovese",
           "Piccini"
          ],
          [
           "Sangiovese",
           "Pietranera"
          ],
          [
           "Sangiovese",
           "Renieri"
          ],
          [
           "Sangiovese",
           "Podere Scopetone"
          ],
          [
           "Sangiovese",
           "Sesta di Sopra"
          ],
          [
           "Sangiovese",
           "Tenuta di Sesta"
          ],
          [
           "Sangiovese",
           "Castello di Bossi"
          ],
          [
           "Red Blend",
           "Cecchi"
          ],
          [
           "Sangiovese",
           "Cafaggio"
          ],
          [
           "Sangiovese",
           "Citille di Sopra"
          ],
          [
           "Sangiovese",
           "Castello Romitorio"
          ],
          [
           "Vermentino",
           "Fattoria di Magliano"
          ],
          [
           "Red Blend",
           "Ceralti"
          ],
          [
           "Sangiovese",
           "La Collina dei Lecci"
          ],
          [
           "Sangiovese",
           "Fattoria La Lecciaia"
          ],
          [
           "Sangiovese",
           "Ferrero"
          ],
          [
           "White Blend",
           "Latium di Morini"
          ],
          [
           "Sangiovese",
           "Marchesi de' Frescobaldi"
          ],
          [
           "Pri√© Blanc",
           "Cave du Vin Blanc de Morgex et de la Salle"
          ],
          [
           "Cabernet Sauvignon",
           "Castellare di Castellina"
          ],
          [
           "Red Blend",
           "Tenuta di Trecciano"
          ],
          [
           "Cabernet Sauvignon",
           "Terre del Marchesato"
          ],
          [
           "Red Blend",
           "Pratesi"
          ],
          [
           "Nebbiolo",
           "Ressia"
          ],
          [
           "Nebbiolo",
           "Piazzo Armando"
          ],
          [
           "White Blend",
           "Baglio del Cristo di Campobello"
          ],
          [
           "Nero d'Avola",
           "Occhipinti"
          ],
          [
           "Moscato",
           "Planeta"
          ],
          [
           "Frappato",
           "Terre di Giurfo"
          ],
          [
           "Friulano",
           "Borgo del Tiglio"
          ],
          [
           "Pinot Grigio",
           "Nals Margreid"
          ],
          [
           "White Blend",
           "Franz Haas"
          ],
          [
           "Sauvignon",
           "Cantina Produttori San Michele Appiano"
          ],
          [
           "Nebbiolo",
           "Virna Borgogno"
          ],
          [
           "Nebbiolo",
           "Alessandro Rivetto"
          ],
          [
           "Nebbiolo",
           "Ca' Viola"
          ],
          [
           "Nebbiolo",
           "Cantina del Nebbiolo"
          ],
          [
           "Nebbiolo",
           "Cascina Ballarin"
          ],
          [
           "Barbera",
           "Cascina Liuzzi"
          ],
          [
           "Barbera",
           "Elvio Cogno"
          ],
          [
           "Nebbiolo",
           "Franco M. Martinetti"
          ],
          [
           "Nebbiolo",
           "Manzone Fratelli"
          ],
          [
           "Nebbiolo",
           "Marziano Abbona"
          ],
          [
           "Nebbiolo",
           "Matteo Correggia"
          ],
          [
           "Nebbiolo",
           "Germano Angelo"
          ],
          [
           "Nebbiolo",
           "Boroli"
          ],
          [
           "Sangiovese",
           "La Magia"
          ],
          [
           "Sangiovese",
           "Lazzeretti"
          ],
          [
           "Sangiovese",
           "SassodiSole"
          ],
          [
           "Red Blend",
           "Il Brunone"
          ],
          [
           "Pinot Nero",
           "Famiglia Cielo"
          ],
          [
           "Garganega",
           "Cantina di Gambellara"
          ],
          [
           "Red Blend",
           "Nittardi"
          ],
          [
           "Red Blend",
           "OT"
          ],
          [
           "Red Blend",
           "San Fabiano Calcinaia"
          ],
          [
           "Cabernet Franc",
           "Tenuta Sette Cieli"
          ],
          [
           "Red Blend",
           "Castellare di Castellina"
          ],
          [
           "Sangiovese",
           "Corte dei Venti"
          ],
          [
           "Sangiovese",
           "Tenuta Vitanza"
          ],
          [
           "Sangiovese",
           "Tenuta Vitanza"
          ],
          [
           "Red Blend",
           "I Greppi"
          ],
          [
           "Moscato",
           "Planeta"
          ],
          [
           "Frappato",
           "Terre di Giurfo"
          ],
          [
           "White Blend",
           "Baglio del Cristo di Campobello"
          ],
          [
           "Nerello Mascalese",
           "Girolamo Russo"
          ],
          [
           "Sangiovese",
           "Corte dei Venti"
          ],
          [
           "Red Blend",
           "Il Brunone"
          ],
          [
           "Sangiovese",
           "Luiano"
          ],
          [
           "Red Blend",
           "Villa Mangiacane"
          ],
          [
           "Red Blend",
           "Salcheto"
          ],
          [
           "Red Blend",
           "Vignavecchia"
          ],
          [
           "Sangiovese",
           "Villa a Sesta"
          ],
          [
           "Red Blend",
           "Castello della Paneretta"
          ],
          [
           "Nebbiolo",
           "Ca'Rom√®"
          ],
          [
           "Nebbiolo",
           "Conterno Fantino"
          ],
          [
           "Nebbiolo",
           "Rivetto"
          ],
          [
           "Pinot Nero",
           "Tosti"
          ],
          [
           "Nebbiolo",
           "Veglio"
          ],
          [
           "White Blend",
           "Frank Cornelissen"
          ],
          [
           "Red Blend",
           "Gaja"
          ],
          [
           "Red Blend",
           "Castellare di Castellina"
          ],
          [
           "Red Blend",
           "Nino Negri"
          ],
          [
           "Red Blend",
           "Leopoldo I di Toscana"
          ],
          [
           "Cabernet Sauvignon",
           "Petra"
          ],
          [
           "Red Blend",
           "Rocca delle Mac√¨e"
          ],
          [
           "Red Blend",
           "Tenuta di Trinoro"
          ],
          [
           "Red Blend",
           "Tenuta Sette Ponti"
          ],
          [
           "Nebbiolo",
           "Negro Angelo e Figli"
          ],
          [
           "Barbera",
           "Rivetto"
          ],
          [
           "Nebbiolo",
           "Tenuta Duecorti"
          ],
          [
           "Nebbiolo",
           "Cascina Luisin"
          ],
          [
           "Nebbiolo",
           "Borgogno Giacomo e Figli"
          ],
          [
           "Nebbiolo",
           "Ca'Rom√®"
          ],
          [
           "Nebbiolo",
           "Ceretto"
          ],
          [
           "Nebbiolo",
           "Luigi Pira"
          ],
          [
           "Nebbiolo",
           "Reverdito"
          ],
          [
           "Nebbiolo",
           "Vietti"
          ],
          [
           "Garganega",
           "Marcello Turra"
          ],
          [
           "Garganega",
           "Tinazzi"
          ],
          [
           "White Blend",
           "Vie di Romans"
          ],
          [
           "Turbiana",
           "Olivini"
          ],
          [
           "Red Blend",
           "Campo di Sasso"
          ],
          [
           "Nebbiolo",
           "460 Casina Bric"
          ],
          [
           "Nebbiolo",
           "Anna Maria Abbona"
          ],
          [
           "Nebbiolo",
           "Natale Verga"
          ],
          [
           "Nebbiolo",
           "Sarotto"
          ],
          [
           "Nebbiolo",
           "Simone Scaletta"
          ],
          [
           "White Blend",
           "Giorgio Meletti Cavallari"
          ]
         ],
         "hovertemplate": "country=Italy<br>price=%{x}<br>points=%{y}<br>variety=%{customdata[0]}<br>winery=%{customdata[1]}<extra></extra>",
         "legendgroup": "Italy",
         "marker": {
          "color": "#ab63fa",
          "symbol": "circle"
         },
         "mode": "markers",
         "name": "Italy",
         "showlegend": true,
         "type": "scattergl",
         "x": [
          80,
          null,
          135,
          29,
          23,
          29,
          39,
          30,
          90,
          50,
          100,
          60,
          null,
          75,
          null,
          59,
          85,
          80,
          22,
          45,
          45,
          18,
          25,
          22,
          40,
          57,
          49,
          58,
          80,
          58,
          43,
          69,
          34,
          56,
          46,
          49,
          27,
          33,
          60,
          25,
          23,
          85,
          38,
          29,
          75,
          null,
          90,
          115,
          60,
          85,
          22,
          null,
          null,
          19,
          60,
          60,
          75,
          95,
          60,
          70,
          90,
          30,
          32,
          35,
          75,
          98,
          28,
          17,
          52,
          58,
          60,
          15,
          43,
          null,
          55,
          30,
          45,
          30,
          45,
          50,
          null,
          null,
          22,
          null,
          35,
          26,
          41,
          21,
          75,
          75,
          75,
          30,
          42,
          18,
          35,
          88,
          45,
          74,
          null,
          80,
          77,
          62,
          80,
          60,
          25,
          9,
          10,
          23,
          28,
          45,
          110,
          90,
          50,
          87,
          null,
          20,
          22,
          null,
          null,
          36,
          56,
          25,
          22,
          20,
          30,
          18,
          22,
          28,
          113,
          92,
          75,
          49,
          19,
          40,
          500,
          90,
          27,
          22,
          65,
          52,
          240,
          35,
          null,
          38,
          70,
          42,
          110,
          103,
          100,
          40,
          68,
          52,
          null,
          null,
          null,
          26,
          30,
          60,
          56,
          28,
          null,
          null,
          24
         ],
         "xaxis": "x",
         "y": [
          95,
          90,
          90,
          90,
          90,
          90,
          90,
          90,
          90,
          90,
          90,
          90,
          91,
          91,
          91,
          91,
          91,
          91,
          86,
          86,
          90,
          90,
          89,
          89,
          89,
          89,
          93,
          93,
          93,
          93,
          93,
          92,
          88,
          88,
          88,
          88,
          92,
          92,
          92,
          91,
          91,
          94,
          94,
          94,
          91,
          91,
          91,
          91,
          91,
          91,
          90,
          90,
          90,
          90,
          90,
          90,
          90,
          90,
          90,
          90,
          90,
          90,
          90,
          90,
          87,
          87,
          87,
          87,
          87,
          87,
          87,
          86,
          89,
          89,
          89,
          89,
          89,
          89,
          92,
          92,
          90,
          90,
          90,
          90,
          94,
          91,
          91,
          91,
          90,
          90,
          90,
          90,
          90,
          90,
          90,
          90,
          90,
          90,
          90,
          88,
          88,
          90,
          90,
          90,
          90,
          85,
          85,
          89,
          89,
          89,
          89,
          89,
          87,
          87,
          87,
          87,
          90,
          90,
          90,
          90,
          90,
          90,
          90,
          90,
          90,
          90,
          90,
          90,
          92,
          92,
          92,
          92,
          92,
          92,
          92,
          89,
          89,
          89,
          89,
          89,
          89,
          89,
          90,
          90,
          90,
          90,
          90,
          90,
          90,
          90,
          90,
          90,
          85,
          85,
          91,
          91,
          91,
          88,
          88,
          88,
          88,
          88,
          87
         ],
         "yaxis": "y"
        },
        {
         "customdata": [
          [
           "Chardonnay",
           "Kumeu River"
          ],
          [
           "Chardonnay",
           "Kumeu River"
          ]
         ],
         "hovertemplate": "country=New Zealand<br>price=%{x}<br>points=%{y}<br>variety=%{customdata[0]}<br>winery=%{customdata[1]}<extra></extra>",
         "legendgroup": "New Zealand",
         "marker": {
          "color": "#FFA15A",
          "symbol": "circle"
         },
         "mode": "markers",
         "name": "New Zealand",
         "showlegend": true,
         "type": "scattergl",
         "x": [
          57,
          57
         ],
         "xaxis": "x",
         "y": [
          94,
          94
         ],
         "yaxis": "y"
        },
        {
         "customdata": [
          [
           "Mavrud",
           "Villa Melnik"
          ],
          [
           "Mavrud",
           "Edoardo Miroglio"
          ],
          [
           "Chardonnay",
           "Vini"
          ],
          [
           "Syrah",
           "Castra Rubra"
          ],
          [
           "Pinot Noir",
           "Vini"
          ]
         ],
         "hovertemplate": "country=Bulgaria<br>price=%{x}<br>points=%{y}<br>variety=%{customdata[0]}<br>winery=%{customdata[1]}<extra></extra>",
         "legendgroup": "Bulgaria",
         "marker": {
          "color": "#19d3f3",
          "symbol": "circle"
         },
         "mode": "markers",
         "name": "Bulgaria",
         "showlegend": true,
         "type": "scattergl",
         "x": [
          15,
          26,
          9,
          28,
          10
         ],
         "xaxis": "x",
         "y": [
          90,
          90,
          85,
          90,
          88
         ],
         "yaxis": "y"
        },
        {
         "customdata": [
          [
           "Malbec",
           "Matias Riccitelli"
          ],
          [
           "Malbec",
           "Navarro Correas"
          ],
          [
           "Ros√©",
           "Zorzal"
          ],
          [
           "Malbec",
           "Vi√±alba"
          ],
          [
           "Bordeaux-style Red Blend",
           "Piattelli"
          ],
          [
           "Malbec",
           "Tupun"
          ],
          [
           "Cabernet Sauvignon",
           "Lamadrid"
          ],
          [
           "Cabernet Sauvignon",
           "Pascual Toso"
          ],
          [
           "Sauvignon Blanc",
           "Finca Las Moras"
          ],
          [
           "Malbec",
           "Bota Box"
          ],
          [
           "Malbec",
           "Don Miguel Gasc√≥n"
          ],
          [
           "Torront√©s",
           "Finca la Malena"
          ],
          [
           "Malbec",
           "Domaine Jean Bousquet"
          ],
          [
           "Torront√©s",
           "Via Revolucionaria"
          ],
          [
           "Malbec-Cabernet Sauvignon",
           "Bodega Las Ca√±itas"
          ],
          [
           "Malbec",
           "The Seeker"
          ],
          [
           "White Blend",
           "Chakana"
          ],
          [
           "Bordeaux-style Red Blend",
           "Zorzal"
          ],
          [
           "Sparkling Blend",
           "Cruzat"
          ],
          [
           "Malbec",
           "Vi√±a Cobos"
          ],
          [
           "Malbec",
           "Proemio"
          ],
          [
           "Malbec",
           "Bodega Renacer"
          ],
          [
           "Torront√©s",
           "Trapiche"
          ],
          [
           "Cabernet Franc",
           "Verum"
          ],
          [
           "Torront√©s",
           "Quara"
          ]
         ],
         "hovertemplate": "country=Argentina<br>price=%{x}<br>points=%{y}<br>variety=%{customdata[0]}<br>winery=%{customdata[1]}<extra></extra>",
         "legendgroup": "Argentina",
         "marker": {
          "color": "#FF6692",
          "symbol": "circle"
         },
         "mode": "markers",
         "name": "Argentina",
         "showlegend": true,
         "type": "scattergl",
         "x": [
          30,
          25,
          12,
          15,
          26,
          15,
          15,
          50,
          10,
          23,
          15,
          14,
          25,
          26,
          39,
          14,
          13,
          30,
          15,
          40,
          11,
          12,
          18,
          29,
          12
         ],
         "xaxis": "x",
         "y": [
          91,
          91,
          86,
          86,
          88,
          87,
          88,
          94,
          86,
          86,
          86,
          86,
          88,
          86,
          86,
          85,
          85,
          85,
          85,
          93,
          85,
          85,
          88,
          88,
          88
         ],
         "yaxis": "y"
        },
        {
         "customdata": [
          [
           "Pinot Noir",
           "Moorooduc"
          ],
          [
           "Pinot Noir",
           "Riposte"
          ],
          [
           "Pinot Noir",
           "Giant Steps"
          ],
          [
           "Shiraz",
           "D'Arenberg"
          ],
          [
           "Pinot Noir",
           "Dalrymple"
          ],
          [
           "Chardonnay",
           "Heggies Vineyard"
          ]
         ],
         "hovertemplate": "country=Australia<br>price=%{x}<br>points=%{y}<br>variety=%{customdata[0]}<br>winery=%{customdata[1]}<extra></extra>",
         "legendgroup": "Australia",
         "marker": {
          "color": "#B6E880",
          "symbol": "circle"
         },
         "mode": "markers",
         "name": "Australia",
         "showlegend": true,
         "type": "scattergl",
         "x": [
          36,
          20,
          42,
          65,
          65,
          25
         ],
         "xaxis": "x",
         "y": [
          91,
          90,
          88,
          90,
          90,
          88
         ],
         "yaxis": "y"
        },
        {
         "customdata": [
          [
           "Portuguese Red",
           "Herdade do Rocim"
          ],
          [
           "Portuguese Red",
           "Adega Cooperativa de Borba"
          ],
          [
           "Baga",
           "Adega de Cantanhede"
          ],
          [
           "Portuguese Red",
           "Quinta do Portal"
          ],
          [
           "Portuguese Red",
           "Wines & Winemakers"
          ],
          [
           "Portuguese Red",
           "Adega Cooperativa de Borba"
          ],
          [
           "Touriga Nacional",
           "Quinta das Carvalhas"
          ],
          [
           "Portuguese Red",
           "Po√ßas"
          ],
          [
           "Portuguese Red",
           "Caves Alian√ßa"
          ],
          [
           "Portuguese Red",
           "Dona Maria-J√∫lio Bastos"
          ],
          [
           "Alvarinho",
           "Provam"
          ],
          [
           "Portuguese White",
           "Quinta Nova de Nossa Senhora do Carmo"
          ],
          [
           "Touriga Nacional",
           "Herdade de S√£o Miguel"
          ],
          [
           "Alicante Bouschet",
           "Herdade do Rocim"
          ],
          [
           "Rh√¥ne-style Red Blend",
           "Terras de Alter"
          ],
          [
           "Aragon√™s",
           "Terras de Alter"
          ],
          [
           "Portuguese Red",
           "Adega Cooperativa de Borba"
          ],
          [
           "Ros√©",
           "Colinas do Douro"
          ],
          [
           "Portuguese Red",
           "Falua"
          ],
          [
           "Portuguese White",
           "Ramos-Pinto"
          ],
          [
           "Portuguese Red",
           "Companhia das Quintas"
          ],
          [
           "Touriga Nacional",
           "Global Wines"
          ],
          [
           "Portuguese Red",
           "Quinta do Arrobe"
          ],
          [
           "Portuguese Ros√©",
           "Quinta Nova de Nossa Senhora do Carmo"
          ],
          [
           "Syrah",
           "Quinta da Romaneira"
          ],
          [
           "Portuguese Red",
           "Castello d'Alba"
          ],
          [
           "Portuguese Red",
           "Quinta da Romaneira"
          ],
          [
           "Baga",
           "Luis Pato"
          ],
          [
           "Portuguese Red",
           "Herdade do Rocim"
          ],
          [
           "Portuguese White",
           "Wines & Winemakers"
          ],
          [
           "Portuguese Red",
           "Herdade do Rocim"
          ],
          [
           "Portuguese Red",
           "D√£o Sul"
          ],
          [
           "Portuguese Red",
           "Adega de Favaios"
          ],
          [
           "Portuguese White",
           "Conceito Vinhos"
          ],
          [
           "Portuguese Red",
           "Fiuza"
          ],
          [
           "Portuguese Red",
           "Boas Quintas"
          ],
          [
           "Portuguese Red",
           "Caves Velhas"
          ],
          [
           "Portuguese Red",
           "Caves Velhas"
          ],
          [
           "Portuguese Red",
           "Caves Velhas"
          ],
          [
           "Portuguese Red",
           "Pedra Cancela"
          ],
          [
           "Portuguese Red",
           "Po√ßas"
          ],
          [
           "Portuguese Red",
           "Caves Velhas"
          ],
          [
           "Portuguese Red",
           "Caves Velhas"
          ],
          [
           "Portuguese Red",
           "Caves Velhas"
          ],
          [
           "Tinta Francisca",
           "Quinta das Carvalhas"
          ],
          [
           "Portuguese Red",
           "Wines & Winemakers"
          ],
          [
           "Portuguese Red",
           "Po√ßas"
          ],
          [
           "Portuguese White",
           "Terras de Alter"
          ],
          [
           "Portuguese White",
           "Caves Campelo"
          ],
          [
           "Portuguese White",
           "Caves Campelo"
          ],
          [
           "Alicante Bouschet",
           "Adega Cooperativa do Cartaxo"
          ],
          [
           "Portuguese Sparkling",
           "Adega de Cantanhede"
          ],
          [
           "Portuguese Sparkling",
           "Quinta da Lapa"
          ],
          [
           "Portuguese Sparkling",
           "Global Wines"
          ],
          [
           "Portuguese Red",
           "Global Wines"
          ],
          [
           "Portuguese Sparkling",
           "Global Wines"
          ],
          [
           "Portuguese Red",
           "Herdade do Espor√£o"
          ],
          [
           "Portuguese Red",
           "Global Wines"
          ],
          [
           "Portuguese Red",
           "Wines & Winemakers"
          ],
          [
           "Portuguese Red",
           "Wines & Winemakers"
          ],
          [
           "Portuguese Red",
           "Wines & Winemakers"
          ],
          [
           "Portuguese Red",
           "Quinta do Portal"
          ],
          [
           "Portuguese Red",
           "Quinta Nova de Nossa Senhora do Carmo"
          ],
          [
           "Portuguese Red",
           "Casal da Coelheira"
          ],
          [
           "Portuguese Red",
           "Emilio Moro"
          ],
          [
           "Portuguese White",
           "Fiuza"
          ],
          [
           "Petite Verdot",
           "Herdade das Servas"
          ],
          [
           "Touriga Nacional",
           "Herdade de S√£o Miguel"
          ],
          [
           "Portuguese Red",
           "Jos√© Maria da Fonseca"
          ],
          [
           "Portuguese Red",
           "Vinha Paz"
          ]
         ],
         "hovertemplate": "country=Portugal<br>price=%{x}<br>points=%{y}<br>variety=%{customdata[0]}<br>winery=%{customdata[1]}<extra></extra>",
         "legendgroup": "Portugal",
         "marker": {
          "color": "#FF97FF",
          "symbol": "circle"
         },
         "mode": "markers",
         "name": "Portugal",
         "showlegend": true,
         "type": "scattergl",
         "x": [
          23,
          15,
          12,
          10,
          12,
          7,
          20,
          55,
          41,
          40,
          35,
          95,
          18,
          130,
          30,
          14,
          42,
          15,
          10,
          12,
          15,
          13,
          null,
          30,
          45,
          23,
          70,
          40,
          23,
          19,
          null,
          16,
          33,
          19,
          11,
          10,
          18,
          7,
          17,
          11,
          44,
          18,
          7,
          17,
          60,
          18,
          18,
          30,
          10,
          9,
          7,
          12,
          28,
          11,
          7,
          8,
          10,
          9,
          35,
          17,
          22,
          28,
          75,
          30,
          null,
          null,
          26,
          null,
          16,
          35
         ],
         "xaxis": "x",
         "y": [
          91,
          91,
          86,
          86,
          86,
          86,
          89,
          93,
          93,
          92,
          92,
          92,
          91,
          91,
          91,
          91,
          91,
          86,
          86,
          86,
          86,
          86,
          86,
          86,
          89,
          92,
          92,
          92,
          92,
          91,
          91,
          91,
          90,
          90,
          85,
          85,
          89,
          89,
          89,
          92,
          92,
          89,
          89,
          89,
          89,
          89,
          90,
          90,
          85,
          85,
          85,
          85,
          85,
          85,
          85,
          85,
          85,
          85,
          91,
          91,
          91,
          91,
          91,
          91,
          91,
          91,
          91,
          91,
          91,
          88
         ],
         "yaxis": "y"
        },
        {
         "customdata": [
          [
           "Cabernet Sauvignon",
           "Binyamina"
          ],
          [
           "Cabernet Sauvignon",
           "Bazelet HaGolan"
          ],
          [
           "Chardonnay",
           "Carmel"
          ],
          [
           "Cabernet Sauvignon",
           "Segal's"
          ],
          [
           "Cabernet Sauvignon",
           "Tabor"
          ],
          [
           "Red Blend",
           "Tulip Winery"
          ],
          [
           "Cabernet Sauvignon",
           "Yatir"
          ],
          [
           "Chardonnay",
           "Carmel"
          ]
         ],
         "hovertemplate": "country=Israel<br>price=%{x}<br>points=%{y}<br>variety=%{customdata[0]}<br>winery=%{customdata[1]}<extra></extra>",
         "legendgroup": "Israel",
         "marker": {
          "color": "#FECB52",
          "symbol": "circle"
         },
         "mode": "markers",
         "name": "Israel",
         "showlegend": true,
         "type": "scattergl",
         "x": [
          25,
          40,
          30,
          20,
          15,
          40,
          55,
          30
         ],
         "xaxis": "x",
         "y": [
          91,
          91,
          85,
          90,
          90,
          90,
          90,
          85
         ],
         "yaxis": "y"
        },
        {
         "customdata": [
          [
           "Sauvignon Blanc",
           "Waterkloof"
          ],
          [
           "Sauvignon Blanc",
           "Bouchard Finlayson"
          ],
          [
           "Sauvignon Blanc",
           "Vergelegen"
          ],
          [
           "Sauvignon Blanc",
           "Fat Barrel"
          ],
          [
           "Sauvignon Blanc",
           "Long Neck"
          ],
          [
           "Chardonnay",
           "Bouchard Finlayson"
          ],
          [
           "Sauvignon Blanc",
           "Graham Beck"
          ],
          [
           "Chardonnay",
           "Vergelegen"
          ],
          [
           "Chenin Blanc",
           "Essay"
          ],
          [
           "Sauvignon Blanc",
           "Noble Hill"
          ]
         ],
         "hovertemplate": "country=South Africa<br>price=%{x}<br>points=%{y}<br>variety=%{customdata[0]}<br>winery=%{customdata[1]}<extra></extra>",
         "legendgroup": "South Africa",
         "marker": {
          "color": "#636efa",
          "symbol": "circle"
         },
         "mode": "markers",
         "name": "South Africa",
         "showlegend": true,
         "type": "scattergl",
         "x": [
          20,
          20,
          35,
          11,
          10,
          20,
          16,
          22,
          10,
          15
         ],
         "xaxis": "x",
         "y": [
          86,
          86,
          86,
          86,
          85,
          85,
          85,
          85,
          85,
          85
         ],
         "yaxis": "y"
        },
        {
         "customdata": [
          [
           "White Blend",
           "Hatzimichalis"
          ],
          [
           "Assyrtiko",
           "Boutari"
          ],
          [
           "Malagouzia",
           "Alpha Estate"
          ],
          [
           "Agiorgitiko",
           "Boutari"
          ],
          [
           "Agiorgitiko",
           "Boutari"
          ],
          [
           "Assyrtiko",
           "Santo Wines"
          ],
          [
           "Assyrtiko",
           "Santo Wines"
          ],
          [
           "White Blend",
           "Zacharias"
          ]
         ],
         "hovertemplate": "country=Greece<br>price=%{x}<br>points=%{y}<br>variety=%{customdata[0]}<br>winery=%{customdata[1]}<extra></extra>",
         "legendgroup": "Greece",
         "marker": {
          "color": "#EF553B",
          "symbol": "circle"
         },
         "mode": "markers",
         "name": "Greece",
         "showlegend": true,
         "type": "scattergl",
         "x": [
          24,
          21,
          18,
          17,
          17,
          20,
          20,
          13
         ],
         "xaxis": "x",
         "y": [
          89,
          89,
          89,
          89,
          89,
          90,
          90,
          89
         ],
         "yaxis": "y"
        },
        {
         "customdata": [
          [
           "Carmen√®re",
           "Vi√±a Bisquertt"
          ],
          [
           "Red Blend",
           "Estampa"
          ],
          [
           "Cabernet Sauvignon-Cabernet Franc",
           "Santa Alba"
          ],
          [
           "Red Blend",
           "Casa Donoso"
          ],
          [
           "Red Blend",
           "Estampa"
          ],
          [
           "Bordeaux-style Red Blend",
           "Caliterra"
          ],
          [
           "Cabernet Sauvignon",
           "Primus"
          ],
          [
           "Pinot Noir",
           "Ritual"
          ],
          [
           "Syrah",
           "San Pedro"
          ],
          [
           "Cabernet Sauvignon",
           "Viu Manent"
          ],
          [
           "Sauvignon Blanc",
           "Claro"
          ],
          [
           "Red Blend",
           "Santa Ema"
          ],
          [
           "Bordeaux-style Red Blend",
           "Caliterra"
          ],
          [
           "Red Blend",
           "Vi√±a Bisquertt"
          ],
          [
           "Sauvignon Blanc",
           "Claro"
          ],
          [
           "Sauvignon Blanc",
           "Concha y Toro"
          ],
          [
           "Red Blend",
           "Maray"
          ],
          [
           "Cabernet Sauvignon",
           "Maquis"
          ],
          [
           "Red Blend",
           "Koyle"
          ],
          [
           "Red Blend",
           "Maquis"
          ],
          [
           "Petit Verdot",
           "Von Siebenthal"
          ]
         ],
         "hovertemplate": "country=Chile<br>price=%{x}<br>points=%{y}<br>variety=%{customdata[0]}<br>winery=%{customdata[1]}<extra></extra>",
         "legendgroup": "Chile",
         "marker": {
          "color": "#00cc96",
          "symbol": "circle"
         },
         "mode": "markers",
         "name": "Chile",
         "showlegend": true,
         "type": "scattergl",
         "x": [
          20,
          19,
          30,
          61,
          19,
          30,
          20,
          20,
          20,
          25,
          17,
          24,
          30,
          100,
          17,
          22,
          26,
          20,
          100,
          30,
          100
         ],
         "xaxis": "x",
         "y": [
          89,
          89,
          89,
          89,
          89,
          92,
          89,
          89,
          89,
          89,
          89,
          90,
          92,
          92,
          89,
          89,
          89,
          89,
          91,
          91,
          91
         ],
         "yaxis": "y"
        },
        {
         "customdata": [
          [
           "Syrah-Grenache",
           "Bernard Magrez"
          ]
         ],
         "hovertemplate": "country=Morocco<br>price=%{x}<br>points=%{y}<br>variety=%{customdata[0]}<br>winery=%{customdata[1]}<extra></extra>",
         "legendgroup": "Morocco",
         "marker": {
          "color": "#ab63fa",
          "symbol": "circle"
         },
         "mode": "markers",
         "name": "Morocco",
         "showlegend": true,
         "type": "scattergl",
         "x": [
          35
         ],
         "xaxis": "x",
         "y": [
          93
         ],
         "yaxis": "y"
        },
        {
         "customdata": [
          [
           "Ros√©",
           "Cramele Halewood"
          ],
          [
           "Pinot Noir",
           "Cramele Halewood"
          ]
         ],
         "hovertemplate": "country=Romania<br>price=%{x}<br>points=%{y}<br>variety=%{customdata[0]}<br>winery=%{customdata[1]}<extra></extra>",
         "legendgroup": "Romania",
         "marker": {
          "color": "#FFA15A",
          "symbol": "circle"
         },
         "mode": "markers",
         "name": "Romania",
         "showlegend": true,
         "type": "scattergl",
         "x": [
          9,
          9
         ],
         "xaxis": "x",
         "y": [
          88,
          88
         ],
         "yaxis": "y"
        },
        {
         "customdata": [
          [
           "Riesling",
           "Friedrich-Wilhelm-Gymnasium"
          ],
          [
           "Silvaner",
           "Th√∂rle"
          ],
          [
           "Lemberger",
           "Schnaitmann"
          ],
          [
           "Riesling",
           "Dr. H. Thanisch (Erben Thanisch)"
          ],
          [
           "Fr√ºburgunder",
           "Winzergenossenschaft Mayschoss-Altenahr"
          ],
          [
           "Riesling",
           "Dr. Pauly Bergweiler"
          ],
          [
           "Riesling",
           "Kirsten"
          ],
          [
           "Riesling",
           "Max Ferd. Richter"
          ],
          [
           "Riesling",
           "Dr. H. Thanisch (Erben Thanisch)"
          ],
          [
           "Riesling",
           "Domdechant Werner"
          ],
          [
           "Riesling",
           "Bisch√∂fliche Weing√ºter Trier"
          ],
          [
           "Riesling",
           "Schloss Vollrads"
          ],
          [
           "Scheurebe",
           "B√ºrgermeister Willi Schweinhardt"
          ],
          [
           "Riesling",
           "C.H. Berres"
          ],
          [
           "Riesling",
           "Dr. Heidemanns-Bergweiler"
          ],
          [
           "Riesling",
           "Dr. Heidemanns-Bergweiler"
          ],
          [
           "Riesling",
           "Dr. Loosen"
          ],
          [
           "Riesling",
           "Dr. Pauly Bergweiler"
          ],
          [
           "Riesling",
           "Bisch√∂fliche Weing√ºter Trier"
          ],
          [
           "Riesling",
           "Bollig-Lehnert"
          ],
          [
           "Riesling",
           "Dr. Heidemanns-Bergweiler"
          ],
          [
           "Riesling",
           "Dr. H. Thanisch (Erben Thanisch)"
          ],
          [
           "Pinot Gris",
           "Franz Keller"
          ],
          [
           "Riesling",
           "St. Urbans-Hof"
          ],
          [
           "Riesling",
           "Weingut Georg Albrecht Schneider"
          ],
          [
           "Riesling",
           "Emil Reichart"
          ],
          [
           "Lemberger",
           "Grafen Neipperg"
          ]
         ],
         "hovertemplate": "country=Germany<br>price=%{x}<br>points=%{y}<br>variety=%{customdata[0]}<br>winery=%{customdata[1]}<extra></extra>",
         "legendgroup": "Germany",
         "marker": {
          "color": "#19d3f3",
          "symbol": "circle"
         },
         "mode": "markers",
         "name": "Germany",
         "showlegend": true,
         "type": "scattergl",
         "x": [
          23,
          39,
          25,
          31,
          40,
          26,
          22,
          17,
          31,
          36,
          23,
          25,
          21,
          28,
          25,
          38,
          22,
          26,
          23,
          23,
          30,
          30,
          25,
          60,
          17,
          20,
          24
         ],
         "xaxis": "x",
         "y": [
          91,
          91,
          90,
          90,
          90,
          89,
          90,
          90,
          90,
          91,
          91,
          91,
          91,
          91,
          91,
          91,
          91,
          91,
          91,
          91,
          90,
          90,
          89,
          90,
          91,
          91,
          91
         ],
         "yaxis": "y"
        },
        {
         "customdata": [
          [
           "Bordeaux-style Red Blend",
           "Mission Hill"
          ],
          [
           "Riesling",
           "Cave Spring"
          ],
          [
           "Riesling",
           "Mission Hill"
          ],
          [
           "Pinot Gris",
           "Tinhorn Creek"
          ],
          [
           "Syrah",
           "Burrowing Owl"
          ]
         ],
         "hovertemplate": "country=Canada<br>price=%{x}<br>points=%{y}<br>variety=%{customdata[0]}<br>winery=%{customdata[1]}<extra></extra>",
         "legendgroup": "Canada",
         "marker": {
          "color": "#FF6692",
          "symbol": "circle"
         },
         "mode": "markers",
         "name": "Canada",
         "showlegend": true,
         "type": "scattergl",
         "x": [
          70,
          17,
          24,
          19,
          38
         ],
         "xaxis": "x",
         "y": [
          90,
          92,
          90,
          90,
          90
         ],
         "yaxis": "y"
        },
        {
         "customdata": [
          [
           "White Blend",
           "Purcari"
          ]
         ],
         "hovertemplate": "country=Moldova<br>price=%{x}<br>points=%{y}<br>variety=%{customdata[0]}<br>winery=%{customdata[1]}<extra></extra>",
         "legendgroup": "Moldova",
         "marker": {
          "color": "#B6E880",
          "symbol": "circle"
         },
         "mode": "markers",
         "name": "Moldova",
         "showlegend": true,
         "type": "scattergl",
         "x": [
          32
         ],
         "xaxis": "x",
         "y": [
          90
         ],
         "yaxis": "y"
        },
        {
         "customdata": [
          [
           "Kekfrankos",
           "Weninger"
          ],
          [
           "Furmint",
           "Royal Tokaji"
          ]
         ],
         "hovertemplate": "country=Hungary<br>price=%{x}<br>points=%{y}<br>variety=%{customdata[0]}<br>winery=%{customdata[1]}<extra></extra>",
         "legendgroup": "Hungary",
         "marker": {
          "color": "#FF97FF",
          "symbol": "circle"
         },
         "mode": "markers",
         "name": "Hungary",
         "showlegend": true,
         "type": "scattergl",
         "x": [
          35,
          16
         ],
         "xaxis": "x",
         "y": [
          90,
          92
         ],
         "yaxis": "y"
        },
        {
         "customdata": [
          [
           "St. Laurent",
           "Johanneshof Reinisch"
          ],
          [
           "Blauburgunder",
           "Meinklang"
          ],
          [
           "Blaufr√§nkisch",
           "Muhr-Van der Niepoort"
          ],
          [
           "Pinot Noir",
           "Schwarz Wein"
          ]
         ],
         "hovertemplate": "country=Austria<br>price=%{x}<br>points=%{y}<br>variety=%{customdata[0]}<br>winery=%{customdata[1]}<extra></extra>",
         "legendgroup": "Austria",
         "marker": {
          "color": "#FECB52",
          "symbol": "circle"
         },
         "mode": "markers",
         "name": "Austria",
         "showlegend": true,
         "type": "scattergl",
         "x": [
          21,
          19,
          25,
          null
         ],
         "xaxis": "x",
         "y": [
          93,
          93,
          93,
          93
         ],
         "yaxis": "y"
        },
        {
         "customdata": [
          [
           "White Blend",
           "Bibich"
          ],
          [
           "Posip",
           "Bibich"
          ]
         ],
         "hovertemplate": "country=Croatia<br>price=%{x}<br>points=%{y}<br>variety=%{customdata[0]}<br>winery=%{customdata[1]}<extra></extra>",
         "legendgroup": "Croatia",
         "marker": {
          "color": "#636efa",
          "symbol": "circle"
         },
         "mode": "markers",
         "name": "Croatia",
         "showlegend": true,
         "type": "scattergl",
         "x": [
          19,
          27
         ],
         "xaxis": "x",
         "y": [
          88,
          88
         ],
         "yaxis": "y"
        },
        {
         "customdata": [
          [
           "Ribolla Gialla",
           "Principiano Ferdinando"
          ]
         ],
         "hovertemplate": "country=Slovenia<br>price=%{x}<br>points=%{y}<br>variety=%{customdata[0]}<br>winery=%{customdata[1]}<extra></extra>",
         "legendgroup": "Slovenia",
         "marker": {
          "color": "#EF553B",
          "symbol": "circle"
         },
         "mode": "markers",
         "name": "Slovenia",
         "showlegend": true,
         "type": "scattergl",
         "x": [
          40
         ],
         "xaxis": "x",
         "y": [
          90
         ],
         "yaxis": "y"
        }
       ],
       "layout": {
        "legend": {
         "title": {
          "text": "country"
         },
         "tracegroupgap": 0
        },
        "template": {
         "data": {
          "bar": [
           {
            "error_x": {
             "color": "#2a3f5f"
            },
            "error_y": {
             "color": "#2a3f5f"
            },
            "marker": {
             "line": {
              "color": "#E5ECF6",
              "width": 0.5
             },
             "pattern": {
              "fillmode": "overlay",
              "size": 10,
              "solidity": 0.2
             }
            },
            "type": "bar"
           }
          ],
          "barpolar": [
           {
            "marker": {
             "line": {
              "color": "#E5ECF6",
              "width": 0.5
             },
             "pattern": {
              "fillmode": "overlay",
              "size": 10,
              "solidity": 0.2
             }
            },
            "type": "barpolar"
           }
          ],
          "carpet": [
           {
            "aaxis": {
             "endlinecolor": "#2a3f5f",
             "gridcolor": "white",
             "linecolor": "white",
             "minorgridcolor": "white",
             "startlinecolor": "#2a3f5f"
            },
            "baxis": {
             "endlinecolor": "#2a3f5f",
             "gridcolor": "white",
             "linecolor": "white",
             "minorgridcolor": "white",
             "startlinecolor": "#2a3f5f"
            },
            "type": "carpet"
           }
          ],
          "choropleth": [
           {
            "colorbar": {
             "outlinewidth": 0,
             "ticks": ""
            },
            "type": "choropleth"
           }
          ],
          "contour": [
           {
            "colorbar": {
             "outlinewidth": 0,
             "ticks": ""
            },
            "colorscale": [
             [
              0,
              "#0d0887"
             ],
             [
              0.1111111111111111,
              "#46039f"
             ],
             [
              0.2222222222222222,
              "#7201a8"
             ],
             [
              0.3333333333333333,
              "#9c179e"
             ],
             [
              0.4444444444444444,
              "#bd3786"
             ],
             [
              0.5555555555555556,
              "#d8576b"
             ],
             [
              0.6666666666666666,
              "#ed7953"
             ],
             [
              0.7777777777777778,
              "#fb9f3a"
             ],
             [
              0.8888888888888888,
              "#fdca26"
             ],
             [
              1,
              "#f0f921"
             ]
            ],
            "type": "contour"
           }
          ],
          "contourcarpet": [
           {
            "colorbar": {
             "outlinewidth": 0,
             "ticks": ""
            },
            "type": "contourcarpet"
           }
          ],
          "heatmap": [
           {
            "colorbar": {
             "outlinewidth": 0,
             "ticks": ""
            },
            "colorscale": [
             [
              0,
              "#0d0887"
             ],
             [
              0.1111111111111111,
              "#46039f"
             ],
             [
              0.2222222222222222,
              "#7201a8"
             ],
             [
              0.3333333333333333,
              "#9c179e"
             ],
             [
              0.4444444444444444,
              "#bd3786"
             ],
             [
              0.5555555555555556,
              "#d8576b"
             ],
             [
              0.6666666666666666,
              "#ed7953"
             ],
             [
              0.7777777777777778,
              "#fb9f3a"
             ],
             [
              0.8888888888888888,
              "#fdca26"
             ],
             [
              1,
              "#f0f921"
             ]
            ],
            "type": "heatmap"
           }
          ],
          "heatmapgl": [
           {
            "colorbar": {
             "outlinewidth": 0,
             "ticks": ""
            },
            "colorscale": [
             [
              0,
              "#0d0887"
             ],
             [
              0.1111111111111111,
              "#46039f"
             ],
             [
              0.2222222222222222,
              "#7201a8"
             ],
             [
              0.3333333333333333,
              "#9c179e"
             ],
             [
              0.4444444444444444,
              "#bd3786"
             ],
             [
              0.5555555555555556,
              "#d8576b"
             ],
             [
              0.6666666666666666,
              "#ed7953"
             ],
             [
              0.7777777777777778,
              "#fb9f3a"
             ],
             [
              0.8888888888888888,
              "#fdca26"
             ],
             [
              1,
              "#f0f921"
             ]
            ],
            "type": "heatmapgl"
           }
          ],
          "histogram": [
           {
            "marker": {
             "pattern": {
              "fillmode": "overlay",
              "size": 10,
              "solidity": 0.2
             }
            },
            "type": "histogram"
           }
          ],
          "histogram2d": [
           {
            "colorbar": {
             "outlinewidth": 0,
             "ticks": ""
            },
            "colorscale": [
             [
              0,
              "#0d0887"
             ],
             [
              0.1111111111111111,
              "#46039f"
             ],
             [
              0.2222222222222222,
              "#7201a8"
             ],
             [
              0.3333333333333333,
              "#9c179e"
             ],
             [
              0.4444444444444444,
              "#bd3786"
             ],
             [
              0.5555555555555556,
              "#d8576b"
             ],
             [
              0.6666666666666666,
              "#ed7953"
             ],
             [
              0.7777777777777778,
              "#fb9f3a"
             ],
             [
              0.8888888888888888,
              "#fdca26"
             ],
             [
              1,
              "#f0f921"
             ]
            ],
            "type": "histogram2d"
           }
          ],
          "histogram2dcontour": [
           {
            "colorbar": {
             "outlinewidth": 0,
             "ticks": ""
            },
            "colorscale": [
             [
              0,
              "#0d0887"
             ],
             [
              0.1111111111111111,
              "#46039f"
             ],
             [
              0.2222222222222222,
              "#7201a8"
             ],
             [
              0.3333333333333333,
              "#9c179e"
             ],
             [
              0.4444444444444444,
              "#bd3786"
             ],
             [
              0.5555555555555556,
              "#d8576b"
             ],
             [
              0.6666666666666666,
              "#ed7953"
             ],
             [
              0.7777777777777778,
              "#fb9f3a"
             ],
             [
              0.8888888888888888,
              "#fdca26"
             ],
             [
              1,
              "#f0f921"
             ]
            ],
            "type": "histogram2dcontour"
           }
          ],
          "mesh3d": [
           {
            "colorbar": {
             "outlinewidth": 0,
             "ticks": ""
            },
            "type": "mesh3d"
           }
          ],
          "parcoords": [
           {
            "line": {
             "colorbar": {
              "outlinewidth": 0,
              "ticks": ""
             }
            },
            "type": "parcoords"
           }
          ],
          "pie": [
           {
            "automargin": true,
            "type": "pie"
           }
          ],
          "scatter": [
           {
            "fillpattern": {
             "fillmode": "overlay",
             "size": 10,
             "solidity": 0.2
            },
            "type": "scatter"
           }
          ],
          "scatter3d": [
           {
            "line": {
             "colorbar": {
              "outlinewidth": 0,
              "ticks": ""
             }
            },
            "marker": {
             "colorbar": {
              "outlinewidth": 0,
              "ticks": ""
             }
            },
            "type": "scatter3d"
           }
          ],
          "scattercarpet": [
           {
            "marker": {
             "colorbar": {
              "outlinewidth": 0,
              "ticks": ""
             }
            },
            "type": "scattercarpet"
           }
          ],
          "scattergeo": [
           {
            "marker": {
             "colorbar": {
              "outlinewidth": 0,
              "ticks": ""
             }
            },
            "type": "scattergeo"
           }
          ],
          "scattergl": [
           {
            "marker": {
             "colorbar": {
              "outlinewidth": 0,
              "ticks": ""
             }
            },
            "type": "scattergl"
           }
          ],
          "scattermapbox": [
           {
            "marker": {
             "colorbar": {
              "outlinewidth": 0,
              "ticks": ""
             }
            },
            "type": "scattermapbox"
           }
          ],
          "scatterpolar": [
           {
            "marker": {
             "colorbar": {
              "outlinewidth": 0,
              "ticks": ""
             }
            },
            "type": "scatterpolar"
           }
          ],
          "scatterpolargl": [
           {
            "marker": {
             "colorbar": {
              "outlinewidth": 0,
              "ticks": ""
             }
            },
            "type": "scatterpolargl"
           }
          ],
          "scatterternary": [
           {
            "marker": {
             "colorbar": {
              "outlinewidth": 0,
              "ticks": ""
             }
            },
            "type": "scatterternary"
           }
          ],
          "surface": [
           {
            "colorbar": {
             "outlinewidth": 0,
             "ticks": ""
            },
            "colorscale": [
             [
              0,
              "#0d0887"
             ],
             [
              0.1111111111111111,
              "#46039f"
             ],
             [
              0.2222222222222222,
              "#7201a8"
             ],
             [
              0.3333333333333333,
              "#9c179e"
             ],
             [
              0.4444444444444444,
              "#bd3786"
             ],
             [
              0.5555555555555556,
              "#d8576b"
             ],
             [
              0.6666666666666666,
              "#ed7953"
             ],
             [
              0.7777777777777778,
              "#fb9f3a"
             ],
             [
              0.8888888888888888,
              "#fdca26"
             ],
             [
              1,
              "#f0f921"
             ]
            ],
            "type": "surface"
           }
          ],
          "table": [
           {
            "cells": {
             "fill": {
              "color": "#EBF0F8"
             },
             "line": {
              "color": "white"
             }
            },
            "header": {
             "fill": {
              "color": "#C8D4E3"
             },
             "line": {
              "color": "white"
             }
            },
            "type": "table"
           }
          ]
         },
         "layout": {
          "annotationdefaults": {
           "arrowcolor": "#2a3f5f",
           "arrowhead": 0,
           "arrowwidth": 1
          },
          "autotypenumbers": "strict",
          "coloraxis": {
           "colorbar": {
            "outlinewidth": 0,
            "ticks": ""
           }
          },
          "colorscale": {
           "diverging": [
            [
             0,
             "#8e0152"
            ],
            [
             0.1,
             "#c51b7d"
            ],
            [
             0.2,
             "#de77ae"
            ],
            [
             0.3,
             "#f1b6da"
            ],
            [
             0.4,
             "#fde0ef"
            ],
            [
             0.5,
             "#f7f7f7"
            ],
            [
             0.6,
             "#e6f5d0"
            ],
            [
             0.7,
             "#b8e186"
            ],
            [
             0.8,
             "#7fbc41"
            ],
            [
             0.9,
             "#4d9221"
            ],
            [
             1,
             "#276419"
            ]
           ],
           "sequential": [
            [
             0,
             "#0d0887"
            ],
            [
             0.1111111111111111,
             "#46039f"
            ],
            [
             0.2222222222222222,
             "#7201a8"
            ],
            [
             0.3333333333333333,
             "#9c179e"
            ],
            [
             0.4444444444444444,
             "#bd3786"
            ],
            [
             0.5555555555555556,
             "#d8576b"
            ],
            [
             0.6666666666666666,
             "#ed7953"
            ],
            [
             0.7777777777777778,
             "#fb9f3a"
            ],
            [
             0.8888888888888888,
             "#fdca26"
            ],
            [
             1,
             "#f0f921"
            ]
           ],
           "sequentialminus": [
            [
             0,
             "#0d0887"
            ],
            [
             0.1111111111111111,
             "#46039f"
            ],
            [
             0.2222222222222222,
             "#7201a8"
            ],
            [
             0.3333333333333333,
             "#9c179e"
            ],
            [
             0.4444444444444444,
             "#bd3786"
            ],
            [
             0.5555555555555556,
             "#d8576b"
            ],
            [
             0.6666666666666666,
             "#ed7953"
            ],
            [
             0.7777777777777778,
             "#fb9f3a"
            ],
            [
             0.8888888888888888,
             "#fdca26"
            ],
            [
             1,
             "#f0f921"
            ]
           ]
          },
          "colorway": [
           "#636efa",
           "#EF553B",
           "#00cc96",
           "#ab63fa",
           "#FFA15A",
           "#19d3f3",
           "#FF6692",
           "#B6E880",
           "#FF97FF",
           "#FECB52"
          ],
          "font": {
           "color": "#2a3f5f"
          },
          "geo": {
           "bgcolor": "white",
           "lakecolor": "white",
           "landcolor": "#E5ECF6",
           "showlakes": true,
           "showland": true,
           "subunitcolor": "white"
          },
          "hoverlabel": {
           "align": "left"
          },
          "hovermode": "closest",
          "mapbox": {
           "style": "light"
          },
          "paper_bgcolor": "white",
          "plot_bgcolor": "#E5ECF6",
          "polar": {
           "angularaxis": {
            "gridcolor": "white",
            "linecolor": "white",
            "ticks": ""
           },
           "bgcolor": "#E5ECF6",
           "radialaxis": {
            "gridcolor": "white",
            "linecolor": "white",
            "ticks": ""
           }
          },
          "scene": {
           "xaxis": {
            "backgroundcolor": "#E5ECF6",
            "gridcolor": "white",
            "gridwidth": 2,
            "linecolor": "white",
            "showbackground": true,
            "ticks": "",
            "zerolinecolor": "white"
           },
           "yaxis": {
            "backgroundcolor": "#E5ECF6",
            "gridcolor": "white",
            "gridwidth": 2,
            "linecolor": "white",
            "showbackground": true,
            "ticks": "",
            "zerolinecolor": "white"
           },
           "zaxis": {
            "backgroundcolor": "#E5ECF6",
            "gridcolor": "white",
            "gridwidth": 2,
            "linecolor": "white",
            "showbackground": true,
            "ticks": "",
            "zerolinecolor": "white"
           }
          },
          "shapedefaults": {
           "line": {
            "color": "#2a3f5f"
           }
          },
          "ternary": {
           "aaxis": {
            "gridcolor": "white",
            "linecolor": "white",
            "ticks": ""
           },
           "baxis": {
            "gridcolor": "white",
            "linecolor": "white",
            "ticks": ""
           },
           "bgcolor": "#E5ECF6",
           "caxis": {
            "gridcolor": "white",
            "linecolor": "white",
            "ticks": ""
           }
          },
          "title": {
           "x": 0.05
          },
          "xaxis": {
           "automargin": true,
           "gridcolor": "white",
           "linecolor": "white",
           "ticks": "",
           "title": {
            "standoff": 15
           },
           "zerolinecolor": "white",
           "zerolinewidth": 2
          },
          "yaxis": {
           "automargin": true,
           "gridcolor": "white",
           "linecolor": "white",
           "ticks": "",
           "title": {
            "standoff": 15
           },
           "zerolinecolor": "white",
           "zerolinewidth": 2
          }
         }
        },
        "title": {
         "text": "Price(USD) vs. Points by Country"
        },
        "xaxis": {
         "anchor": "y",
         "domain": [
          0,
          1
         ],
         "title": {
          "text": "price"
         }
        },
        "yaxis": {
         "anchor": "x",
         "domain": [
          0,
          1
         ],
         "title": {
          "text": "points"
         }
        }
       }
      }
     },
     "metadata": {},
     "output_type": "display_data"
    }
   ],
   "source": [
    "# Plot scatter plot\n",
    "fig = px.scatter(wine_df, x='price', y='points', color='country', hover_data=['variety', 'winery'],\n",
    "                 title='Price(USD) vs. Points by Country')\n",
    "fig.show()"
   ]
  },
  {
   "cell_type": "markdown",
   "metadata": {},
   "source": [
    "The bar chart below shows which wine varieties are the most reviewed or rated"
   ]
  },
  {
   "cell_type": "code",
   "execution_count": 17,
   "metadata": {},
   "outputs": [
    {
     "data": {
      "application/vnd.plotly.v1+json": {
       "config": {
        "plotlyServerURL": "https://plot.ly"
       },
       "data": [
        {
         "alignmentgroup": "True",
         "hovertemplate": "Number of Reviews=%{x}<br>Wine Variety=%{y}<extra></extra>",
         "legendgroup": "",
         "marker": {
          "color": "#636efa",
          "pattern": {
           "shape": ""
          }
         },
         "name": "",
         "offsetgroup": "",
         "orientation": "h",
         "showlegend": false,
         "textposition": "auto",
         "type": "bar",
         "x": [
          128,
          103,
          89,
          70,
          54,
          51,
          48,
          42,
          36,
          35
         ],
         "xaxis": "x",
         "y": [
          "Pinot Noir",
          "Chardonnay",
          "Cabernet Sauvignon",
          "Red Blend",
          "Nebbiolo",
          "Riesling",
          "Bordeaux-style Red Blend",
          "Portuguese Red",
          "Sauvignon Blanc",
          "Syrah"
         ],
         "yaxis": "y"
        }
       ],
       "layout": {
        "barmode": "relative",
        "legend": {
         "tracegroupgap": 0
        },
        "template": {
         "data": {
          "bar": [
           {
            "error_x": {
             "color": "#2a3f5f"
            },
            "error_y": {
             "color": "#2a3f5f"
            },
            "marker": {
             "line": {
              "color": "#E5ECF6",
              "width": 0.5
             },
             "pattern": {
              "fillmode": "overlay",
              "size": 10,
              "solidity": 0.2
             }
            },
            "type": "bar"
           }
          ],
          "barpolar": [
           {
            "marker": {
             "line": {
              "color": "#E5ECF6",
              "width": 0.5
             },
             "pattern": {
              "fillmode": "overlay",
              "size": 10,
              "solidity": 0.2
             }
            },
            "type": "barpolar"
           }
          ],
          "carpet": [
           {
            "aaxis": {
             "endlinecolor": "#2a3f5f",
             "gridcolor": "white",
             "linecolor": "white",
             "minorgridcolor": "white",
             "startlinecolor": "#2a3f5f"
            },
            "baxis": {
             "endlinecolor": "#2a3f5f",
             "gridcolor": "white",
             "linecolor": "white",
             "minorgridcolor": "white",
             "startlinecolor": "#2a3f5f"
            },
            "type": "carpet"
           }
          ],
          "choropleth": [
           {
            "colorbar": {
             "outlinewidth": 0,
             "ticks": ""
            },
            "type": "choropleth"
           }
          ],
          "contour": [
           {
            "colorbar": {
             "outlinewidth": 0,
             "ticks": ""
            },
            "colorscale": [
             [
              0,
              "#0d0887"
             ],
             [
              0.1111111111111111,
              "#46039f"
             ],
             [
              0.2222222222222222,
              "#7201a8"
             ],
             [
              0.3333333333333333,
              "#9c179e"
             ],
             [
              0.4444444444444444,
              "#bd3786"
             ],
             [
              0.5555555555555556,
              "#d8576b"
             ],
             [
              0.6666666666666666,
              "#ed7953"
             ],
             [
              0.7777777777777778,
              "#fb9f3a"
             ],
             [
              0.8888888888888888,
              "#fdca26"
             ],
             [
              1,
              "#f0f921"
             ]
            ],
            "type": "contour"
           }
          ],
          "contourcarpet": [
           {
            "colorbar": {
             "outlinewidth": 0,
             "ticks": ""
            },
            "type": "contourcarpet"
           }
          ],
          "heatmap": [
           {
            "colorbar": {
             "outlinewidth": 0,
             "ticks": ""
            },
            "colorscale": [
             [
              0,
              "#0d0887"
             ],
             [
              0.1111111111111111,
              "#46039f"
             ],
             [
              0.2222222222222222,
              "#7201a8"
             ],
             [
              0.3333333333333333,
              "#9c179e"
             ],
             [
              0.4444444444444444,
              "#bd3786"
             ],
             [
              0.5555555555555556,
              "#d8576b"
             ],
             [
              0.6666666666666666,
              "#ed7953"
             ],
             [
              0.7777777777777778,
              "#fb9f3a"
             ],
             [
              0.8888888888888888,
              "#fdca26"
             ],
             [
              1,
              "#f0f921"
             ]
            ],
            "type": "heatmap"
           }
          ],
          "heatmapgl": [
           {
            "colorbar": {
             "outlinewidth": 0,
             "ticks": ""
            },
            "colorscale": [
             [
              0,
              "#0d0887"
             ],
             [
              0.1111111111111111,
              "#46039f"
             ],
             [
              0.2222222222222222,
              "#7201a8"
             ],
             [
              0.3333333333333333,
              "#9c179e"
             ],
             [
              0.4444444444444444,
              "#bd3786"
             ],
             [
              0.5555555555555556,
              "#d8576b"
             ],
             [
              0.6666666666666666,
              "#ed7953"
             ],
             [
              0.7777777777777778,
              "#fb9f3a"
             ],
             [
              0.8888888888888888,
              "#fdca26"
             ],
             [
              1,
              "#f0f921"
             ]
            ],
            "type": "heatmapgl"
           }
          ],
          "histogram": [
           {
            "marker": {
             "pattern": {
              "fillmode": "overlay",
              "size": 10,
              "solidity": 0.2
             }
            },
            "type": "histogram"
           }
          ],
          "histogram2d": [
           {
            "colorbar": {
             "outlinewidth": 0,
             "ticks": ""
            },
            "colorscale": [
             [
              0,
              "#0d0887"
             ],
             [
              0.1111111111111111,
              "#46039f"
             ],
             [
              0.2222222222222222,
              "#7201a8"
             ],
             [
              0.3333333333333333,
              "#9c179e"
             ],
             [
              0.4444444444444444,
              "#bd3786"
             ],
             [
              0.5555555555555556,
              "#d8576b"
             ],
             [
              0.6666666666666666,
              "#ed7953"
             ],
             [
              0.7777777777777778,
              "#fb9f3a"
             ],
             [
              0.8888888888888888,
              "#fdca26"
             ],
             [
              1,
              "#f0f921"
             ]
            ],
            "type": "histogram2d"
           }
          ],
          "histogram2dcontour": [
           {
            "colorbar": {
             "outlinewidth": 0,
             "ticks": ""
            },
            "colorscale": [
             [
              0,
              "#0d0887"
             ],
             [
              0.1111111111111111,
              "#46039f"
             ],
             [
              0.2222222222222222,
              "#7201a8"
             ],
             [
              0.3333333333333333,
              "#9c179e"
             ],
             [
              0.4444444444444444,
              "#bd3786"
             ],
             [
              0.5555555555555556,
              "#d8576b"
             ],
             [
              0.6666666666666666,
              "#ed7953"
             ],
             [
              0.7777777777777778,
              "#fb9f3a"
             ],
             [
              0.8888888888888888,
              "#fdca26"
             ],
             [
              1,
              "#f0f921"
             ]
            ],
            "type": "histogram2dcontour"
           }
          ],
          "mesh3d": [
           {
            "colorbar": {
             "outlinewidth": 0,
             "ticks": ""
            },
            "type": "mesh3d"
           }
          ],
          "parcoords": [
           {
            "line": {
             "colorbar": {
              "outlinewidth": 0,
              "ticks": ""
             }
            },
            "type": "parcoords"
           }
          ],
          "pie": [
           {
            "automargin": true,
            "type": "pie"
           }
          ],
          "scatter": [
           {
            "fillpattern": {
             "fillmode": "overlay",
             "size": 10,
             "solidity": 0.2
            },
            "type": "scatter"
           }
          ],
          "scatter3d": [
           {
            "line": {
             "colorbar": {
              "outlinewidth": 0,
              "ticks": ""
             }
            },
            "marker": {
             "colorbar": {
              "outlinewidth": 0,
              "ticks": ""
             }
            },
            "type": "scatter3d"
           }
          ],
          "scattercarpet": [
           {
            "marker": {
             "colorbar": {
              "outlinewidth": 0,
              "ticks": ""
             }
            },
            "type": "scattercarpet"
           }
          ],
          "scattergeo": [
           {
            "marker": {
             "colorbar": {
              "outlinewidth": 0,
              "ticks": ""
             }
            },
            "type": "scattergeo"
           }
          ],
          "scattergl": [
           {
            "marker": {
             "colorbar": {
              "outlinewidth": 0,
              "ticks": ""
             }
            },
            "type": "scattergl"
           }
          ],
          "scattermapbox": [
           {
            "marker": {
             "colorbar": {
              "outlinewidth": 0,
              "ticks": ""
             }
            },
            "type": "scattermapbox"
           }
          ],
          "scatterpolar": [
           {
            "marker": {
             "colorbar": {
              "outlinewidth": 0,
              "ticks": ""
             }
            },
            "type": "scatterpolar"
           }
          ],
          "scatterpolargl": [
           {
            "marker": {
             "colorbar": {
              "outlinewidth": 0,
              "ticks": ""
             }
            },
            "type": "scatterpolargl"
           }
          ],
          "scatterternary": [
           {
            "marker": {
             "colorbar": {
              "outlinewidth": 0,
              "ticks": ""
             }
            },
            "type": "scatterternary"
           }
          ],
          "surface": [
           {
            "colorbar": {
             "outlinewidth": 0,
             "ticks": ""
            },
            "colorscale": [
             [
              0,
              "#0d0887"
             ],
             [
              0.1111111111111111,
              "#46039f"
             ],
             [
              0.2222222222222222,
              "#7201a8"
             ],
             [
              0.3333333333333333,
              "#9c179e"
             ],
             [
              0.4444444444444444,
              "#bd3786"
             ],
             [
              0.5555555555555556,
              "#d8576b"
             ],
             [
              0.6666666666666666,
              "#ed7953"
             ],
             [
              0.7777777777777778,
              "#fb9f3a"
             ],
             [
              0.8888888888888888,
              "#fdca26"
             ],
             [
              1,
              "#f0f921"
             ]
            ],
            "type": "surface"
           }
          ],
          "table": [
           {
            "cells": {
             "fill": {
              "color": "#EBF0F8"
             },
             "line": {
              "color": "white"
             }
            },
            "header": {
             "fill": {
              "color": "#C8D4E3"
             },
             "line": {
              "color": "white"
             }
            },
            "type": "table"
           }
          ]
         },
         "layout": {
          "annotationdefaults": {
           "arrowcolor": "#2a3f5f",
           "arrowhead": 0,
           "arrowwidth": 1
          },
          "autotypenumbers": "strict",
          "coloraxis": {
           "colorbar": {
            "outlinewidth": 0,
            "ticks": ""
           }
          },
          "colorscale": {
           "diverging": [
            [
             0,
             "#8e0152"
            ],
            [
             0.1,
             "#c51b7d"
            ],
            [
             0.2,
             "#de77ae"
            ],
            [
             0.3,
             "#f1b6da"
            ],
            [
             0.4,
             "#fde0ef"
            ],
            [
             0.5,
             "#f7f7f7"
            ],
            [
             0.6,
             "#e6f5d0"
            ],
            [
             0.7,
             "#b8e186"
            ],
            [
             0.8,
             "#7fbc41"
            ],
            [
             0.9,
             "#4d9221"
            ],
            [
             1,
             "#276419"
            ]
           ],
           "sequential": [
            [
             0,
             "#0d0887"
            ],
            [
             0.1111111111111111,
             "#46039f"
            ],
            [
             0.2222222222222222,
             "#7201a8"
            ],
            [
             0.3333333333333333,
             "#9c179e"
            ],
            [
             0.4444444444444444,
             "#bd3786"
            ],
            [
             0.5555555555555556,
             "#d8576b"
            ],
            [
             0.6666666666666666,
             "#ed7953"
            ],
            [
             0.7777777777777778,
             "#fb9f3a"
            ],
            [
             0.8888888888888888,
             "#fdca26"
            ],
            [
             1,
             "#f0f921"
            ]
           ],
           "sequentialminus": [
            [
             0,
             "#0d0887"
            ],
            [
             0.1111111111111111,
             "#46039f"
            ],
            [
             0.2222222222222222,
             "#7201a8"
            ],
            [
             0.3333333333333333,
             "#9c179e"
            ],
            [
             0.4444444444444444,
             "#bd3786"
            ],
            [
             0.5555555555555556,
             "#d8576b"
            ],
            [
             0.6666666666666666,
             "#ed7953"
            ],
            [
             0.7777777777777778,
             "#fb9f3a"
            ],
            [
             0.8888888888888888,
             "#fdca26"
            ],
            [
             1,
             "#f0f921"
            ]
           ]
          },
          "colorway": [
           "#636efa",
           "#EF553B",
           "#00cc96",
           "#ab63fa",
           "#FFA15A",
           "#19d3f3",
           "#FF6692",
           "#B6E880",
           "#FF97FF",
           "#FECB52"
          ],
          "font": {
           "color": "#2a3f5f"
          },
          "geo": {
           "bgcolor": "white",
           "lakecolor": "white",
           "landcolor": "#E5ECF6",
           "showlakes": true,
           "showland": true,
           "subunitcolor": "white"
          },
          "hoverlabel": {
           "align": "left"
          },
          "hovermode": "closest",
          "mapbox": {
           "style": "light"
          },
          "paper_bgcolor": "white",
          "plot_bgcolor": "#E5ECF6",
          "polar": {
           "angularaxis": {
            "gridcolor": "white",
            "linecolor": "white",
            "ticks": ""
           },
           "bgcolor": "#E5ECF6",
           "radialaxis": {
            "gridcolor": "white",
            "linecolor": "white",
            "ticks": ""
           }
          },
          "scene": {
           "xaxis": {
            "backgroundcolor": "#E5ECF6",
            "gridcolor": "white",
            "gridwidth": 2,
            "linecolor": "white",
            "showbackground": true,
            "ticks": "",
            "zerolinecolor": "white"
           },
           "yaxis": {
            "backgroundcolor": "#E5ECF6",
            "gridcolor": "white",
            "gridwidth": 2,
            "linecolor": "white",
            "showbackground": true,
            "ticks": "",
            "zerolinecolor": "white"
           },
           "zaxis": {
            "backgroundcolor": "#E5ECF6",
            "gridcolor": "white",
            "gridwidth": 2,
            "linecolor": "white",
            "showbackground": true,
            "ticks": "",
            "zerolinecolor": "white"
           }
          },
          "shapedefaults": {
           "line": {
            "color": "#2a3f5f"
           }
          },
          "ternary": {
           "aaxis": {
            "gridcolor": "white",
            "linecolor": "white",
            "ticks": ""
           },
           "baxis": {
            "gridcolor": "white",
            "linecolor": "white",
            "ticks": ""
           },
           "bgcolor": "#E5ECF6",
           "caxis": {
            "gridcolor": "white",
            "linecolor": "white",
            "ticks": ""
           }
          },
          "title": {
           "x": 0.05
          },
          "xaxis": {
           "automargin": true,
           "gridcolor": "white",
           "linecolor": "white",
           "ticks": "",
           "title": {
            "standoff": 15
           },
           "zerolinecolor": "white",
           "zerolinewidth": 2
          },
          "yaxis": {
           "automargin": true,
           "gridcolor": "white",
           "linecolor": "white",
           "ticks": "",
           "title": {
            "standoff": 15
           },
           "zerolinecolor": "white",
           "zerolinewidth": 2
          }
         }
        },
        "title": {
         "text": "Top 10 Most Reviewed Wine Varieties"
        },
        "xaxis": {
         "anchor": "y",
         "domain": [
          0,
          1
         ],
         "title": {
          "text": "Number of Reviews"
         }
        },
        "yaxis": {
         "anchor": "x",
         "domain": [
          0,
          1
         ],
         "title": {
          "text": "Wine Variety"
         }
        }
       }
      }
     },
     "metadata": {},
     "output_type": "display_data"
    }
   ],
   "source": [
    "# Plot the bar chat to check which wine varieties are the most reviewed or rated\n",
    "# Create a DataFrame with the counts of the top 10 varieties\n",
    "variety_counts = wine_df['variety'].value_counts().head(10).reset_index()\n",
    "variety_counts.columns = ['variety', 'count']  # Rename columns for clarity\n",
    "\n",
    "# Plot the bar chart\n",
    "fig = px.bar(variety_counts, x='count', y='variety', orientation='h',\n",
    "             title=\"Top 10 Most Reviewed Wine Varieties\",\n",
    "             labels={\"variety\": \"Wine Variety\", \"count\": \"Number of Reviews\"})\n",
    "fig.show()\n"
   ]
  },
  {
   "cell_type": "markdown",
   "metadata": {},
   "source": [
    "The bar chart below shows which countries produce the most expensive wine"
   ]
  },
  {
   "cell_type": "code",
   "execution_count": 18,
   "metadata": {},
   "outputs": [
    {
     "data": {
      "application/vnd.plotly.v1+json": {
       "config": {
        "plotlyServerURL": "https://plot.ly"
       },
       "data": [
        {
         "alignmentgroup": "True",
         "hovertemplate": "Country=%{x}<br>Average Price ($)=%{y}<extra></extra>",
         "legendgroup": "",
         "marker": {
          "color": "#636efa",
          "pattern": {
           "shape": ""
          }
         },
         "name": "",
         "offsetgroup": "",
         "orientation": "v",
         "showlegend": false,
         "textposition": "auto",
         "type": "bar",
         "x": [
          "New Zealand",
          "Italy",
          "US",
          "Australia",
          "Slovenia",
          "Spain",
          "Chile",
          "France",
          "Morocco",
          "Canada"
         ],
         "xaxis": "x",
         "y": [
          57,
          55.78321678321678,
          42.709741550695824,
          42.166666666666664,
          40,
          37.70967741935484,
          35.714285714285715,
          35.451388888888886,
          35,
          33.6
         ],
         "yaxis": "y"
        }
       ],
       "layout": {
        "barmode": "relative",
        "legend": {
         "tracegroupgap": 0
        },
        "template": {
         "data": {
          "bar": [
           {
            "error_x": {
             "color": "#2a3f5f"
            },
            "error_y": {
             "color": "#2a3f5f"
            },
            "marker": {
             "line": {
              "color": "#E5ECF6",
              "width": 0.5
             },
             "pattern": {
              "fillmode": "overlay",
              "size": 10,
              "solidity": 0.2
             }
            },
            "type": "bar"
           }
          ],
          "barpolar": [
           {
            "marker": {
             "line": {
              "color": "#E5ECF6",
              "width": 0.5
             },
             "pattern": {
              "fillmode": "overlay",
              "size": 10,
              "solidity": 0.2
             }
            },
            "type": "barpolar"
           }
          ],
          "carpet": [
           {
            "aaxis": {
             "endlinecolor": "#2a3f5f",
             "gridcolor": "white",
             "linecolor": "white",
             "minorgridcolor": "white",
             "startlinecolor": "#2a3f5f"
            },
            "baxis": {
             "endlinecolor": "#2a3f5f",
             "gridcolor": "white",
             "linecolor": "white",
             "minorgridcolor": "white",
             "startlinecolor": "#2a3f5f"
            },
            "type": "carpet"
           }
          ],
          "choropleth": [
           {
            "colorbar": {
             "outlinewidth": 0,
             "ticks": ""
            },
            "type": "choropleth"
           }
          ],
          "contour": [
           {
            "colorbar": {
             "outlinewidth": 0,
             "ticks": ""
            },
            "colorscale": [
             [
              0,
              "#0d0887"
             ],
             [
              0.1111111111111111,
              "#46039f"
             ],
             [
              0.2222222222222222,
              "#7201a8"
             ],
             [
              0.3333333333333333,
              "#9c179e"
             ],
             [
              0.4444444444444444,
              "#bd3786"
             ],
             [
              0.5555555555555556,
              "#d8576b"
             ],
             [
              0.6666666666666666,
              "#ed7953"
             ],
             [
              0.7777777777777778,
              "#fb9f3a"
             ],
             [
              0.8888888888888888,
              "#fdca26"
             ],
             [
              1,
              "#f0f921"
             ]
            ],
            "type": "contour"
           }
          ],
          "contourcarpet": [
           {
            "colorbar": {
             "outlinewidth": 0,
             "ticks": ""
            },
            "type": "contourcarpet"
           }
          ],
          "heatmap": [
           {
            "colorbar": {
             "outlinewidth": 0,
             "ticks": ""
            },
            "colorscale": [
             [
              0,
              "#0d0887"
             ],
             [
              0.1111111111111111,
              "#46039f"
             ],
             [
              0.2222222222222222,
              "#7201a8"
             ],
             [
              0.3333333333333333,
              "#9c179e"
             ],
             [
              0.4444444444444444,
              "#bd3786"
             ],
             [
              0.5555555555555556,
              "#d8576b"
             ],
             [
              0.6666666666666666,
              "#ed7953"
             ],
             [
              0.7777777777777778,
              "#fb9f3a"
             ],
             [
              0.8888888888888888,
              "#fdca26"
             ],
             [
              1,
              "#f0f921"
             ]
            ],
            "type": "heatmap"
           }
          ],
          "heatmapgl": [
           {
            "colorbar": {
             "outlinewidth": 0,
             "ticks": ""
            },
            "colorscale": [
             [
              0,
              "#0d0887"
             ],
             [
              0.1111111111111111,
              "#46039f"
             ],
             [
              0.2222222222222222,
              "#7201a8"
             ],
             [
              0.3333333333333333,
              "#9c179e"
             ],
             [
              0.4444444444444444,
              "#bd3786"
             ],
             [
              0.5555555555555556,
              "#d8576b"
             ],
             [
              0.6666666666666666,
              "#ed7953"
             ],
             [
              0.7777777777777778,
              "#fb9f3a"
             ],
             [
              0.8888888888888888,
              "#fdca26"
             ],
             [
              1,
              "#f0f921"
             ]
            ],
            "type": "heatmapgl"
           }
          ],
          "histogram": [
           {
            "marker": {
             "pattern": {
              "fillmode": "overlay",
              "size": 10,
              "solidity": 0.2
             }
            },
            "type": "histogram"
           }
          ],
          "histogram2d": [
           {
            "colorbar": {
             "outlinewidth": 0,
             "ticks": ""
            },
            "colorscale": [
             [
              0,
              "#0d0887"
             ],
             [
              0.1111111111111111,
              "#46039f"
             ],
             [
              0.2222222222222222,
              "#7201a8"
             ],
             [
              0.3333333333333333,
              "#9c179e"
             ],
             [
              0.4444444444444444,
              "#bd3786"
             ],
             [
              0.5555555555555556,
              "#d8576b"
             ],
             [
              0.6666666666666666,
              "#ed7953"
             ],
             [
              0.7777777777777778,
              "#fb9f3a"
             ],
             [
              0.8888888888888888,
              "#fdca26"
             ],
             [
              1,
              "#f0f921"
             ]
            ],
            "type": "histogram2d"
           }
          ],
          "histogram2dcontour": [
           {
            "colorbar": {
             "outlinewidth": 0,
             "ticks": ""
            },
            "colorscale": [
             [
              0,
              "#0d0887"
             ],
             [
              0.1111111111111111,
              "#46039f"
             ],
             [
              0.2222222222222222,
              "#7201a8"
             ],
             [
              0.3333333333333333,
              "#9c179e"
             ],
             [
              0.4444444444444444,
              "#bd3786"
             ],
             [
              0.5555555555555556,
              "#d8576b"
             ],
             [
              0.6666666666666666,
              "#ed7953"
             ],
             [
              0.7777777777777778,
              "#fb9f3a"
             ],
             [
              0.8888888888888888,
              "#fdca26"
             ],
             [
              1,
              "#f0f921"
             ]
            ],
            "type": "histogram2dcontour"
           }
          ],
          "mesh3d": [
           {
            "colorbar": {
             "outlinewidth": 0,
             "ticks": ""
            },
            "type": "mesh3d"
           }
          ],
          "parcoords": [
           {
            "line": {
             "colorbar": {
              "outlinewidth": 0,
              "ticks": ""
             }
            },
            "type": "parcoords"
           }
          ],
          "pie": [
           {
            "automargin": true,
            "type": "pie"
           }
          ],
          "scatter": [
           {
            "fillpattern": {
             "fillmode": "overlay",
             "size": 10,
             "solidity": 0.2
            },
            "type": "scatter"
           }
          ],
          "scatter3d": [
           {
            "line": {
             "colorbar": {
              "outlinewidth": 0,
              "ticks": ""
             }
            },
            "marker": {
             "colorbar": {
              "outlinewidth": 0,
              "ticks": ""
             }
            },
            "type": "scatter3d"
           }
          ],
          "scattercarpet": [
           {
            "marker": {
             "colorbar": {
              "outlinewidth": 0,
              "ticks": ""
             }
            },
            "type": "scattercarpet"
           }
          ],
          "scattergeo": [
           {
            "marker": {
             "colorbar": {
              "outlinewidth": 0,
              "ticks": ""
             }
            },
            "type": "scattergeo"
           }
          ],
          "scattergl": [
           {
            "marker": {
             "colorbar": {
              "outlinewidth": 0,
              "ticks": ""
             }
            },
            "type": "scattergl"
           }
          ],
          "scattermapbox": [
           {
            "marker": {
             "colorbar": {
              "outlinewidth": 0,
              "ticks": ""
             }
            },
            "type": "scattermapbox"
           }
          ],
          "scatterpolar": [
           {
            "marker": {
             "colorbar": {
              "outlinewidth": 0,
              "ticks": ""
             }
            },
            "type": "scatterpolar"
           }
          ],
          "scatterpolargl": [
           {
            "marker": {
             "colorbar": {
              "outlinewidth": 0,
              "ticks": ""
             }
            },
            "type": "scatterpolargl"
           }
          ],
          "scatterternary": [
           {
            "marker": {
             "colorbar": {
              "outlinewidth": 0,
              "ticks": ""
             }
            },
            "type": "scatterternary"
           }
          ],
          "surface": [
           {
            "colorbar": {
             "outlinewidth": 0,
             "ticks": ""
            },
            "colorscale": [
             [
              0,
              "#0d0887"
             ],
             [
              0.1111111111111111,
              "#46039f"
             ],
             [
              0.2222222222222222,
              "#7201a8"
             ],
             [
              0.3333333333333333,
              "#9c179e"
             ],
             [
              0.4444444444444444,
              "#bd3786"
             ],
             [
              0.5555555555555556,
              "#d8576b"
             ],
             [
              0.6666666666666666,
              "#ed7953"
             ],
             [
              0.7777777777777778,
              "#fb9f3a"
             ],
             [
              0.8888888888888888,
              "#fdca26"
             ],
             [
              1,
              "#f0f921"
             ]
            ],
            "type": "surface"
           }
          ],
          "table": [
           {
            "cells": {
             "fill": {
              "color": "#EBF0F8"
             },
             "line": {
              "color": "white"
             }
            },
            "header": {
             "fill": {
              "color": "#C8D4E3"
             },
             "line": {
              "color": "white"
             }
            },
            "type": "table"
           }
          ]
         },
         "layout": {
          "annotationdefaults": {
           "arrowcolor": "#2a3f5f",
           "arrowhead": 0,
           "arrowwidth": 1
          },
          "autotypenumbers": "strict",
          "coloraxis": {
           "colorbar": {
            "outlinewidth": 0,
            "ticks": ""
           }
          },
          "colorscale": {
           "diverging": [
            [
             0,
             "#8e0152"
            ],
            [
             0.1,
             "#c51b7d"
            ],
            [
             0.2,
             "#de77ae"
            ],
            [
             0.3,
             "#f1b6da"
            ],
            [
             0.4,
             "#fde0ef"
            ],
            [
             0.5,
             "#f7f7f7"
            ],
            [
             0.6,
             "#e6f5d0"
            ],
            [
             0.7,
             "#b8e186"
            ],
            [
             0.8,
             "#7fbc41"
            ],
            [
             0.9,
             "#4d9221"
            ],
            [
             1,
             "#276419"
            ]
           ],
           "sequential": [
            [
             0,
             "#0d0887"
            ],
            [
             0.1111111111111111,
             "#46039f"
            ],
            [
             0.2222222222222222,
             "#7201a8"
            ],
            [
             0.3333333333333333,
             "#9c179e"
            ],
            [
             0.4444444444444444,
             "#bd3786"
            ],
            [
             0.5555555555555556,
             "#d8576b"
            ],
            [
             0.6666666666666666,
             "#ed7953"
            ],
            [
             0.7777777777777778,
             "#fb9f3a"
            ],
            [
             0.8888888888888888,
             "#fdca26"
            ],
            [
             1,
             "#f0f921"
            ]
           ],
           "sequentialminus": [
            [
             0,
             "#0d0887"
            ],
            [
             0.1111111111111111,
             "#46039f"
            ],
            [
             0.2222222222222222,
             "#7201a8"
            ],
            [
             0.3333333333333333,
             "#9c179e"
            ],
            [
             0.4444444444444444,
             "#bd3786"
            ],
            [
             0.5555555555555556,
             "#d8576b"
            ],
            [
             0.6666666666666666,
             "#ed7953"
            ],
            [
             0.7777777777777778,
             "#fb9f3a"
            ],
            [
             0.8888888888888888,
             "#fdca26"
            ],
            [
             1,
             "#f0f921"
            ]
           ]
          },
          "colorway": [
           "#636efa",
           "#EF553B",
           "#00cc96",
           "#ab63fa",
           "#FFA15A",
           "#19d3f3",
           "#FF6692",
           "#B6E880",
           "#FF97FF",
           "#FECB52"
          ],
          "font": {
           "color": "#2a3f5f"
          },
          "geo": {
           "bgcolor": "white",
           "lakecolor": "white",
           "landcolor": "#E5ECF6",
           "showlakes": true,
           "showland": true,
           "subunitcolor": "white"
          },
          "hoverlabel": {
           "align": "left"
          },
          "hovermode": "closest",
          "mapbox": {
           "style": "light"
          },
          "paper_bgcolor": "white",
          "plot_bgcolor": "#E5ECF6",
          "polar": {
           "angularaxis": {
            "gridcolor": "white",
            "linecolor": "white",
            "ticks": ""
           },
           "bgcolor": "#E5ECF6",
           "radialaxis": {
            "gridcolor": "white",
            "linecolor": "white",
            "ticks": ""
           }
          },
          "scene": {
           "xaxis": {
            "backgroundcolor": "#E5ECF6",
            "gridcolor": "white",
            "gridwidth": 2,
            "linecolor": "white",
            "showbackground": true,
            "ticks": "",
            "zerolinecolor": "white"
           },
           "yaxis": {
            "backgroundcolor": "#E5ECF6",
            "gridcolor": "white",
            "gridwidth": 2,
            "linecolor": "white",
            "showbackground": true,
            "ticks": "",
            "zerolinecolor": "white"
           },
           "zaxis": {
            "backgroundcolor": "#E5ECF6",
            "gridcolor": "white",
            "gridwidth": 2,
            "linecolor": "white",
            "showbackground": true,
            "ticks": "",
            "zerolinecolor": "white"
           }
          },
          "shapedefaults": {
           "line": {
            "color": "#2a3f5f"
           }
          },
          "ternary": {
           "aaxis": {
            "gridcolor": "white",
            "linecolor": "white",
            "ticks": ""
           },
           "baxis": {
            "gridcolor": "white",
            "linecolor": "white",
            "ticks": ""
           },
           "bgcolor": "#E5ECF6",
           "caxis": {
            "gridcolor": "white",
            "linecolor": "white",
            "ticks": ""
           }
          },
          "title": {
           "x": 0.05
          },
          "xaxis": {
           "automargin": true,
           "gridcolor": "white",
           "linecolor": "white",
           "ticks": "",
           "title": {
            "standoff": 15
           },
           "zerolinecolor": "white",
           "zerolinewidth": 2
          },
          "yaxis": {
           "automargin": true,
           "gridcolor": "white",
           "linecolor": "white",
           "ticks": "",
           "title": {
            "standoff": 15
           },
           "zerolinecolor": "white",
           "zerolinewidth": 2
          }
         }
        },
        "title": {
         "text": "Top 10 Countries with Most Expensive Wines (Average Price)"
        },
        "xaxis": {
         "anchor": "y",
         "domain": [
          0,
          1
         ],
         "title": {
          "text": "Country"
         }
        },
        "yaxis": {
         "anchor": "x",
         "domain": [
          0,
          1
         ],
         "title": {
          "text": "Average Price ($)"
         }
        }
       }
      }
     },
     "metadata": {},
     "output_type": "display_data"
    }
   ],
   "source": [
    "# Checking which countries produce the most expensive wine\n",
    "avg_price_by_country = wine_df.groupby(\"country\")[\"price\"].mean().reset_index()\n",
    "\n",
    "# Plot the bar chat\n",
    "fig = px.bar(avg_price_by_country.sort_values(by=\"price\", ascending=False).head(10),\n",
    "             x=\"country\", y=\"price\",\n",
    "             title=\"Top 10 Countries with Most Expensive Wines (Average Price)\",\n",
    "             labels={\"price\": \"Average Price ($)\", \"country\": \"Country\"})\n",
    "fig.show()\n"
   ]
  },
  {
   "cell_type": "markdown",
   "metadata": {},
   "source": [
    "The histogram below shows the distribution of wine points(quality ratings)"
   ]
  },
  {
   "cell_type": "code",
   "execution_count": 19,
   "metadata": {},
   "outputs": [
    {
     "data": {
      "application/vnd.plotly.v1+json": {
       "config": {
        "plotlyServerURL": "https://plot.ly"
       },
       "data": [
        {
         "alignmentgroup": "True",
         "bingroup": "x",
         "hovertemplate": "country=US<br>Points=%{x}<br>count=%{y}<extra></extra>",
         "legendgroup": "US",
         "marker": {
          "color": "#636efa",
          "pattern": {
           "shape": ""
          }
         },
         "name": "US",
         "nbinsx": 20,
         "offsetgroup": "US",
         "orientation": "v",
         "showlegend": true,
         "type": "histogram",
         "x": [
          96,
          96,
          96,
          95,
          95,
          95,
          95,
          95,
          95,
          95,
          95,
          95,
          95,
          95,
          94,
          94,
          94,
          94,
          90,
          90,
          90,
          90,
          90,
          90,
          90,
          90,
          90,
          91,
          91,
          91,
          91,
          91,
          91,
          91,
          91,
          91,
          91,
          91,
          91,
          91,
          91,
          86,
          86,
          86,
          86,
          86,
          86,
          86,
          86,
          86,
          86,
          86,
          86,
          86,
          86,
          86,
          91,
          91,
          91,
          91,
          91,
          91,
          90,
          90,
          90,
          90,
          90,
          90,
          90,
          90,
          90,
          90,
          90,
          90,
          90,
          90,
          90,
          90,
          90,
          89,
          89,
          89,
          89,
          89,
          89,
          89,
          89,
          89,
          89,
          89,
          88,
          88,
          88,
          88,
          88,
          88,
          88,
          87,
          87,
          87,
          87,
          87,
          87,
          87,
          87,
          87,
          87,
          87,
          93,
          93,
          93,
          93,
          93,
          93,
          93,
          93,
          93,
          93,
          93,
          88,
          88,
          88,
          88,
          88,
          88,
          88,
          88,
          88,
          88,
          88,
          88,
          88,
          88,
          88,
          92,
          92,
          92,
          92,
          92,
          92,
          92,
          91,
          91,
          91,
          91,
          91,
          91,
          94,
          94,
          94,
          94,
          94,
          94,
          94,
          94,
          94,
          94,
          94,
          94,
          94,
          94,
          94,
          94,
          94,
          91,
          91,
          91,
          91,
          91,
          91,
          91,
          91,
          91,
          91,
          91,
          91,
          91,
          91,
          90,
          90,
          90,
          90,
          90,
          90,
          90,
          90,
          90,
          90,
          90,
          90,
          90,
          90,
          90,
          90,
          90,
          90,
          90,
          90,
          90,
          90,
          90,
          90,
          90,
          90,
          90,
          87,
          87,
          87,
          87,
          87,
          87,
          87,
          87,
          87,
          87,
          87,
          87,
          87,
          87,
          86,
          86,
          86,
          86,
          86,
          86,
          86,
          86,
          86,
          86,
          86,
          86,
          86,
          86,
          86,
          89,
          89,
          89,
          89,
          89,
          89,
          89,
          89,
          89,
          89,
          89,
          92,
          92,
          92,
          92,
          92,
          92,
          92,
          92,
          92,
          92,
          92,
          92,
          92,
          92,
          92,
          92,
          90,
          90,
          90,
          90,
          90,
          90,
          90,
          90,
          90,
          90,
          90,
          90,
          90,
          94,
          94,
          94,
          94,
          94,
          94,
          94,
          93,
          93,
          93,
          93,
          93,
          93,
          93,
          93,
          93,
          93,
          93,
          93,
          91,
          91,
          91,
          91,
          91,
          91,
          91,
          91,
          91,
          91,
          90,
          90,
          90,
          90,
          90,
          90,
          90,
          90,
          90,
          90,
          90,
          88,
          88,
          88,
          88,
          88,
          88,
          88,
          88,
          88,
          88,
          88,
          88,
          88,
          90,
          90,
          90,
          90,
          90,
          90,
          90,
          90,
          90,
          90,
          90,
          90,
          90,
          90,
          90,
          90,
          90,
          90,
          90,
          86,
          85,
          85,
          85,
          85,
          85,
          89,
          89,
          89,
          89,
          89,
          89,
          89,
          89,
          89,
          89,
          89,
          89,
          89,
          87,
          87,
          87,
          87,
          87,
          87,
          87,
          87,
          87,
          87,
          87,
          87,
          87,
          87,
          87,
          87,
          87,
          87,
          87,
          90,
          90,
          90,
          90,
          90,
          90,
          90,
          90,
          90,
          90,
          90,
          90,
          90,
          90,
          90,
          90,
          90,
          90,
          90,
          90,
          90,
          90,
          90,
          90,
          90,
          92,
          92,
          92,
          92,
          92,
          92,
          92,
          92,
          92,
          92,
          92,
          92,
          92,
          92,
          92,
          92,
          93,
          93,
          93,
          93,
          93,
          93,
          93,
          93,
          93,
          93,
          93,
          93,
          93,
          93,
          93,
          93,
          93,
          93,
          93,
          93,
          89,
          89,
          89,
          89,
          89,
          89,
          89,
          89,
          89,
          90,
          90,
          90,
          90,
          90,
          90,
          90,
          90,
          90,
          90,
          85,
          85,
          85,
          85,
          85,
          91,
          91,
          91,
          91,
          91,
          91,
          91,
          88,
          88,
          88,
          88,
          88,
          88,
          88,
          88,
          88,
          88,
          88,
          88,
          88,
          87,
          87,
          87,
          87,
          87,
          87,
          87,
          87,
          87,
          87,
          87,
          87,
          87,
          87,
          87
         ],
         "xaxis": "x",
         "yaxis": "y"
        },
        {
         "alignmentgroup": "True",
         "bingroup": "x",
         "hovertemplate": "country=Spain<br>Points=%{x}<br>count=%{y}<extra></extra>",
         "legendgroup": "Spain",
         "marker": {
          "color": "#EF553B",
          "pattern": {
           "shape": ""
          }
         },
         "name": "Spain",
         "nbinsx": 20,
         "offsetgroup": "Spain",
         "orientation": "v",
         "showlegend": true,
         "type": "histogram",
         "x": [
          96,
          95,
          95,
          95,
          95,
          95,
          95,
          90,
          90,
          86,
          90,
          90,
          90,
          89,
          89,
          89,
          89,
          88,
          87,
          87,
          88,
          88,
          94,
          94,
          91,
          91,
          90,
          90,
          90,
          90,
          87,
          87,
          87,
          87,
          87,
          87,
          87,
          89,
          89,
          89,
          89,
          90,
          90,
          93,
          93,
          90,
          88,
          90,
          90,
          85,
          89,
          90,
          90,
          90,
          90,
          90,
          90,
          93,
          93,
          89,
          90,
          90,
          88,
          87
         ],
         "xaxis": "x",
         "yaxis": "y"
        },
        {
         "alignmentgroup": "True",
         "bingroup": "x",
         "hovertemplate": "country=France<br>Points=%{x}<br>count=%{y}<extra></extra>",
         "legendgroup": "France",
         "marker": {
          "color": "#00cc96",
          "pattern": {
           "shape": ""
          }
         },
         "name": "France",
         "nbinsx": 20,
         "offsetgroup": "France",
         "orientation": "v",
         "showlegend": true,
         "type": "histogram",
         "x": [
          95,
          95,
          95,
          90,
          90,
          90,
          90,
          90,
          90,
          90,
          91,
          91,
          91,
          91,
          86,
          86,
          86,
          86,
          86,
          90,
          90,
          89,
          89,
          87,
          87,
          87,
          87,
          87,
          87,
          87,
          93,
          93,
          93,
          93,
          93,
          93,
          92,
          92,
          92,
          88,
          88,
          88,
          88,
          88,
          88,
          88,
          92,
          92,
          92,
          92,
          91,
          91,
          91,
          91,
          91,
          94,
          94,
          94,
          94,
          94,
          94,
          91,
          90,
          90,
          90,
          90,
          90,
          90,
          90,
          90,
          90,
          87,
          87,
          86,
          86,
          89,
          89,
          89,
          89,
          89,
          92,
          92,
          92,
          92,
          92,
          90,
          90,
          90,
          90,
          90,
          90,
          90,
          94,
          94,
          93,
          93,
          91,
          91,
          91,
          90,
          90,
          90,
          88,
          88,
          88,
          88,
          88,
          88,
          88,
          88,
          88,
          88,
          88,
          90,
          85,
          85,
          85,
          85,
          85,
          85,
          89,
          89,
          89,
          87,
          87,
          87,
          87,
          87,
          87,
          87,
          90,
          90,
          90,
          90,
          90,
          90,
          90,
          90,
          90,
          90,
          90,
          92,
          92,
          92,
          93,
          93,
          93,
          93,
          93,
          93,
          93,
          89,
          89,
          85,
          85,
          85,
          85,
          85,
          85,
          85,
          91,
          91,
          91,
          88,
          88,
          88,
          87,
          87,
          87,
          87,
          87,
          87
         ],
         "xaxis": "x",
         "yaxis": "y"
        },
        {
         "alignmentgroup": "True",
         "bingroup": "x",
         "hovertemplate": "country=Italy<br>Points=%{x}<br>count=%{y}<extra></extra>",
         "legendgroup": "Italy",
         "marker": {
          "color": "#ab63fa",
          "pattern": {
           "shape": ""
          }
         },
         "name": "Italy",
         "nbinsx": 20,
         "offsetgroup": "Italy",
         "orientation": "v",
         "showlegend": true,
         "type": "histogram",
         "x": [
          95,
          90,
          90,
          90,
          90,
          90,
          90,
          90,
          90,
          90,
          90,
          90,
          91,
          91,
          91,
          91,
          91,
          91,
          86,
          86,
          90,
          90,
          89,
          89,
          89,
          89,
          93,
          93,
          93,
          93,
          93,
          92,
          88,
          88,
          88,
          88,
          92,
          92,
          92,
          91,
          91,
          94,
          94,
          94,
          91,
          91,
          91,
          91,
          91,
          91,
          90,
          90,
          90,
          90,
          90,
          90,
          90,
          90,
          90,
          90,
          90,
          90,
          90,
          90,
          87,
          87,
          87,
          87,
          87,
          87,
          87,
          86,
          89,
          89,
          89,
          89,
          89,
          89,
          92,
          92,
          90,
          90,
          90,
          90,
          94,
          91,
          91,
          91,
          90,
          90,
          90,
          90,
          90,
          90,
          90,
          90,
          90,
          90,
          90,
          88,
          88,
          90,
          90,
          90,
          90,
          85,
          85,
          89,
          89,
          89,
          89,
          89,
          87,
          87,
          87,
          87,
          90,
          90,
          90,
          90,
          90,
          90,
          90,
          90,
          90,
          90,
          90,
          90,
          92,
          92,
          92,
          92,
          92,
          92,
          92,
          89,
          89,
          89,
          89,
          89,
          89,
          89,
          90,
          90,
          90,
          90,
          90,
          90,
          90,
          90,
          90,
          90,
          85,
          85,
          91,
          91,
          91,
          88,
          88,
          88,
          88,
          88,
          87
         ],
         "xaxis": "x",
         "yaxis": "y"
        },
        {
         "alignmentgroup": "True",
         "bingroup": "x",
         "hovertemplate": "country=New Zealand<br>Points=%{x}<br>count=%{y}<extra></extra>",
         "legendgroup": "New Zealand",
         "marker": {
          "color": "#FFA15A",
          "pattern": {
           "shape": ""
          }
         },
         "name": "New Zealand",
         "nbinsx": 20,
         "offsetgroup": "New Zealand",
         "orientation": "v",
         "showlegend": true,
         "type": "histogram",
         "x": [
          94,
          94
         ],
         "xaxis": "x",
         "yaxis": "y"
        },
        {
         "alignmentgroup": "True",
         "bingroup": "x",
         "hovertemplate": "country=Bulgaria<br>Points=%{x}<br>count=%{y}<extra></extra>",
         "legendgroup": "Bulgaria",
         "marker": {
          "color": "#19d3f3",
          "pattern": {
           "shape": ""
          }
         },
         "name": "Bulgaria",
         "nbinsx": 20,
         "offsetgroup": "Bulgaria",
         "orientation": "v",
         "showlegend": true,
         "type": "histogram",
         "x": [
          90,
          90,
          85,
          90,
          88
         ],
         "xaxis": "x",
         "yaxis": "y"
        },
        {
         "alignmentgroup": "True",
         "bingroup": "x",
         "hovertemplate": "country=Argentina<br>Points=%{x}<br>count=%{y}<extra></extra>",
         "legendgroup": "Argentina",
         "marker": {
          "color": "#FF6692",
          "pattern": {
           "shape": ""
          }
         },
         "name": "Argentina",
         "nbinsx": 20,
         "offsetgroup": "Argentina",
         "orientation": "v",
         "showlegend": true,
         "type": "histogram",
         "x": [
          91,
          91,
          86,
          86,
          88,
          87,
          88,
          94,
          86,
          86,
          86,
          86,
          88,
          86,
          86,
          85,
          85,
          85,
          85,
          93,
          85,
          85,
          88,
          88,
          88
         ],
         "xaxis": "x",
         "yaxis": "y"
        },
        {
         "alignmentgroup": "True",
         "bingroup": "x",
         "hovertemplate": "country=Australia<br>Points=%{x}<br>count=%{y}<extra></extra>",
         "legendgroup": "Australia",
         "marker": {
          "color": "#B6E880",
          "pattern": {
           "shape": ""
          }
         },
         "name": "Australia",
         "nbinsx": 20,
         "offsetgroup": "Australia",
         "orientation": "v",
         "showlegend": true,
         "type": "histogram",
         "x": [
          91,
          90,
          88,
          90,
          90,
          88
         ],
         "xaxis": "x",
         "yaxis": "y"
        },
        {
         "alignmentgroup": "True",
         "bingroup": "x",
         "hovertemplate": "country=Portugal<br>Points=%{x}<br>count=%{y}<extra></extra>",
         "legendgroup": "Portugal",
         "marker": {
          "color": "#FF97FF",
          "pattern": {
           "shape": ""
          }
         },
         "name": "Portugal",
         "nbinsx": 20,
         "offsetgroup": "Portugal",
         "orientation": "v",
         "showlegend": true,
         "type": "histogram",
         "x": [
          91,
          91,
          86,
          86,
          86,
          86,
          89,
          93,
          93,
          92,
          92,
          92,
          91,
          91,
          91,
          91,
          91,
          86,
          86,
          86,
          86,
          86,
          86,
          86,
          89,
          92,
          92,
          92,
          92,
          91,
          91,
          91,
          90,
          90,
          85,
          85,
          89,
          89,
          89,
          92,
          92,
          89,
          89,
          89,
          89,
          89,
          90,
          90,
          85,
          85,
          85,
          85,
          85,
          85,
          85,
          85,
          85,
          85,
          91,
          91,
          91,
          91,
          91,
          91,
          91,
          91,
          91,
          91,
          91,
          88
         ],
         "xaxis": "x",
         "yaxis": "y"
        },
        {
         "alignmentgroup": "True",
         "bingroup": "x",
         "hovertemplate": "country=Israel<br>Points=%{x}<br>count=%{y}<extra></extra>",
         "legendgroup": "Israel",
         "marker": {
          "color": "#FECB52",
          "pattern": {
           "shape": ""
          }
         },
         "name": "Israel",
         "nbinsx": 20,
         "offsetgroup": "Israel",
         "orientation": "v",
         "showlegend": true,
         "type": "histogram",
         "x": [
          91,
          91,
          85,
          90,
          90,
          90,
          90,
          85
         ],
         "xaxis": "x",
         "yaxis": "y"
        },
        {
         "alignmentgroup": "True",
         "bingroup": "x",
         "hovertemplate": "country=South Africa<br>Points=%{x}<br>count=%{y}<extra></extra>",
         "legendgroup": "South Africa",
         "marker": {
          "color": "#636efa",
          "pattern": {
           "shape": ""
          }
         },
         "name": "South Africa",
         "nbinsx": 20,
         "offsetgroup": "South Africa",
         "orientation": "v",
         "showlegend": true,
         "type": "histogram",
         "x": [
          86,
          86,
          86,
          86,
          85,
          85,
          85,
          85,
          85,
          85
         ],
         "xaxis": "x",
         "yaxis": "y"
        },
        {
         "alignmentgroup": "True",
         "bingroup": "x",
         "hovertemplate": "country=Greece<br>Points=%{x}<br>count=%{y}<extra></extra>",
         "legendgroup": "Greece",
         "marker": {
          "color": "#EF553B",
          "pattern": {
           "shape": ""
          }
         },
         "name": "Greece",
         "nbinsx": 20,
         "offsetgroup": "Greece",
         "orientation": "v",
         "showlegend": true,
         "type": "histogram",
         "x": [
          89,
          89,
          89,
          89,
          89,
          90,
          90,
          89
         ],
         "xaxis": "x",
         "yaxis": "y"
        },
        {
         "alignmentgroup": "True",
         "bingroup": "x",
         "hovertemplate": "country=Chile<br>Points=%{x}<br>count=%{y}<extra></extra>",
         "legendgroup": "Chile",
         "marker": {
          "color": "#00cc96",
          "pattern": {
           "shape": ""
          }
         },
         "name": "Chile",
         "nbinsx": 20,
         "offsetgroup": "Chile",
         "orientation": "v",
         "showlegend": true,
         "type": "histogram",
         "x": [
          89,
          89,
          89,
          89,
          89,
          92,
          89,
          89,
          89,
          89,
          89,
          90,
          92,
          92,
          89,
          89,
          89,
          89,
          91,
          91,
          91
         ],
         "xaxis": "x",
         "yaxis": "y"
        },
        {
         "alignmentgroup": "True",
         "bingroup": "x",
         "hovertemplate": "country=Morocco<br>Points=%{x}<br>count=%{y}<extra></extra>",
         "legendgroup": "Morocco",
         "marker": {
          "color": "#ab63fa",
          "pattern": {
           "shape": ""
          }
         },
         "name": "Morocco",
         "nbinsx": 20,
         "offsetgroup": "Morocco",
         "orientation": "v",
         "showlegend": true,
         "type": "histogram",
         "x": [
          93
         ],
         "xaxis": "x",
         "yaxis": "y"
        },
        {
         "alignmentgroup": "True",
         "bingroup": "x",
         "hovertemplate": "country=Romania<br>Points=%{x}<br>count=%{y}<extra></extra>",
         "legendgroup": "Romania",
         "marker": {
          "color": "#FFA15A",
          "pattern": {
           "shape": ""
          }
         },
         "name": "Romania",
         "nbinsx": 20,
         "offsetgroup": "Romania",
         "orientation": "v",
         "showlegend": true,
         "type": "histogram",
         "x": [
          88,
          88
         ],
         "xaxis": "x",
         "yaxis": "y"
        },
        {
         "alignmentgroup": "True",
         "bingroup": "x",
         "hovertemplate": "country=Germany<br>Points=%{x}<br>count=%{y}<extra></extra>",
         "legendgroup": "Germany",
         "marker": {
          "color": "#19d3f3",
          "pattern": {
           "shape": ""
          }
         },
         "name": "Germany",
         "nbinsx": 20,
         "offsetgroup": "Germany",
         "orientation": "v",
         "showlegend": true,
         "type": "histogram",
         "x": [
          91,
          91,
          90,
          90,
          90,
          89,
          90,
          90,
          90,
          91,
          91,
          91,
          91,
          91,
          91,
          91,
          91,
          91,
          91,
          91,
          90,
          90,
          89,
          90,
          91,
          91,
          91
         ],
         "xaxis": "x",
         "yaxis": "y"
        },
        {
         "alignmentgroup": "True",
         "bingroup": "x",
         "hovertemplate": "country=Canada<br>Points=%{x}<br>count=%{y}<extra></extra>",
         "legendgroup": "Canada",
         "marker": {
          "color": "#FF6692",
          "pattern": {
           "shape": ""
          }
         },
         "name": "Canada",
         "nbinsx": 20,
         "offsetgroup": "Canada",
         "orientation": "v",
         "showlegend": true,
         "type": "histogram",
         "x": [
          90,
          92,
          90,
          90,
          90
         ],
         "xaxis": "x",
         "yaxis": "y"
        },
        {
         "alignmentgroup": "True",
         "bingroup": "x",
         "hovertemplate": "country=Moldova<br>Points=%{x}<br>count=%{y}<extra></extra>",
         "legendgroup": "Moldova",
         "marker": {
          "color": "#B6E880",
          "pattern": {
           "shape": ""
          }
         },
         "name": "Moldova",
         "nbinsx": 20,
         "offsetgroup": "Moldova",
         "orientation": "v",
         "showlegend": true,
         "type": "histogram",
         "x": [
          90
         ],
         "xaxis": "x",
         "yaxis": "y"
        },
        {
         "alignmentgroup": "True",
         "bingroup": "x",
         "hovertemplate": "country=Hungary<br>Points=%{x}<br>count=%{y}<extra></extra>",
         "legendgroup": "Hungary",
         "marker": {
          "color": "#FF97FF",
          "pattern": {
           "shape": ""
          }
         },
         "name": "Hungary",
         "nbinsx": 20,
         "offsetgroup": "Hungary",
         "orientation": "v",
         "showlegend": true,
         "type": "histogram",
         "x": [
          90,
          92
         ],
         "xaxis": "x",
         "yaxis": "y"
        },
        {
         "alignmentgroup": "True",
         "bingroup": "x",
         "hovertemplate": "country=Austria<br>Points=%{x}<br>count=%{y}<extra></extra>",
         "legendgroup": "Austria",
         "marker": {
          "color": "#FECB52",
          "pattern": {
           "shape": ""
          }
         },
         "name": "Austria",
         "nbinsx": 20,
         "offsetgroup": "Austria",
         "orientation": "v",
         "showlegend": true,
         "type": "histogram",
         "x": [
          93,
          93,
          93,
          93
         ],
         "xaxis": "x",
         "yaxis": "y"
        },
        {
         "alignmentgroup": "True",
         "bingroup": "x",
         "hovertemplate": "country=Croatia<br>Points=%{x}<br>count=%{y}<extra></extra>",
         "legendgroup": "Croatia",
         "marker": {
          "color": "#636efa",
          "pattern": {
           "shape": ""
          }
         },
         "name": "Croatia",
         "nbinsx": 20,
         "offsetgroup": "Croatia",
         "orientation": "v",
         "showlegend": true,
         "type": "histogram",
         "x": [
          88,
          88
         ],
         "xaxis": "x",
         "yaxis": "y"
        },
        {
         "alignmentgroup": "True",
         "bingroup": "x",
         "hovertemplate": "country=Slovenia<br>Points=%{x}<br>count=%{y}<extra></extra>",
         "legendgroup": "Slovenia",
         "marker": {
          "color": "#EF553B",
          "pattern": {
           "shape": ""
          }
         },
         "name": "Slovenia",
         "nbinsx": 20,
         "offsetgroup": "Slovenia",
         "orientation": "v",
         "showlegend": true,
         "type": "histogram",
         "x": [
          90
         ],
         "xaxis": "x",
         "yaxis": "y"
        }
       ],
       "layout": {
        "barmode": "relative",
        "legend": {
         "title": {
          "text": "country"
         },
         "tracegroupgap": 0
        },
        "template": {
         "data": {
          "bar": [
           {
            "error_x": {
             "color": "#2a3f5f"
            },
            "error_y": {
             "color": "#2a3f5f"
            },
            "marker": {
             "line": {
              "color": "#E5ECF6",
              "width": 0.5
             },
             "pattern": {
              "fillmode": "overlay",
              "size": 10,
              "solidity": 0.2
             }
            },
            "type": "bar"
           }
          ],
          "barpolar": [
           {
            "marker": {
             "line": {
              "color": "#E5ECF6",
              "width": 0.5
             },
             "pattern": {
              "fillmode": "overlay",
              "size": 10,
              "solidity": 0.2
             }
            },
            "type": "barpolar"
           }
          ],
          "carpet": [
           {
            "aaxis": {
             "endlinecolor": "#2a3f5f",
             "gridcolor": "white",
             "linecolor": "white",
             "minorgridcolor": "white",
             "startlinecolor": "#2a3f5f"
            },
            "baxis": {
             "endlinecolor": "#2a3f5f",
             "gridcolor": "white",
             "linecolor": "white",
             "minorgridcolor": "white",
             "startlinecolor": "#2a3f5f"
            },
            "type": "carpet"
           }
          ],
          "choropleth": [
           {
            "colorbar": {
             "outlinewidth": 0,
             "ticks": ""
            },
            "type": "choropleth"
           }
          ],
          "contour": [
           {
            "colorbar": {
             "outlinewidth": 0,
             "ticks": ""
            },
            "colorscale": [
             [
              0,
              "#0d0887"
             ],
             [
              0.1111111111111111,
              "#46039f"
             ],
             [
              0.2222222222222222,
              "#7201a8"
             ],
             [
              0.3333333333333333,
              "#9c179e"
             ],
             [
              0.4444444444444444,
              "#bd3786"
             ],
             [
              0.5555555555555556,
              "#d8576b"
             ],
             [
              0.6666666666666666,
              "#ed7953"
             ],
             [
              0.7777777777777778,
              "#fb9f3a"
             ],
             [
              0.8888888888888888,
              "#fdca26"
             ],
             [
              1,
              "#f0f921"
             ]
            ],
            "type": "contour"
           }
          ],
          "contourcarpet": [
           {
            "colorbar": {
             "outlinewidth": 0,
             "ticks": ""
            },
            "type": "contourcarpet"
           }
          ],
          "heatmap": [
           {
            "colorbar": {
             "outlinewidth": 0,
             "ticks": ""
            },
            "colorscale": [
             [
              0,
              "#0d0887"
             ],
             [
              0.1111111111111111,
              "#46039f"
             ],
             [
              0.2222222222222222,
              "#7201a8"
             ],
             [
              0.3333333333333333,
              "#9c179e"
             ],
             [
              0.4444444444444444,
              "#bd3786"
             ],
             [
              0.5555555555555556,
              "#d8576b"
             ],
             [
              0.6666666666666666,
              "#ed7953"
             ],
             [
              0.7777777777777778,
              "#fb9f3a"
             ],
             [
              0.8888888888888888,
              "#fdca26"
             ],
             [
              1,
              "#f0f921"
             ]
            ],
            "type": "heatmap"
           }
          ],
          "heatmapgl": [
           {
            "colorbar": {
             "outlinewidth": 0,
             "ticks": ""
            },
            "colorscale": [
             [
              0,
              "#0d0887"
             ],
             [
              0.1111111111111111,
              "#46039f"
             ],
             [
              0.2222222222222222,
              "#7201a8"
             ],
             [
              0.3333333333333333,
              "#9c179e"
             ],
             [
              0.4444444444444444,
              "#bd3786"
             ],
             [
              0.5555555555555556,
              "#d8576b"
             ],
             [
              0.6666666666666666,
              "#ed7953"
             ],
             [
              0.7777777777777778,
              "#fb9f3a"
             ],
             [
              0.8888888888888888,
              "#fdca26"
             ],
             [
              1,
              "#f0f921"
             ]
            ],
            "type": "heatmapgl"
           }
          ],
          "histogram": [
           {
            "marker": {
             "pattern": {
              "fillmode": "overlay",
              "size": 10,
              "solidity": 0.2
             }
            },
            "type": "histogram"
           }
          ],
          "histogram2d": [
           {
            "colorbar": {
             "outlinewidth": 0,
             "ticks": ""
            },
            "colorscale": [
             [
              0,
              "#0d0887"
             ],
             [
              0.1111111111111111,
              "#46039f"
             ],
             [
              0.2222222222222222,
              "#7201a8"
             ],
             [
              0.3333333333333333,
              "#9c179e"
             ],
             [
              0.4444444444444444,
              "#bd3786"
             ],
             [
              0.5555555555555556,
              "#d8576b"
             ],
             [
              0.6666666666666666,
              "#ed7953"
             ],
             [
              0.7777777777777778,
              "#fb9f3a"
             ],
             [
              0.8888888888888888,
              "#fdca26"
             ],
             [
              1,
              "#f0f921"
             ]
            ],
            "type": "histogram2d"
           }
          ],
          "histogram2dcontour": [
           {
            "colorbar": {
             "outlinewidth": 0,
             "ticks": ""
            },
            "colorscale": [
             [
              0,
              "#0d0887"
             ],
             [
              0.1111111111111111,
              "#46039f"
             ],
             [
              0.2222222222222222,
              "#7201a8"
             ],
             [
              0.3333333333333333,
              "#9c179e"
             ],
             [
              0.4444444444444444,
              "#bd3786"
             ],
             [
              0.5555555555555556,
              "#d8576b"
             ],
             [
              0.6666666666666666,
              "#ed7953"
             ],
             [
              0.7777777777777778,
              "#fb9f3a"
             ],
             [
              0.8888888888888888,
              "#fdca26"
             ],
             [
              1,
              "#f0f921"
             ]
            ],
            "type": "histogram2dcontour"
           }
          ],
          "mesh3d": [
           {
            "colorbar": {
             "outlinewidth": 0,
             "ticks": ""
            },
            "type": "mesh3d"
           }
          ],
          "parcoords": [
           {
            "line": {
             "colorbar": {
              "outlinewidth": 0,
              "ticks": ""
             }
            },
            "type": "parcoords"
           }
          ],
          "pie": [
           {
            "automargin": true,
            "type": "pie"
           }
          ],
          "scatter": [
           {
            "fillpattern": {
             "fillmode": "overlay",
             "size": 10,
             "solidity": 0.2
            },
            "type": "scatter"
           }
          ],
          "scatter3d": [
           {
            "line": {
             "colorbar": {
              "outlinewidth": 0,
              "ticks": ""
             }
            },
            "marker": {
             "colorbar": {
              "outlinewidth": 0,
              "ticks": ""
             }
            },
            "type": "scatter3d"
           }
          ],
          "scattercarpet": [
           {
            "marker": {
             "colorbar": {
              "outlinewidth": 0,
              "ticks": ""
             }
            },
            "type": "scattercarpet"
           }
          ],
          "scattergeo": [
           {
            "marker": {
             "colorbar": {
              "outlinewidth": 0,
              "ticks": ""
             }
            },
            "type": "scattergeo"
           }
          ],
          "scattergl": [
           {
            "marker": {
             "colorbar": {
              "outlinewidth": 0,
              "ticks": ""
             }
            },
            "type": "scattergl"
           }
          ],
          "scattermapbox": [
           {
            "marker": {
             "colorbar": {
              "outlinewidth": 0,
              "ticks": ""
             }
            },
            "type": "scattermapbox"
           }
          ],
          "scatterpolar": [
           {
            "marker": {
             "colorbar": {
              "outlinewidth": 0,
              "ticks": ""
             }
            },
            "type": "scatterpolar"
           }
          ],
          "scatterpolargl": [
           {
            "marker": {
             "colorbar": {
              "outlinewidth": 0,
              "ticks": ""
             }
            },
            "type": "scatterpolargl"
           }
          ],
          "scatterternary": [
           {
            "marker": {
             "colorbar": {
              "outlinewidth": 0,
              "ticks": ""
             }
            },
            "type": "scatterternary"
           }
          ],
          "surface": [
           {
            "colorbar": {
             "outlinewidth": 0,
             "ticks": ""
            },
            "colorscale": [
             [
              0,
              "#0d0887"
             ],
             [
              0.1111111111111111,
              "#46039f"
             ],
             [
              0.2222222222222222,
              "#7201a8"
             ],
             [
              0.3333333333333333,
              "#9c179e"
             ],
             [
              0.4444444444444444,
              "#bd3786"
             ],
             [
              0.5555555555555556,
              "#d8576b"
             ],
             [
              0.6666666666666666,
              "#ed7953"
             ],
             [
              0.7777777777777778,
              "#fb9f3a"
             ],
             [
              0.8888888888888888,
              "#fdca26"
             ],
             [
              1,
              "#f0f921"
             ]
            ],
            "type": "surface"
           }
          ],
          "table": [
           {
            "cells": {
             "fill": {
              "color": "#EBF0F8"
             },
             "line": {
              "color": "white"
             }
            },
            "header": {
             "fill": {
              "color": "#C8D4E3"
             },
             "line": {
              "color": "white"
             }
            },
            "type": "table"
           }
          ]
         },
         "layout": {
          "annotationdefaults": {
           "arrowcolor": "#2a3f5f",
           "arrowhead": 0,
           "arrowwidth": 1
          },
          "autotypenumbers": "strict",
          "coloraxis": {
           "colorbar": {
            "outlinewidth": 0,
            "ticks": ""
           }
          },
          "colorscale": {
           "diverging": [
            [
             0,
             "#8e0152"
            ],
            [
             0.1,
             "#c51b7d"
            ],
            [
             0.2,
             "#de77ae"
            ],
            [
             0.3,
             "#f1b6da"
            ],
            [
             0.4,
             "#fde0ef"
            ],
            [
             0.5,
             "#f7f7f7"
            ],
            [
             0.6,
             "#e6f5d0"
            ],
            [
             0.7,
             "#b8e186"
            ],
            [
             0.8,
             "#7fbc41"
            ],
            [
             0.9,
             "#4d9221"
            ],
            [
             1,
             "#276419"
            ]
           ],
           "sequential": [
            [
             0,
             "#0d0887"
            ],
            [
             0.1111111111111111,
             "#46039f"
            ],
            [
             0.2222222222222222,
             "#7201a8"
            ],
            [
             0.3333333333333333,
             "#9c179e"
            ],
            [
             0.4444444444444444,
             "#bd3786"
            ],
            [
             0.5555555555555556,
             "#d8576b"
            ],
            [
             0.6666666666666666,
             "#ed7953"
            ],
            [
             0.7777777777777778,
             "#fb9f3a"
            ],
            [
             0.8888888888888888,
             "#fdca26"
            ],
            [
             1,
             "#f0f921"
            ]
           ],
           "sequentialminus": [
            [
             0,
             "#0d0887"
            ],
            [
             0.1111111111111111,
             "#46039f"
            ],
            [
             0.2222222222222222,
             "#7201a8"
            ],
            [
             0.3333333333333333,
             "#9c179e"
            ],
            [
             0.4444444444444444,
             "#bd3786"
            ],
            [
             0.5555555555555556,
             "#d8576b"
            ],
            [
             0.6666666666666666,
             "#ed7953"
            ],
            [
             0.7777777777777778,
             "#fb9f3a"
            ],
            [
             0.8888888888888888,
             "#fdca26"
            ],
            [
             1,
             "#f0f921"
            ]
           ]
          },
          "colorway": [
           "#636efa",
           "#EF553B",
           "#00cc96",
           "#ab63fa",
           "#FFA15A",
           "#19d3f3",
           "#FF6692",
           "#B6E880",
           "#FF97FF",
           "#FECB52"
          ],
          "font": {
           "color": "#2a3f5f"
          },
          "geo": {
           "bgcolor": "white",
           "lakecolor": "white",
           "landcolor": "#E5ECF6",
           "showlakes": true,
           "showland": true,
           "subunitcolor": "white"
          },
          "hoverlabel": {
           "align": "left"
          },
          "hovermode": "closest",
          "mapbox": {
           "style": "light"
          },
          "paper_bgcolor": "white",
          "plot_bgcolor": "#E5ECF6",
          "polar": {
           "angularaxis": {
            "gridcolor": "white",
            "linecolor": "white",
            "ticks": ""
           },
           "bgcolor": "#E5ECF6",
           "radialaxis": {
            "gridcolor": "white",
            "linecolor": "white",
            "ticks": ""
           }
          },
          "scene": {
           "xaxis": {
            "backgroundcolor": "#E5ECF6",
            "gridcolor": "white",
            "gridwidth": 2,
            "linecolor": "white",
            "showbackground": true,
            "ticks": "",
            "zerolinecolor": "white"
           },
           "yaxis": {
            "backgroundcolor": "#E5ECF6",
            "gridcolor": "white",
            "gridwidth": 2,
            "linecolor": "white",
            "showbackground": true,
            "ticks": "",
            "zerolinecolor": "white"
           },
           "zaxis": {
            "backgroundcolor": "#E5ECF6",
            "gridcolor": "white",
            "gridwidth": 2,
            "linecolor": "white",
            "showbackground": true,
            "ticks": "",
            "zerolinecolor": "white"
           }
          },
          "shapedefaults": {
           "line": {
            "color": "#2a3f5f"
           }
          },
          "ternary": {
           "aaxis": {
            "gridcolor": "white",
            "linecolor": "white",
            "ticks": ""
           },
           "baxis": {
            "gridcolor": "white",
            "linecolor": "white",
            "ticks": ""
           },
           "bgcolor": "#E5ECF6",
           "caxis": {
            "gridcolor": "white",
            "linecolor": "white",
            "ticks": ""
           }
          },
          "title": {
           "x": 0.05
          },
          "xaxis": {
           "automargin": true,
           "gridcolor": "white",
           "linecolor": "white",
           "ticks": "",
           "title": {
            "standoff": 15
           },
           "zerolinecolor": "white",
           "zerolinewidth": 2
          },
          "yaxis": {
           "automargin": true,
           "gridcolor": "white",
           "linecolor": "white",
           "ticks": "",
           "title": {
            "standoff": 15
           },
           "zerolinecolor": "white",
           "zerolinewidth": 2
          }
         }
        },
        "title": {
         "text": "Distribution of Wine Points (Quality Ratings)"
        },
        "xaxis": {
         "anchor": "y",
         "domain": [
          0,
          1
         ],
         "title": {
          "text": "Points"
         }
        },
        "yaxis": {
         "anchor": "x",
         "domain": [
          0,
          1
         ],
         "title": {
          "text": "count"
         }
        }
       }
      }
     },
     "metadata": {},
     "output_type": "display_data"
    }
   ],
   "source": [
    "# Plot histogram\n",
    "fig = px.histogram(wine_df, x=\"points\", nbins=20, color=\"country\",\n",
    "                   title=\"Distribution of Wine Points (Quality Ratings)\",\n",
    "                   labels={\"points\": \"Points\"})\n",
    "fig.show()\n"
   ]
  }
 ],
 "metadata": {
  "kernelspec": {
   "display_name": "Python 3",
   "language": "python",
   "name": "python3"
  },
  "language_info": {
   "codemirror_mode": {
    "name": "ipython",
    "version": 3
   },
   "file_extension": ".py",
   "mimetype": "text/x-python",
   "name": "python",
   "nbconvert_exporter": "python",
   "pygments_lexer": "ipython3",
   "version": "3.12.4"
  }
 },
 "nbformat": 4,
 "nbformat_minor": 2
}
